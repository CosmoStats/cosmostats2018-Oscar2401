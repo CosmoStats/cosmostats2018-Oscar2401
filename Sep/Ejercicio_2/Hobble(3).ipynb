{
 "cells": [
  {
   "cell_type": "markdown",
   "metadata": {},
   "source": [
    "# Bayes' theorem\n",
    "\n",
    "Bayesheorem is a formala that describes how to update the probabilities of hypotheses when given evidence.\n",
    "\n",
    "Given a hypothesis $\\theta$ and evidence $x$, Bayes' theorem states that the relationship between the propability of the hypothesis before getting the evidence $P(\\theta)$ and the probability of hypothesis after getting the evidence $P(\\theta | x)$ is:\n",
    "\n",
    "\\begin{equation}\n",
    "P(\\theta|x)=\\frac{P(\\theta \\cap x)}{P(x)}=\\frac{P(x|\\theta)· P(\\theta)}{P(x)}\n",
    "\\end{equation}\n",
    "\n",
    "Here we use $P(x|\\theta)$ as the likelihood, $P(\\theta)$ is the prior, that is the probability that appear $\\theta$ in the model and $P(x)$ is the evidence, the probobility of observing the datas given the true model."
   ]
  },
  {
   "cell_type": "code",
   "execution_count": 4,
   "metadata": {},
   "outputs": [],
   "source": [
    "#librerias a usar \n",
    "import matplotlib. pyplot as plt\n",
    "import numpy as np\n",
    "import random\n",
    "import scipy\n",
    "import scipy.special\n",
    "import math\n",
    "from scipy.optimize import minimize\n",
    "import scipy.stats as stats\n",
    "import time\n",
    "%matplotlib inline"
   ]
  },
  {
   "cell_type": "code",
   "execution_count": 5,
   "metadata": {},
   "outputs": [],
   "source": [
    "tb1=np.loadtxt('jla_mub_covmatrix.dat')\n",
    "tb2=np.loadtxt('jla_mub.txt')\n",
    "\n",
    "# divido los datos de jla_mub.txt en dos arrelgos z y mu \n",
    "z=tb2[:,0]\n",
    "mu=tb2[:,1]"
   ]
  },
  {
   "cell_type": "code",
   "execution_count": 6,
   "metadata": {},
   "outputs": [],
   "source": [
    "#arreglo los datos de jla_mud_covmatrix.dat en una matriz de 31x31\n",
    "covmatrix=[]\n",
    "for i in range(31):\n",
    "    row=[]\n",
    "    for j in range(31):\n",
    "        row.append(tb1[(31*i)+j])\n",
    "    covmatrix.append(row)"
   ]
  },
  {
   "cell_type": "code",
   "execution_count": 7,
   "metadata": {},
   "outputs": [],
   "source": [
    "#Pongo las varianzas de la matriz anterior (que se encuentran en la diagunal) en un arreglo.  \n",
    "var=[]\n",
    "for i in range(31):\n",
    "    var.append(covmatrix[i][i])"
   ]
  },
  {
   "cell_type": "code",
   "execution_count": 8,
   "metadata": {},
   "outputs": [],
   "source": [
    "def sss(omg):\n",
    "    return pow((1-omg)/omg,(1/3))"
   ]
  },
  {
   "cell_type": "code",
   "execution_count": 9,
   "metadata": {},
   "outputs": [],
   "source": [
    "def eta(a,omg):\n",
    "    r=np.sqrt(pow(sss(omg),3)+1)\n",
    "    return 2*r*pow((pow(a,-4)-(0.1540*sss(omg)*pow(a,-3))+(0.4304*pow(sss(omg),2)*pow(a,-2))+(0.19097*pow(sss(omg),3)*pow(a,-1))+(0.066941*pow(sss(omg),4))),-1/8)"
   ]
  },
  {
   "cell_type": "code",
   "execution_count": 10,
   "metadata": {},
   "outputs": [],
   "source": [
    "def D_L(z,omg,H):\n",
    "    return (299792.458/H)*(1+z)*(eta(1,omg)-eta((1/(1+z)),omg))"
   ]
  },
  {
   "cell_type": "code",
   "execution_count": 11,
   "metadata": {},
   "outputs": [],
   "source": [
    "def mud(z,omg,H):\n",
    "    return 25+(5*np.log10(D_L(z,omg,H)))-(5*np.log10(H/100))"
   ]
  },
  {
   "cell_type": "code",
   "execution_count": 26,
   "metadata": {},
   "outputs": [],
   "source": [
    "def lnlik (z,mu,var, P_ini):\n",
    "    fp=open('Tabla_datos_bayes(3).dat',\"w\")\n",
    "    \n",
    "    #Likelihood con datos iniciales.\n",
    "    omg0= P_ini[2] #0.4\n",
    "    H0= P_ini[0] #70.0\n",
    "    sigma1= P_ini[3] #0.05\n",
    "    sigma2= P_ini[1] #2\n",
    "    lk0=0\n",
    "    \n",
    "    for k in range(len(z)):\n",
    "        lk0=lk0+(pow((mu[k]-mud(z[k],omg0,H0)),2)/var[k])\n",
    "    lk0=-lk0/2.0    \n",
    "   \n",
    "    #Likliehood con nuevos doatos.\n",
    "    for i in range(10000):\n",
    "        \n",
    "        omg=np.random.normal(omg0,sigma1)\n",
    "        H=np.random.normal(H0,sigma2)\n",
    "        \n",
    "        if omg>0 and H>0: \n",
    "            lki=0 \n",
    "            for j in range(len(z)):\n",
    "                lki=lki+(pow((mu[j]-mud(z[j],omg,H)),2)/var[j])\n",
    "            lki=-lki/2.0   \n",
    "            if lki>lk0:\n",
    "                omg0=omg\n",
    "                H0=H\n",
    "                lk0=lki\n",
    "                fp.write(\"%f  \\t%f \\n\" % (H0,omg0))\n",
    "            else:\n",
    "                pro=random.randrange(1,100000000)/100000000\n",
    "                diff=lki-lk0\n",
    "                if diff>np.log(pro):\n",
    "                    omg0=omg\n",
    "                    H0=H\n",
    "                    fp.write(\"%f  \\t%f \\n\" % (H0,omg0))\n",
    "    fp.close()"
   ]
  },
  {
   "cell_type": "code",
   "execution_count": 56,
   "metadata": {},
   "outputs": [],
   "source": [
    "def lnbys (z,mu,var, P_ini):\n",
    "    fp=open('Tabla_datos_bayes(3).dat',\"w\")\n",
    "    \n",
    "    #Likelihood con datos iniciales.\n",
    "    omg0= P_ini[2] #0.4\n",
    "    H0= P_ini[0] #70.0\n",
    "    sigma1= P_ini[3] #0.05\n",
    "    sigma2= P_ini[1] #2\n",
    "    lk0=0\n",
    "    \n",
    "    for k in range(len(z)):\n",
    "        lk0=lk0-0.5*(pow((mu[k]-mud(z[k],omg0,H0)),2)/var[k])\n",
    "    by0=lk0\n",
    "    \n",
    "    #Likliehood con nuevos doatos.\n",
    "    for i in range(10000):\n",
    "        \n",
    "        omg=x=random.triangular(50,100,omg0)\n",
    "        H=x=random.triangular(0,1,H0)\n",
    "        \n",
    "        if (0<omg and 0<H): \n",
    "            lki=0 \n",
    "            for j in range(len(z)):\n",
    "                lki=lki-0.5*(pow((mu[j]-mud(z[j],omg,H)),2)/var[j])\n",
    "            \n",
    "            byi=lki \n",
    "            \n",
    "            if byi>by0:\n",
    "                omg0=omg\n",
    "                H0=H\n",
    "                by0=byi\n",
    "                fp.write(\"%f  \\t%f \\n\" % (H0,omg0))\n",
    "            else:\n",
    "                pro=random.randrange(1,100000000)/100000000\n",
    "                diff=byi-by0\n",
    "                if diff>np.log(pro):\n",
    "                    omg0=omg\n",
    "                    H0=H\n",
    "                    fp.write(\"%f  \\t%f \\n\" % (H0,omg0))\n",
    "    fp.close()"
   ]
  },
  {
   "cell_type": "code",
   "execution_count": 57,
   "metadata": {},
   "outputs": [
    {
     "name": "stdout",
     "output_type": "stream",
     "text": [
      "How many walkers do you want?: 1\n",
      "\n",
      " walker  1\n",
      "initial parameter of $H_0$: 70\n",
      "initial parameter of $\\sigma_{H_0$}$: 2\n",
      "initial parameter of $\\Omega_0$: 0.5\n",
      "initial parameter of $\\sigma_{\\Omega_0}$: 0.05\n"
     ]
    },
    {
     "name": "stderr",
     "output_type": "stream",
     "text": [
      "/usr/lib/python3/dist-packages/ipykernel_launcher.py:18: UserWarning: loadtxt: Empty input file: \"Tabla_datos_bayes(3).dat\"\n"
     ]
    },
    {
     "ename": "IndexError",
     "evalue": "too many indices for array",
     "output_type": "error",
     "traceback": [
      "\u001b[0;31m--------------------------------------------------------------------------\u001b[0m",
      "\u001b[0;31mIndexError\u001b[0m                               Traceback (most recent call last)",
      "\u001b[0;32m<ipython-input-57-5aaaf2f172a9>\u001b[0m in \u001b[0;36m<module>\u001b[0;34m()\u001b[0m\n\u001b[1;32m     17\u001b[0m \u001b[0;34m\u001b[0m\u001b[0m\n\u001b[1;32m     18\u001b[0m     \u001b[0mtbla1\u001b[0m\u001b[0;34m=\u001b[0m\u001b[0mnp\u001b[0m\u001b[0;34m.\u001b[0m\u001b[0mloadtxt\u001b[0m\u001b[0;34m(\u001b[0m\u001b[0;34m'Tabla_datos_bayes(3).dat'\u001b[0m\u001b[0;34m)\u001b[0m\u001b[0;34m\u001b[0m\u001b[0m\n\u001b[0;32m---> 19\u001b[0;31m     \u001b[0mH\u001b[0m\u001b[0;34m[\u001b[0m\u001b[0mi\u001b[0m\u001b[0;34m]\u001b[0m\u001b[0;34m=\u001b[0m\u001b[0mtbla1\u001b[0m\u001b[0;34m[\u001b[0m\u001b[0;34m:\u001b[0m\u001b[0;34m,\u001b[0m\u001b[0;36m0\u001b[0m\u001b[0;34m]\u001b[0m\u001b[0;34m\u001b[0m\u001b[0m\n\u001b[0m\u001b[1;32m     20\u001b[0m     \u001b[0momh\u001b[0m\u001b[0;34m[\u001b[0m\u001b[0mi\u001b[0m\u001b[0;34m]\u001b[0m\u001b[0;34m=\u001b[0m\u001b[0mtbla1\u001b[0m\u001b[0;34m[\u001b[0m\u001b[0;34m:\u001b[0m\u001b[0;34m,\u001b[0m\u001b[0;36m1\u001b[0m\u001b[0;34m]\u001b[0m\u001b[0;34m\u001b[0m\u001b[0m\n\u001b[1;32m     21\u001b[0m     \u001b[0mplt\u001b[0m\u001b[0;34m.\u001b[0m\u001b[0mplot\u001b[0m\u001b[0;34m(\u001b[0m\u001b[0mH\u001b[0m\u001b[0;34m[\u001b[0m\u001b[0mi\u001b[0m\u001b[0;34m]\u001b[0m\u001b[0;34m,\u001b[0m\u001b[0momh\u001b[0m\u001b[0;34m[\u001b[0m\u001b[0mi\u001b[0m\u001b[0;34m]\u001b[0m\u001b[0;34m,\u001b[0m\u001b[0;34m'.'\u001b[0m\u001b[0;34m)\u001b[0m\u001b[0;34m\u001b[0m\u001b[0m\n",
      "\u001b[0;31mIndexError\u001b[0m: too many indices for array"
     ]
    },
    {
     "data": {
      "text/plain": [
       "<Figure size 432x288 with 0 Axes>"
      ]
     },
     "metadata": {},
     "output_type": "display_data"
    },
    {
     "data": {
      "text/plain": [
       "<Figure size 720x360 with 0 Axes>"
      ]
     },
     "metadata": {},
     "output_type": "display_data"
    }
   ],
   "source": [
    "n=int(input('How many walkers do you want?: '))\n",
    "\n",
    "P_ini=[[]for i in range(n)]\n",
    "H=[[]for i  in range(n)]\n",
    "omh=[[]for i in range(n)]\n",
    "\n",
    "plt.figure(1)\n",
    "plt.figure(figsize=(10,5))\n",
    "\n",
    "for i in range(len(P_ini)):\n",
    "    print('\\n walker ',i+1)\n",
    "    P_ini[i].append(float(input('initial parameter of $H_0$: ')))\n",
    "    P_ini[i].append(float(input('initial parameter of $\\sigma_{H_0$}$: ')))\n",
    "    P_ini[i].append(float(input('initial parameter of $\\Omega_0$: ')))\n",
    "    P_ini[i].append(float(input('initial parameter of $\\sigma_{\\Omega_0}$: ')))\n",
    "    lnbys(z,mu,var,P_ini[i])\n",
    "\n",
    "    tbla1=np.loadtxt('Tabla_datos_bayes(3).dat')\n",
    "    H[i]=tbla1[:,0]\n",
    "    omh[i]=tbla1[:,1]\n",
    "    plt.plot(H[i],omh[i],'.')\n",
    "    \n",
    "#X=np.array(P_ini)\n",
    "#plt.xlim(np.amin(X[:,0]),)\n",
    "plt.xlabel('$H_0$',fontsize = 18)\n",
    "plt.ylabel('$\\Omega_m$',fontsize = 18)\n",
    "plt.title(r'Constante de Hobble', fontsize = 18)\n",
    "plt.legend(fontsize = 18)\n",
    "plt.plot(1)"
   ]
  },
  {
   "cell_type": "code",
   "execution_count": null,
   "metadata": {},
   "outputs": [],
   "source": []
  },
  {
   "cell_type": "code",
   "execution_count": null,
   "metadata": {},
   "outputs": [],
   "source": []
  }
 ],
 "metadata": {
  "kernelspec": {
   "display_name": "Python 3",
   "language": "python",
   "name": "python3"
  },
  "language_info": {
   "codemirror_mode": {
    "name": "ipython",
    "version": 3
   },
   "file_extension": ".py",
   "mimetype": "text/x-python",
   "name": "python",
   "nbconvert_exporter": "python",
   "pygments_lexer": "ipython3",
   "version": "3.6.5"
  }
 },
 "nbformat": 4,
 "nbformat_minor": 2
}
