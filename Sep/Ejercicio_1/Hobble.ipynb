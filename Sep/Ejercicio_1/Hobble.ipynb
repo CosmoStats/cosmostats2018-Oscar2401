{
 "cells": [
  {
   "cell_type": "markdown",
   "metadata": {},
   "source": [
    "# Hubble constant"
   ]
  },
  {
   "cell_type": "markdown",
   "metadata": {},
   "source": [
    "Find cosmological parameters with SuperNova Data"
   ]
  },
  {
   "cell_type": "code",
   "execution_count": 66,
   "metadata": {},
   "outputs": [],
   "source": [
    "#librerias a usar \n",
    "import matplotlib. pyplot as plt\n",
    "import numpy as np\n",
    "import random\n",
    "import scipy\n",
    "import scipy.special\n",
    "\n",
    "from scipy.optimize import minimize\n",
    "import scipy.stats as stats\n",
    "import time\n",
    "%matplotlib inline"
   ]
  },
  {
   "cell_type": "code",
   "execution_count": 67,
   "metadata": {},
   "outputs": [],
   "source": [
    "tb1=np.loadtxt('jla_mub_covmatrix.dat')\n",
    "tb2=np.loadtxt('jla_mub.txt')\n",
    "\n",
    "# divido los datos de jla_mub.txt en dos arrelgos z y mu \n",
    "z=tb2[:,0]\n",
    "mu=tb2[:,1]"
   ]
  },
  {
   "cell_type": "code",
   "execution_count": 68,
   "metadata": {},
   "outputs": [],
   "source": [
    "#arreglo los datos de jla_mud_covmatrix.dat en una matriz de 31x31\n",
    "covmatrix=[]\n",
    "for i in range(31):\n",
    "    row=[]\n",
    "    for j in range(31):\n",
    "        row.append(tb1[i+j])\n",
    "    covmatrix.append(row)"
   ]
  },
  {
   "cell_type": "code",
   "execution_count": 69,
   "metadata": {},
   "outputs": [],
   "source": [
    "#Pongo las varianzas de la matriz anterior (que se encuentran en la diagunal) en un arreglo.  \n",
    "var=[]\n",
    "i=0\n",
    "for i in range(31):\n",
    "    var.append(covmatrix[i][i])"
   ]
  },
  {
   "cell_type": "code",
   "execution_count": 70,
   "metadata": {},
   "outputs": [],
   "source": [
    "def sss(omg):\n",
    "    return pow((1-omg)/omg,(1/3))"
   ]
  },
  {
   "cell_type": "code",
   "execution_count": 71,
   "metadata": {},
   "outputs": [],
   "source": [
    "def eta(a,omg):\n",
    "    r=pow(pow(sss(omg),3)+1,0.5)\n",
    "    return 2*r*pow((pow(a,-4)-(0.1540*sss(omg)*pow(a,-3))+(0.4304*pow(sss(omg),2)*pow(a,-2))+(0.19097*pow(sss(omg),3)*pow(a,-1))+(0.06694*pow(sss(omg),4))),-1/8)"
   ]
  },
  {
   "cell_type": "code",
   "execution_count": 72,
   "metadata": {},
   "outputs": [],
   "source": [
    "#Solución aproximada\n",
    "def D_L(z,omg):\n",
    "    return (300000/67.3)*(1+z)*(eta(1,omg)-eta((1/(1+z)),omg))"
   ]
  },
  {
   "cell_type": "code",
   "execution_count": 73,
   "metadata": {},
   "outputs": [],
   "source": [
    "def lnlik (n,x,var,mu):\n",
    "    sum=0\n",
    "    for i in range(n):\n",
    "       sum=sum+math.log1p((1/(2*np.pi*var[i]))-(pow((x[i]-mu[i]),2)/var[i]))\n",
    "    return (sum/2)"
   ]
  },
  {
   "cell_type": "code",
   "execution_count": null,
   "metadata": {},
   "outputs": [],
   "source": []
  },
  {
   "cell_type": "code",
   "execution_count": null,
   "metadata": {},
   "outputs": [],
   "source": []
  }
 ],
 "metadata": {
  "kernelspec": {
   "display_name": "Python 3",
   "language": "python",
   "name": "python3"
  },
  "language_info": {
   "codemirror_mode": {
    "name": "ipython",
    "version": 3
   },
   "file_extension": ".py",
   "mimetype": "text/x-python",
   "name": "python",
   "nbconvert_exporter": "python",
   "pygments_lexer": "ipython3",
   "version": "3.6.5"
  }
 },
 "nbformat": 4,
 "nbformat_minor": 2
}
