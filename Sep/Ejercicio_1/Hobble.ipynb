{
 "cells": [
  {
   "cell_type": "markdown",
   "metadata": {},
   "source": [
    "# Hubble constant"
   ]
  },
  {
   "cell_type": "markdown",
   "metadata": {},
   "source": [
    "Find cosmological parameters with SuperNova Data"
   ]
  },
  {
   "cell_type": "code",
   "execution_count": 3,
   "metadata": {},
   "outputs": [],
   "source": [
    "#librerias a usar \n",
    "import matplotlib. pyplot as plt\n",
    "import numpy as np\n",
    "import random\n",
    "import scipy\n",
    "import scipy.special\n",
    "import math\n",
    "from scipy.optimize import minimize\n",
    "import scipy.stats as stats\n",
    "import time\n",
    "%matplotlib inline"
   ]
  },
  {
   "cell_type": "code",
   "execution_count": 4,
   "metadata": {},
   "outputs": [],
   "source": [
    "tb1=np.loadtxt('jla_mub_covmatrix.dat')\n",
    "tb2=np.loadtxt('jla_mub.txt')\n",
    "\n",
    "# divido los datos de jla_mub.txt en dos arrelgos z y mu \n",
    "z=tb2[:,0]\n",
    "mu=tb2[:,1]"
   ]
  },
  {
   "cell_type": "code",
   "execution_count": 13,
   "metadata": {},
   "outputs": [],
   "source": [
    "#arreglo los datos de jla_mud_covmatrix.dat en una matriz de 31x31\n",
    "covmatrix=[]\n",
    "for i in range(31):\n",
    "    row=[]\n",
    "    for j in range(31):\n",
    "        row.append(tb1[(31*i)+j])\n",
    "    covmatrix.append(row)"
   ]
  },
  {
   "cell_type": "code",
   "execution_count": 24,
   "metadata": {},
   "outputs": [],
   "source": [
    "#Pongo las varianzas de la matriz anterior (que se encuentran en la diagunal) en un arreglo.  \n",
    "var=[]\n",
    "i=0\n",
    "for i in range(31):\n",
    "    var.append(covmatrix[i][i])"
   ]
  },
  {
   "cell_type": "code",
   "execution_count": 25,
   "metadata": {},
   "outputs": [],
   "source": [
    "def sss(omg):\n",
    "    return pow((1-omg)/omg,(1/3))"
   ]
  },
  {
   "cell_type": "code",
   "execution_count": 26,
   "metadata": {},
   "outputs": [],
   "source": [
    "def eta(a,omg):\n",
    "    r=pow(pow(sss(omg),3)+1,0.5)\n",
    "    return 2*r*pow((pow(a,-4)-(0.1540*sss(omg)*pow(a,-3))+(0.4304*pow(sss(omg),2)*pow(a,-2))+(0.19097*pow(sss(omg),3)*pow(a,-1))+(0.06694*pow(sss(omg),4))),-1/8)"
   ]
  },
  {
   "cell_type": "code",
   "execution_count": 27,
   "metadata": {},
   "outputs": [],
   "source": [
    "#Solución aproximada\n",
    "def D_L(z,omg,H):\n",
    "    return (300000/H)*(1+z)*(eta(1,omg)-eta((1/(1+z)),omg))"
   ]
  },
  {
   "cell_type": "code",
   "execution_count": 231,
   "metadata": {},
   "outputs": [],
   "source": [
    "def mud(z,omg,H):\n",
    "    return 25-(5*np.log10(H/100))+(5*np.log10(D_L(z,omg,H)))"
   ]
  },
  {
   "cell_type": "code",
   "execution_count": 332,
   "metadata": {},
   "outputs": [],
   "source": [
    "def lnlik (z,mu,var):\n",
    "    \n",
    "    fp=open('Tabla_datos.dat',\"w\")\n",
    "    #fp.write(\"#Ho\\tOmega\\n\")\n",
    "        \n",
    "    #Datos iniciales\n",
    "    omg0=0.4\n",
    "    H0=50.0\n",
    "    sigma1=0.05\n",
    "    sigma2=2\n",
    "    \n",
    "    lk0=0\n",
    "    for k in range(len(z)):\n",
    "        lk0=lk0+(pow((mu[k]-mud(z[k],omg0,H0)),2)/var[k])\n",
    "    lk0=-lk0/2.0    \n",
    "    \n",
    "    #Datos nuevos\n",
    "    for i in range(10000):\n",
    "        omg=np.random.normal(omg0,sigma1)\n",
    "        H=np.random.normal(H0,sigma2)\n",
    "        \n",
    "        fp.write(\"%f  \\t%f \\n\" % (H0,omg0))\n",
    "        if omg>0 and H>0:\n",
    "            lki=0 \n",
    "            for j in range(len(z)):\n",
    "                lki=lki+(pow((mu[j]-mud(z[j],omg,H)),2)/var[j])\n",
    "            \n",
    "            lki=-lki/2.0   \n",
    "        \n",
    "            #print(lki,' ',lk0,' ',omg0,' ',omg,' ',H0,' ',H)\n",
    "            if lki>lk0:\n",
    "                omg0=omg\n",
    "                H0=H\n",
    "                lk0=lki\n",
    "            \n",
    "            else:\n",
    "                pro=random.randrange(1,1000000000)/1000000000\n",
    "                diff=lki-lk0\n",
    "                if diff>math.log(pro):\n",
    "                    omg0=omg\n",
    "                    H0=H\n",
    "    fp.close()"
   ]
  },
  {
   "cell_type": "code",
   "execution_count": 333,
   "metadata": {},
   "outputs": [],
   "source": [
    "lnlik(z,mu,var)"
   ]
  },
  {
   "cell_type": "code",
   "execution_count": 335,
   "metadata": {},
   "outputs": [
    {
     "name": "stderr",
     "output_type": "stream",
     "text": [
      "No handles with labels found to put in legend.\n"
     ]
    },
    {
     "data": {
      "text/plain": [
       "<matplotlib.legend.Legend at 0x7f35af022470>"
      ]
     },
     "execution_count": 335,
     "metadata": {},
     "output_type": "execute_result"
    },
    {
     "data": {
      "image/png": "[encoded data removed]",
      "text/plain": [
       "<Figure size 432x288 with 1 Axes>"
      ]
     },
     "metadata": {},
     "output_type": "display_data"
    }
   ],
   "source": [
    "tbla1=np.loadtxt('Tabla_datos.dat')\n",
    "H1=tbla1[:,0]\n",
    "omh1=tbla1[:,1]\n",
    "plt.plot(H1,omh1,'r.')\n",
    "#plt.ylim(0,0.5)\n",
    "#plt.xlim(82,87)\n",
    "plt.xlabel('$H_0$',fontsize = 18)\n",
    "plt.ylabel('$\\Omega_m$',fontsize = 18)\n",
    "plt.title(r'Constante de Hobble', fontsize = 18)\n",
    "plt.legend(fontsize = 18)"
   ]
  },
  {
   "cell_type": "code",
   "execution_count": null,
   "metadata": {},
   "outputs": [],
   "source": []
  },
  {
   "cell_type": "code",
   "execution_count": null,
   "metadata": {},
   "outputs": [],
   "source": []
  }
 ],
 "metadata": {
  "kernelspec": {
   "display_name": "Python 3",
   "language": "python",
   "name": "python3"
  },
  "language_info": {
   "codemirror_mode": {
    "name": "ipython",
    "version": 3
   },
   "file_extension": ".py",
   "mimetype": "text/x-python",
   "name": "python",
   "nbconvert_exporter": "python",
   "pygments_lexer": "ipython3",
   "version": "3.6.5"
  }
 },
 "nbformat": 4,
 "nbformat_minor": 2
}
