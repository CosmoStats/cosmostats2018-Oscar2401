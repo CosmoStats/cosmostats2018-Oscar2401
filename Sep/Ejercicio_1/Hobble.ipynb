{
 "cells": [
  {
   "cell_type": "markdown",
   "metadata": {},
   "source": [
    "# Hubble constant"
   ]
  },
  {
   "cell_type": "markdown",
   "metadata": {},
   "source": [
    "Find cosmological parameters with SuperNova Data:"
   ]
  },
  {
   "cell_type": "code",
   "execution_count": 2,
   "metadata": {},
   "outputs": [],
   "source": [
    "#librerias a usar \n",
    "import matplotlib. pyplot as plt\n",
    "import numpy as np\n",
    "import random\n",
    "import scipy\n",
    "import scipy.special\n",
    "import math\n",
    "from scipy.optimize import minimize\n",
    "import scipy.stats as stats\n",
    "import time\n",
    "%matplotlib inline"
   ]
  },
  {
   "cell_type": "code",
   "execution_count": 3,
   "metadata": {},
   "outputs": [],
   "source": [
    "tb1=np.loadtxt('jla_mub_covmatrix.dat')\n",
    "tb2=np.loadtxt('jla_mub.txt')\n",
    "\n",
    "# divido los datos de jla_mub.txt en dos arrelgos z y mu \n",
    "z=tb2[:,0]\n",
    "mu=tb2[:,1]"
   ]
  },
  {
   "cell_type": "code",
   "execution_count": 4,
   "metadata": {},
   "outputs": [
    {
     "data": {
      "text/plain": [
       "[<matplotlib.lines.Line2D at 0x7f2ffef2d710>]"
      ]
     },
     "execution_count": 4,
     "metadata": {},
     "output_type": "execute_result"
    },
    {
     "data": {
      "image/png": "[encoded data removed]",
      "text/plain": [
       "<Figure size 432x288 with 1 Axes>"
      ]
     },
     "metadata": {},
     "output_type": "display_data"
    }
   ],
   "source": [
    "#Grafica de los datos de \"jla_mub.txt\"\n",
    "plt.xlabel('$Z$',fontsize = 18)\n",
    "plt.ylabel('$\\mu$',fontsize = 18)\n",
    "plt.plot(z,mu, 'ro')\n",
    "plt.plot(z,mu, 'b-')"
   ]
  },
  {
   "cell_type": "code",
   "execution_count": 5,
   "metadata": {},
   "outputs": [],
   "source": [
    "#arreglo los datos de jla_mud_covmatrix.dat en una matriz de 31x31\n",
    "covmatrix=[]\n",
    "for i in range(31):\n",
    "    row=[]\n",
    "    for j in range(31):\n",
    "        row.append(tb1[(31*i)+j])\n",
    "    covmatrix.append(row)"
   ]
  },
  {
   "cell_type": "code",
   "execution_count": 6,
   "metadata": {},
   "outputs": [],
   "source": [
    "#Pongo las varianzas de la matriz anterior (que se encuentran en la diagunal) en un arreglo.  \n",
    "var=[]\n",
    "for i in range(31):\n",
    "    var.append(covmatrix[i][i])"
   ]
  },
  {
   "cell_type": "markdown",
   "metadata": {},
   "source": [
    "## Equations"
   ]
  },
  {
   "cell_type": "markdown",
   "metadata": {},
   "source": [
    "Definition of the functions to be used:"
   ]
  },
  {
   "cell_type": "markdown",
   "metadata": {},
   "source": [
    "\\begin{equation}\n",
    "s^3=\\frac{1-\\Omega_m}{\\Omega_m}\n",
    "\\end{equation}"
   ]
  },
  {
   "cell_type": "code",
   "execution_count": 7,
   "metadata": {},
   "outputs": [],
   "source": [
    "def sss(omg):\n",
    "    return pow((1-omg)/omg,(1/3))"
   ]
  },
  {
   "cell_type": "markdown",
   "metadata": {},
   "source": [
    "\\begin{equation}\n",
    "\\eta(a,\\Omega_m)=2\\sqrt{s^3 + 1}\\left[ a^{4} - 0.1540sa^{-3} + 0.4304s^2a^{-2} + 0.19097s^2a^{-1} + 0.066941s^4 \\right]^{-1/8}\n",
    "\\end{equation}"
   ]
  },
  {
   "cell_type": "code",
   "execution_count": 8,
   "metadata": {},
   "outputs": [],
   "source": [
    "def eta(a,omg):\n",
    "    r=np.sqrt(pow(sss(omg),3)+1)\n",
    "    return 2*r*pow((pow(a,-4)-(0.1540*sss(omg)*pow(a,-3))+(0.4304*pow(sss(omg),2)*pow(a,-2))+(0.19097*pow(sss(omg),3)*pow(a,-1))+(0.066941*pow(sss(omg),4))),-1/8)"
   ]
  },
  {
   "cell_type": "markdown",
   "metadata": {},
   "source": [
    "\\begin{equation}\n",
    "D_L=\\frac{c}{H_0} (1-z)\\left[ \\eta(1,\\Omega_m)-\\eta\\left( \\frac{1}{1+z} , \\Omega_m \\right) \\right]\n",
    "\\end{equation}"
   ]
  },
  {
   "cell_type": "code",
   "execution_count": 9,
   "metadata": {},
   "outputs": [],
   "source": [
    "def D_L(z,omg,H):\n",
    "    return (299792.458/H)*(1+z)*(eta(1,omg)-eta((1/(1+z)),omg))"
   ]
  },
  {
   "cell_type": "markdown",
   "metadata": {},
   "source": [
    "\\begin{equation}\n",
    "\\mu=25-log_{10}(H_0/100) + 5log_{10}(D_L/Mpc)\n",
    "\\end{equation}"
   ]
  },
  {
   "cell_type": "code",
   "execution_count": 10,
   "metadata": {},
   "outputs": [],
   "source": [
    "def mud(z,omg,H):\n",
    "    return 25+(5*np.log10(D_L(z,omg,H)))-(5*np.log10(H/100))"
   ]
  },
  {
   "cell_type": "markdown",
   "metadata": {},
   "source": [
    "## MonteCarlo Markov Chain"
   ]
  },
  {
   "cell_type": "markdown",
   "metadata": {},
   "source": [
    "Draw random samples and accept them or reject them according to the likelihood.\n",
    "\n",
    "Likelihood:\n",
    "\\begin{equation}\n",
    "    \\mathcal{L} \\propto \\prod_i^n \\frac{1}{2\\pi\\sigma_i^2}\\exp\\left[ -\\frac{(x_i -\\mu)^2}{2\\sigma_i^2} \\right]\n",
    "\\end{equation}\n",
    "\n",
    "using the logarithm of likelihood:\n",
    "\\begin{equation}\n",
    "    \\ln(\\mathcal{L}) \\propto -\\sum_i^n \\left[\\frac{(x_i -\\mu)^2}{2\\sigma_i^2} \\right]\n",
    "\\end{equation}"
   ]
  },
  {
   "cell_type": "code",
   "execution_count": 11,
   "metadata": {},
   "outputs": [],
   "source": [
    "def lnlik (z,mu,var):\n",
    "    fp=open('Tabla_datos.dat',\"w\")\n",
    "    #Likelihood con datos iniciales.\n",
    "    omg0=0.4\n",
    "    H0=70.0\n",
    "    sigma1=0.05\n",
    "    sigma2=2\n",
    "    lk0=0\n",
    "    for k in range(len(z)):\n",
    "        lk0=lk0+(pow((mu[k]-mud(z[k],omg0,H0)),2)/var[k])\n",
    "    lk0=-lk0/2.0    \n",
    "    #Likliehood con nuevos doatos.\n",
    "    for i in range(100000):\n",
    "        omg=np.random.normal(omg0,sigma1)\n",
    "        H=np.random.normal(H0,sigma2)\n",
    "        if omg>0 and H>0:\n",
    "            lki=0 \n",
    "            for j in range(len(z)):\n",
    "                lki=lki+(pow((mu[j]-mud(z[j],omg,H)),2)/var[j])\n",
    "            lki=-lki/2.0   \n",
    "            if lki>lk0:\n",
    "                omg0=omg\n",
    "                H0=H\n",
    "                lk0=lki\n",
    "                fp.write(\"%f  \\t%f \\n\" % (H0,omg0))\n",
    "            else:\n",
    "                pro=random.randrange(1,100000000)/100000000\n",
    "                diff=lki-lk0\n",
    "                if diff>np.log(pro):\n",
    "                    omg0=omg\n",
    "                    H0=H\n",
    "                    fp.write(\"%f  \\t%f \\n\" % (H0,omg0))\n",
    "    fp.close()"
   ]
  },
  {
   "cell_type": "code",
   "execution_count": 12,
   "metadata": {},
   "outputs": [],
   "source": [
    "lnlik(z,mu,var)"
   ]
  },
  {
   "cell_type": "markdown",
   "metadata": {},
   "source": [
    "## Graph data $\\Omega_m$ Vs. $H_0$ "
   ]
  },
  {
   "cell_type": "code",
   "execution_count": 13,
   "metadata": {},
   "outputs": [
    {
     "name": "stderr",
     "output_type": "stream",
     "text": [
      "No handles with labels found to put in legend.\n"
     ]
    },
    {
     "data": {
      "text/plain": [
       "[]"
      ]
     },
     "execution_count": 13,
     "metadata": {},
     "output_type": "execute_result"
    },
    {
     "data": {
      "text/plain": [
       "<Figure size 432x288 with 0 Axes>"
      ]
     },
     "metadata": {},
     "output_type": "display_data"
    },
    {
     "data": {
      "image/png": "[encoded data removed]",
      "text/plain": [
       "<Figure size 1080x288 with 1 Axes>"
      ]
     },
     "metadata": {},
     "output_type": "display_data"
    }
   ],
   "source": [
    "tbla1=np.loadtxt('Tabla_datos.dat')\n",
    "H1=tbla1[:,0]\n",
    "omh1=tbla1[:,1]\n",
    "plt.figure(1)\n",
    "plt.figure(figsize=(15,4))\n",
    "plt.ylim(0,1.0)\n",
    "plt.xlim(65,90)\n",
    "plt.plot(H1,omh1,'r.')\n",
    "plt.xlabel('$H_0$',fontsize = 18)\n",
    "plt.ylabel('$\\Omega_m$',fontsize = 18)\n",
    "plt.title(r'Constante de Hobble', fontsize = 30)\n",
    "plt.legend(fontsize = 18)\n",
    "plt.plot()"
   ]
  },
  {
   "cell_type": "code",
   "execution_count": 14,
   "metadata": {},
   "outputs": [
    {
     "name": "stderr",
     "output_type": "stream",
     "text": [
      "No handles with labels found to put in legend.\n"
     ]
    },
    {
     "data": {
      "text/plain": [
       "[]"
      ]
     },
     "execution_count": 14,
     "metadata": {},
     "output_type": "execute_result"
    },
    {
     "data": {
      "text/plain": [
       "<Figure size 432x288 with 0 Axes>"
      ]
     },
     "metadata": {},
     "output_type": "display_data"
    },
    {
     "data": {
      "image/png": "[encoded data removed]",
      "text/plain": [
       "<Figure size 1080x288 with 1 Axes>"
      ]
     },
     "metadata": {},
     "output_type": "display_data"
    }
   ],
   "source": [
    "plt.figure(2)\n",
    "plt.figure(figsize=(15,4))\n",
    "plt.plot(H1,omh1,'r.')\n",
    "plt.ylim(0.2,0.40)\n",
    "plt.xlim(82,86)\n",
    "plt.xlabel('$H_0$',fontsize = 18)\n",
    "plt.ylabel('$\\Omega_m$',fontsize = 18)\n",
    "plt.title(r'Constante de Hobble', fontsize = 18)\n",
    "plt.legend(fontsize = 18)\n",
    "plt.plot()"
   ]
  },
  {
   "cell_type": "markdown",
   "metadata": {},
   "source": [
    "## Histogramas"
   ]
  },
  {
   "cell_type": "code",
   "execution_count": 15,
   "metadata": {},
   "outputs": [
    {
     "data": {
      "text/plain": [
       "<Figure size 432x288 with 0 Axes>"
      ]
     },
     "metadata": {},
     "output_type": "display_data"
    },
    {
     "data": {
      "image/png": "[encoded data removed]",
      "text/plain": [
       "<Figure size 1080x576 with 2 Axes>"
      ]
     },
     "metadata": {},
     "output_type": "display_data"
    }
   ],
   "source": [
    "plt.figure(3)\n",
    "plt.figure(figsize=(15,8))\n",
    "plt.subplot(221)\n",
    "inter = np.arange(82, 86, 0.1)\n",
    "plt.hist(H1, bins=inter,facecolor='b')\n",
    "plt.title(\"histogram of $H_0$\")\n",
    "plt.xlabel(\"$H_0$\",fontsize=18)\n",
    "\n",
    "plt.subplot(222)\n",
    "inter = np.arange(0.18, 0.40, 0.01)\n",
    "plt.hist(omh1, bins=inter,facecolor='g')\n",
    "plt.title(\"histogram of $H_0$\")\n",
    "plt.xlabel(\"$\\Omega_m$\",fontsize=18)\n",
    "plt.show()"
   ]
  },
  {
   "cell_type": "code",
   "execution_count": null,
   "metadata": {},
   "outputs": [],
   "source": []
  }
 ],
 "metadata": {
  "kernelspec": {
   "display_name": "Python 3",
   "language": "python",
   "name": "python3"
  },
  "language_info": {
   "codemirror_mode": {
    "name": "ipython",
    "version": 3
   },
   "file_extension": ".py",
   "mimetype": "text/x-python",
   "name": "python",
   "nbconvert_exporter": "python",
   "pygments_lexer": "ipython3",
   "version": "3.6.5"
  }
 },
 "nbformat": 4,
 "nbformat_minor": 2
}
