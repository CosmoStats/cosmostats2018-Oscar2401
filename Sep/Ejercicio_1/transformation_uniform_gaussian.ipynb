{
 "cells": [
  {
   "cell_type": "markdown",
   "metadata": {},
   "source": [
    "# Transformation of a uniform and gaussian distribution"
   ]
  },
  {
   "cell_type": "markdown",
   "metadata": {},
   "source": [
    "## Uniform distribution"
   ]
  },
  {
   "cell_type": "markdown",
   "metadata": {},
   "source": [
    "1.- If $y = \\phi(x) = e^{x}$ and $p(x)=1$ for $0 ≤ x ≤ 1$ (a\n",
    "uniform distribution). What is the resultant distribution for y."
   ]
  },
  {
   "cell_type": "code",
   "execution_count": 64,
   "metadata": {},
   "outputs": [],
   "source": [
    "import matplotlib. pyplot as plt\n",
    "import numpy as np\n",
    "import random\n",
    "import math\n",
    "import scipy\n",
    "import scipy.special\n",
    "%matplotlib inline\n",
    "%matplotlib inline"
   ]
  },
  {
   "cell_type": "markdown",
   "metadata": {},
   "source": [
    "The fuction of the uniform distribution is:\n",
    "\n",
    "\\begin{equation}\n",
    "p(x)=1\n",
    "\\end{equation}\n",
    "\n",
    "for $0 ≤ x ≤ 1$ \n",
    "\n",
    "And his graphic is:"
   ]
  },
  {
   "cell_type": "code",
   "execution_count": 65,
   "metadata": {},
   "outputs": [
    {
     "data": {
      "image/png": "[encoded data removed]",
      "text/plain": [
       "<Figure size 432x288 with 1 Axes>"
      ]
     },
     "metadata": {},
     "output_type": "display_data"
    }
   ],
   "source": [
    "u=[]\n",
    "\n",
    "for i in range(1000):\n",
    "    x=random.randrange(-1000000,2000000)/1000000\n",
    "    u.append(x)\n",
    "\n",
    "plt.xlim(-1,2)\n",
    "plt.ylim(-0.1,1.2)\n",
    "\n",
    "\n",
    "for i in range(len(u)):  \n",
    "    if u[i] >= 0 and u[i] <= 1:\n",
    "        plt.plot(u[i],1,'b,') \n",
    "    else:\n",
    "        plt.plot(u[i],0,'r,')\n",
    "\n",
    "plt.xlabel(\"x\")\n",
    "plt.ylabel(\"P(x)\")\n",
    "\n",
    "plt.show()"
   ]
  },
  {
   "cell_type": "markdown",
   "metadata": {},
   "source": [
    "If \n",
    "\n",
    "\\begin{equation}\n",
    "y = \\phi(x) = e^{x}\n",
    "\\end{equation}\n",
    "\n",
    "Using:\n",
    "\n",
    "\\begin{equation}\n",
    "x=\\phi^{-1}(y)=\\ln(y)\n",
    "\\end{equation}\n",
    "\n",
    "The porbability P in function of y is:\n",
    "\n",
    "\\begin{equation}\n",
    "P(y)=p[\\phi^{-1}(y)] \\left| \\frac{d \\phi^{-1}(y)}{dy} \\right|=\\frac{1}{y}\n",
    "\\end{equation}\n",
    "\n",
    "where: $0<y<e$"
   ]
  },
  {
   "cell_type": "code",
   "execution_count": 66,
   "metadata": {},
   "outputs": [
    {
     "data": {
      "image/png": "[encoded data removed]",
      "text/plain": [
       "<Figure size 432x288 with 1 Axes>"
      ]
     },
     "metadata": {},
     "output_type": "display_data"
    }
   ],
   "source": [
    "v=[]\n",
    "\n",
    "for i in range(1000):\n",
    "    x=random.randrange(0,1500000)/1000000\n",
    "    v.append(np.exp(x))\n",
    "\n",
    "for i in range(len(v)):  \n",
    "    if v[i] >= 0 and v[i] <= math.e:\n",
    "        plt.plot(v[i],1/v[i],'b,') \n",
    "    else:\n",
    "        plt.plot(v[i],0,'r,')\n",
    "\n",
    "plt.xlabel(\"y\")\n",
    "plt.ylabel(\"P(y)\")\n",
    "    \n",
    "plt.show()"
   ]
  },
  {
   "cell_type": "markdown",
   "metadata": {},
   "source": [
    "# Normal distribution"
   ]
  },
  {
   "cell_type": "markdown",
   "metadata": {},
   "source": [
    "If the flow, in the image, follows a Gaussian distribution, how is it\n",
    "the distribution in magnitude? Use a sampling method to\n",
    "reproduce the graphs"
   ]
  },
  {
   "cell_type": "code",
   "execution_count": 67,
   "metadata": {},
   "outputs": [
    {
     "data": {
      "image/png": "[encoded data removed]",
      "text/plain": [
       "<Figure size 432x288 with 1 Axes>"
      ]
     },
     "metadata": {},
     "output_type": "display_data"
    }
   ],
   "source": [
    "def expo(x,sigm,mu):\n",
    "    return ((1/(sigm*pow(2*np.pi,0.5)))*np.exp(-(pow((x-mu),2))/(2*pow(sigm,2))))\n",
    "\n",
    "flx=[]\n",
    "pflx=[]\n",
    "s=5/(8*pow(2*np.pi,0.5))\n",
    "m=1\n",
    "\n",
    "for i in range(1000):\n",
    "    x=random.randrange(0,2000000)/1000000\n",
    "    flx.append(x)\n",
    "\n",
    "for i in range(len(flx)):\n",
    "    pflx.append(expo(flx[i],s,m))\n",
    "\n",
    "plt.plot(flx,pflx,'r,')\n",
    "plt.xlabel(\"flux\")\n",
    "plt.ylabel(\"$P(flux)$\")\n",
    "plt.show()\n",
    "\n"
   ]
  },
  {
   "cell_type": "code",
   "execution_count": 68,
   "metadata": {},
   "outputs": [
    {
     "data": {
      "image/png": "[encoded data removed]",
      "text/plain": [
       "<Figure size 432x288 with 1 Axes>"
      ]
     },
     "metadata": {},
     "output_type": "display_data"
    }
   ],
   "source": [
    "def expo3(x,sigm,mu):\n",
    "    return ((1/(sigm*pow(2*np.pi,0.5)))*np.exp(-(pow((x-mu),2))/(2*pow(sigm,2)))) \n",
    "\n",
    "def jacob(x):\n",
    "    return ((2/5)*math.log1p(10)*np.exp(-2*(math.log1p(10)*x)/5)) #jacobiano de la transformación\n",
    "\n",
    "mag=[]\n",
    "Pmag=[]\n",
    "s=5/(8*pow(2*np.pi,0.5))\n",
    "m=1\n",
    "\n",
    "for i in range(1000):\n",
    "    x=random.randrange(0,200000)/100000\n",
    "    mag.append(-2.5*math.log10(x))\n",
    "\n",
    "for i in range(len(mag)):  \n",
    "        Pmag.append(expo3((pow(10,(-2*mag[i]/5))),s,m)*jacob(mag[i])) \n",
    "\n",
    "plt.plot(mag,Pmag,'b,')\n",
    "plt.xlim(-1,1.2)\n",
    "plt.xlabel(\"mag\")\n",
    "plt.ylabel(\"$P(mag)$\")\n",
    "    \n",
    "plt.show()"
   ]
  }
 ],
 "metadata": {
  "kernelspec": {
   "display_name": "Python 3",
   "language": "python",
   "name": "python3"
  },
  "language_info": {
   "codemirror_mode": {
    "name": "ipython",
    "version": 3
   },
   "file_extension": ".py",
   "mimetype": "text/x-python",
   "name": "python",
   "nbconvert_exporter": "python",
   "pygments_lexer": "ipython3",
   "version": "3.6.5"
  }
 },
 "nbformat": 4,
 "nbformat_minor": 2
}
