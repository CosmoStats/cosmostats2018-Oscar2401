{
 "cells": [
  {
   "cell_type": "code",
   "execution_count": 1,
   "metadata": {},
   "outputs": [],
   "source": [
    "#librerias a usar \n",
    "import matplotlib. pyplot as plt\n",
    "import numpy as np\n",
    "import random\n",
    "import scipy\n",
    "import scipy.special\n",
    "import math\n",
    "from scipy.optimize import minimize\n",
    "import scipy.optimize as op\n",
    "import scipy.stats as stats\n",
    "import time\n",
    "%matplotlib inline"
   ]
  },
  {
   "cell_type": "code",
   "execution_count": 2,
   "metadata": {},
   "outputs": [],
   "source": [
    "#datos:\n",
    "tb1=np.loadtxt('jla_mub_covmatrix.dat')\n",
    "tb2=np.loadtxt('jla_mub.txt')\n",
    "\n",
    "# divido los datos de jla_mub.txt en dos arrelgos z y mu \n",
    "z=tb2[:,0]\n",
    "mu=tb2[:,1]"
   ]
  },
  {
   "cell_type": "code",
   "execution_count": 3,
   "metadata": {},
   "outputs": [],
   "source": [
    "#arreglo los datos de jla_mud_covmatrix.dat en una matriz de 31x31\n",
    "covmatrix=[]\n",
    "for i in range(31):\n",
    "    row=[]\n",
    "    for j in range(31):\n",
    "        row.append(tb1[(31*i)+j])\n",
    "    covmatrix.append(row)"
   ]
  },
  {
   "cell_type": "code",
   "execution_count": 4,
   "metadata": {},
   "outputs": [],
   "source": [
    "#Pongo las varianzas de la matriz anterior (que se encuentran en la diagunal) en un arreglo.  \n",
    "var=[]\n",
    "for i in range(31):\n",
    "    var.append(covmatrix[i][i])"
   ]
  },
  {
   "cell_type": "markdown",
   "metadata": {},
   "source": [
    "#### Ecuaciones:\n",
    "\n",
    "\\begin{equation}\n",
    "s^3=\\frac{1-\\Omega_m}{\\Omega_m}\n",
    "\\end{equation}"
   ]
  },
  {
   "cell_type": "code",
   "execution_count": 5,
   "metadata": {},
   "outputs": [],
   "source": [
    "def sss(omg):\n",
    "    return ((1.0-omg)/omg)**(1./3)"
   ]
  },
  {
   "cell_type": "markdown",
   "metadata": {},
   "source": [
    "\\begin{equation}\n",
    "\\eta(a,\\Omega_m)=2\\sqrt{s^3 + 1}\\left[ a^{-4} - 0.1540sa^{-3} + 0.4304s^2a^{-2} + 0.19097s^3a^{-1} + 0.066941s^4 \\right]^{-1/8}\n",
    "\\end{equation}"
   ]
  },
  {
   "cell_type": "code",
   "execution_count": 7,
   "metadata": {},
   "outputs": [],
   "source": [
    "def eta(a,omg):\n",
    "    r = np.sqrt(np.power(sss(omg),3)+1)\n",
    "    return 2*r*pow((1./a**4 - (0.1540*sss(omg)/(a**3))+(0.4304*pow(sss(omg),2)/(a**2))+(0.19097*pow(sss(omg),3)/(a**1))+(0.066941*pow(sss(omg),4))),-1.0/8)"
   ]
  },
  {
   "cell_type": "markdown",
   "metadata": {},
   "source": [
    "\\begin{equation}\n",
    "D_L=\\frac{c}{H_0} (1+z)\\left[ \\eta(1,\\Omega_m)-\\eta\\left( \\frac{1}{1+z} , \\Omega_m \\right) \\right]\n",
    "\\end{equation}"
   ]
  },
  {
   "cell_type": "code",
   "execution_count": 9,
   "metadata": {},
   "outputs": [],
   "source": [
    "def D_L(z,omg,H):\n",
    "    return (299792/H)*(1+z)*(eta(1,omg)-eta((1/(1+z)),omg))"
   ]
  },
  {
   "cell_type": "markdown",
   "metadata": {},
   "source": [
    "\\begin{equation}\n",
    "\\mu_{\\lambda CDM} (z;\\Omega_m) = 5\\log_{10} (d_L(z;\\Omega_m)/10pc)\n",
    "\\end{equation}\n",
    "\n",
    "Con un valor fijo de $H_0 = 70 kms^{-1}Mpc^{-1}$"
   ]
  },
  {
   "cell_type": "code",
   "execution_count": 10,
   "metadata": {},
   "outputs": [],
   "source": [
    "def mud(z,omg):\n",
    "    return 25+(5*np.log10(D_L(z,omg,70)))-(5*np.log10(H/100))"
   ]
  },
  {
   "cell_type": "markdown",
   "metadata": {},
   "source": [
    "La estimación de la distancia con SNe Ia se basa en la observación empírica de que estos eventos forman una clase homogénea cuya variabilidad restante está razonablemente bien captada por dos parámetros. Uno de ellos describe el tiempo de estiramiento de la curvatura de luz $X_1$ y el otro describe el color de supernova a brillo máximo $C$   \n",
    "\n",
    "Estimador de distancia:\n",
    "\n",
    "\\begin{equation}\n",
    "\\mu = m_B^{\\star} - (M_B - \\alpha \\times X_1 + \\beta \\times C)\n",
    "\\end{equation}\n",
    "\n",
    "Donde $m_B^{\\star}$ corresponde a la magnitud máxima observada en el marco de reposo B y $\\alpha$, $\\beta$ y $M_B$ son los nuisance parameters en el estimador de distancia. \n"
   ]
  },
  {
   "cell_type": "markdown",
   "metadata": {},
   "source": [
    "Usando el estimador de distancia anterior, ajustamos una cosmología a las mediciones de supernovas minimizando la siguiente función:\n",
    "\n",
    "\n",
    "\\begin{equation}\n",
    "\\chi^2 = (\\hat{\\mu} - \\mu_{\\Lambda CDM}(z;\\Omega_m))^{\\dagger} C^{-1} (\\hat{\\mu} - \\mu_{\\Lambda CDM}(Z;\\Omega))\n",
    "\\end{equation}\n",
    "\n",
    "Donde $C$ es la matriz de covarianza de $\\hat{\\mu}$. Los parametros libres en el ajuste son $\\Omega_m$ y los cuatro nuisance parameters $\\alpha, \\beta, M_B^{1}$ y $\\Delta_M$ "
   ]
  },
  {
   "cell_type": "code",
   "execution_count": null,
   "metadata": {},
   "outputs": [],
   "source": []
  }
 ],
 "metadata": {
  "kernelspec": {
   "display_name": "Python 2",
   "language": "python",
   "name": "python2"
  },
  "language_info": {
   "codemirror_mode": {
    "name": "ipython",
    "version": 2
   },
   "file_extension": ".py",
   "mimetype": "text/x-python",
   "name": "python",
   "nbconvert_exporter": "python",
   "pygments_lexer": "ipython2",
   "version": "2.7.15"
  }
 },
 "nbformat": 4,
 "nbformat_minor": 2
}
