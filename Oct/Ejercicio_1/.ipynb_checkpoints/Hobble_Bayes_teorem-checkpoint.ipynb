{
 "cells": [
  {
   "cell_type": "markdown",
   "metadata": {},
   "source": [
    "# Bayes' theorem\n",
    "\n",
    "Bayesheorem is a formala that describes how to update the probabilities of hypotheses when given evidence.\n",
    "\n",
    "Given a hypothesis $\\theta$ and evidence $x$, Bayes' theorem states that the relationship between the propability of the hypothesis before getting the evidence $P(\\theta)$ and the probability of hypothesis after getting the evidence $P(\\theta | x)$ is:\n",
    "\n",
    "\\begin{equation}\n",
    "P(\\theta|x)=\\frac{P(\\theta \\cap x)}{P(x)}=\\frac{P(x|\\theta)· P(\\theta)}{P(x)}\n",
    "\\end{equation}\n",
    "\n",
    "Here we use $P(x|\\theta)$ as the likelihood, $P(\\theta)$ is the prior, that is the probability that appear $\\theta$ in the model and $P(x)$ is the evidence, the probobility of observing the datas given the true model."
   ]
  },
  {
   "cell_type": "code",
   "execution_count": 67,
   "metadata": {},
   "outputs": [],
   "source": [
    "#librerias a usar \n",
    "import matplotlib. pyplot as plt\n",
    "import numpy as np\n",
    "import random\n",
    "import scipy\n",
    "import scipy.special\n",
    "import math\n",
    "from scipy.optimize import minimize\n",
    "import scipy.optimize as op\n",
    "import scipy.stats as stats\n",
    "import time\n",
    "%matplotlib inline"
   ]
  },
  {
   "cell_type": "markdown",
   "metadata": {},
   "source": [
    "Arrangement of the data to work with them:"
   ]
  },
  {
   "cell_type": "code",
   "execution_count": 15,
   "metadata": {},
   "outputs": [],
   "source": [
    "#datos:\n",
    "tb1=np.loadtxt('jla_mub_covmatrix.dat')\n",
    "tb2=np.loadtxt('jla_mub.txt')\n",
    "\n",
    "# divido los datos de jla_mub.txt en dos arrelgos z y mu \n",
    "z=tb2[:,0]\n",
    "mu=tb2[:,1]"
   ]
  },
  {
   "cell_type": "code",
   "execution_count": 16,
   "metadata": {},
   "outputs": [],
   "source": [
    "#arreglo los datos de jla_mud_covmatrix.dat en una matriz de 31x31\n",
    "covmatrix=[]\n",
    "for i in range(31):\n",
    "    row=[]\n",
    "    for j in range(31):\n",
    "        row.append(tb1[(31*i)+j])\n",
    "    covmatrix.append(row)"
   ]
  },
  {
   "cell_type": "code",
   "execution_count": 17,
   "metadata": {},
   "outputs": [],
   "source": [
    "#Pongo las varianzas de la matriz anterior (que se encuentran en la diagunal) en un arreglo.  \n",
    "var=[]\n",
    "for i in range(31):\n",
    "    var.append(covmatrix[i][i])"
   ]
  },
  {
   "cell_type": "markdown",
   "metadata": {},
   "source": [
    "### Equations:"
   ]
  },
  {
   "cell_type": "code",
   "execution_count": 18,
   "metadata": {},
   "outputs": [],
   "source": [
    "def sss(omg):\n",
    "    return pow((1-omg)/omg,(1/3))"
   ]
  },
  {
   "cell_type": "code",
   "execution_count": 19,
   "metadata": {},
   "outputs": [],
   "source": [
    "def eta(a,omg):\n",
    "    r=np.sqrt(pow(sss(omg),3)+1)\n",
    "    return 2*r*pow((pow(a,-4)-(0.1540*sss(omg)*pow(a,-3))+(0.4304*pow(sss(omg),2)*pow(a,-2))+(0.19097*pow(sss(omg),3)*pow(a,-1))+(0.066941*pow(sss(omg),4))),-1/8)"
   ]
  },
  {
   "cell_type": "code",
   "execution_count": 20,
   "metadata": {},
   "outputs": [],
   "source": [
    "def D_L(z,omg,H):\n",
    "    return (299792.458/H)*(1+z)*(eta(1,omg)-eta((1/(1+z)),omg))"
   ]
  },
  {
   "cell_type": "code",
   "execution_count": 21,
   "metadata": {},
   "outputs": [],
   "source": [
    "def mud(z,omg,H):\n",
    "    return 25+(5*np.log10(D_L(z,omg,H)))-(5*np.log10(H/100))"
   ]
  },
  {
   "cell_type": "markdown",
   "metadata": {},
   "source": [
    "### Function for the maximum likelihood estimation"
   ]
  },
  {
   "cell_type": "code",
   "execution_count": 91,
   "metadata": {},
   "outputs": [],
   "source": [
    "def lnlik (theta,z,mu,var):\n",
    "    #Parametrso iniciales\n",
    "    H0,omg0,lnf= theta\n",
    "    model=mud(z,omg0,H0)\n",
    "    inv_sigma2=1.0/(var+(model**2*np.exp(2*lnf)))\n",
    "    return -0.5*np.sum(pow((mu-model),2)*inv_sigma2 - np.log(inv_sigma2))"
   ]
  },
  {
   "cell_type": "code",
   "execution_count": 125,
   "metadata": {},
   "outputs": [
    {
     "data": {
      "text/plain": [
       "      fun: 3.223552439704793\n",
       " hess_inv: array([[2.23620466e+01, 0.00000000e+00, 2.82261632e-02],\n",
       "       [0.00000000e+00, 1.00000000e+00, 0.00000000e+00],\n",
       "       [2.82261632e-02, 0.00000000e+00, 1.64019815e-02]])\n",
       "      jac: array([-2.68220901e-06,  0.00000000e+00,  9.11951065e-06])\n",
       "  message: 'Optimization terminated successfully.'\n",
       "     nfev: 145\n",
       "      nit: 17\n",
       "     njev: 29\n",
       "   status: 0\n",
       "  success: True\n",
       "        x: array([172.43008489,   0.5       ,  -4.05945916])"
      ]
     },
     "execution_count": 125,
     "metadata": {},
     "output_type": "execute_result"
    }
   ],
   "source": [
    "H_ini,omg_ini,lnf_ini=50,0.5,5\n",
    "nll = lambda *args: -lnlik(*args)\n",
    "result = op.minimize(nll, [H_ini,omg_ini,lnf_ini], args=(z,mu,var))\n",
    "result\n",
    "#H_ml,omh_ml=result[\"x\"]"
   ]
  },
  {
   "cell_type": "markdown",
   "metadata": {},
   "source": [
    "Marginalization & uncertainty estimation"
   ]
  },
  {
   "cell_type": "code",
   "execution_count": 126,
   "metadata": {},
   "outputs": [],
   "source": [
    "def lnprior(theta):\n",
    "    H,omg,lnf=theta\n",
    "    if 0 < H < 1 and 50 < omg < 100 and -10.0 < lnf < 1.0 :\n",
    "        return 0.0\n",
    "    return -np.inf"
   ]
  },
  {
   "cell_type": "code",
   "execution_count": 127,
   "metadata": {},
   "outputs": [],
   "source": [
    "def lnprob(theta,x,mu,var):\n",
    "    lp = lnprior(theta)\n",
    "    if not np.isfinite(lp):\n",
    "        return -np.inf\n",
    "    return lp + lnlik(theta,z,mu,var)"
   ]
  },
  {
   "cell_type": "code",
   "execution_count": 134,
   "metadata": {},
   "outputs": [],
   "source": [
    "ndim, nwalkers = 3, 100\n",
    "pos = [result[\"x\"] + 1e-4*np.random.randn(ndim) for i in range(nwalkers)]"
   ]
  },
  {
   "cell_type": "code",
   "execution_count": 140,
   "metadata": {},
   "outputs": [
    {
     "data": {
      "text/plain": [
       "[array([172.87079066,   1.26471682,  -5.30552777]),\n",
       " array([ 1.72858745e+02, -1.04710941e-01, -2.69969700e+00]),\n",
       " array([171.59714491,   0.40999811,  -5.60334977]),\n",
       " array([171.67507915,   1.46914637,  -5.40833124]),\n",
       " array([171.14920804,  -0.34276325,  -4.8510218 ]),\n",
       " array([171.99113951,   3.04905537,  -3.98840497]),\n",
       " array([173.60031613,  -1.37751256,  -3.6214264 ]),\n",
       " array([172.42077541,   0.88378404,  -4.40499885]),\n",
       " array([172.57830873,   2.51616287,  -3.54063161]),\n",
       " array([172.40153471,  -0.38359815,  -5.03424276]),\n",
       " array([170.80111118,   0.34613367,  -5.29019017]),\n",
       " array([172.89827499,   0.55719885,  -3.32506785]),\n",
       " array([ 1.73222148e+02,  1.05085681e-01, -3.09222296e+00]),\n",
       " array([ 1.72244019e+02,  1.67535437e-01, -2.98229860e+00]),\n",
       " array([ 1.72389294e+02,  1.16733599e-01, -4.26939439e+00]),\n",
       " array([172.49568343,   0.33244563,  -4.49621022]),\n",
       " array([171.89364505,  -0.78129494,  -6.41030563]),\n",
       " array([172.04887429,  -0.33731598,  -5.17782518]),\n",
       " array([172.64392237,  -1.95023859,  -3.15862342]),\n",
       " array([172.34854308,   0.74523032,  -3.77044464]),\n",
       " array([172.26818293,   1.63197067,  -5.35829069]),\n",
       " array([171.08717462,   0.48124697,  -4.62721814]),\n",
       " array([172.72680292,   0.1842729 ,  -4.67663128]),\n",
       " array([173.94573117,   0.34930742,  -5.37038835]),\n",
       " array([173.53155753,   1.37274451,  -2.80027911]),\n",
       " array([171.55562103,   0.46479116,  -3.56818148]),\n",
       " array([ 1.73401776e+02, -1.27666935e-03, -3.57115672e+00]),\n",
       " array([172.24625537,   1.24150291,  -2.57700659]),\n",
       " array([171.67098395,  -0.30349909,  -4.30736202]),\n",
       " array([174.73699263,   0.64150689,  -4.29141705]),\n",
       " array([ 1.70459762e+02,  1.22269721e-02, -3.86120454e+00]),\n",
       " array([172.01577181,  -0.91841261,  -3.79804573]),\n",
       " array([171.49940279,   1.91630629,  -3.21831362]),\n",
       " array([173.09077596,  -1.10012487,  -5.12746481]),\n",
       " array([172.04895526,  -1.34461059,  -1.748576  ]),\n",
       " array([172.8165561 ,   1.20382053,  -5.71817945]),\n",
       " array([170.57634842,  -0.59541211,  -3.88772539]),\n",
       " array([171.05879466,  -0.61654757,  -3.55658559]),\n",
       " array([172.38431303,  -0.75106087,  -6.11665199]),\n",
       " array([172.7865053 ,   1.68522606,  -3.93667451]),\n",
       " array([ 1.72089103e+02,  1.08591209e-01, -3.11886365e+00]),\n",
       " array([172.02887693,   1.18176331,  -3.01682558]),\n",
       " array([172.56029335,   0.49801986,  -4.17411341]),\n",
       " array([172.15592421,   0.71532343,  -3.75027895]),\n",
       " array([173.84236636,   0.50171173,  -4.46778877]),\n",
       " array([170.76574525,  -0.90222608,  -4.92359307]),\n",
       " array([173.01826583,  -0.38277422,  -3.93967056]),\n",
       " array([171.60513582,   1.25613739,  -3.34534065]),\n",
       " array([ 1.72377186e+02, -8.88631070e-02, -3.19999285e+00]),\n",
       " array([174.18621418,   1.71684342,  -3.99059817]),\n",
       " array([170.93812057,   1.24084202,  -4.63435477]),\n",
       " array([173.26052636,  -1.26112366,  -3.046923  ]),\n",
       " array([ 1.72122348e+02, -1.22816864e-01, -3.38732135e+00]),\n",
       " array([171.81826952,   1.58365054,  -3.37051958]),\n",
       " array([171.60587456,   1.22838886,  -3.84062008]),\n",
       " array([172.40153417,   0.58864793,  -4.83258125]),\n",
       " array([171.41307623,   0.86477045,  -1.78749421]),\n",
       " array([173.38814406,   0.98671581,  -4.14723628]),\n",
       " array([172.57063241,   1.1336859 ,  -3.6465721 ]),\n",
       " array([173.18456193,  -0.97922211,  -3.52419699]),\n",
       " array([ 1.72023839e+02, -1.55042592e-01, -3.24914470e+00]),\n",
       " array([171.74376388,   0.87006987,  -3.91907525]),\n",
       " array([173.93699655,   2.2055754 ,  -2.23890011]),\n",
       " array([174.50880765,  -0.81777348,  -5.57614914]),\n",
       " array([171.78899404,   0.92934007,  -4.05623605]),\n",
       " array([ 1.73172705e+02,  1.40070646e-01, -6.51265902e+00]),\n",
       " array([173.45041163,  -0.3454806 ,  -5.47185175]),\n",
       " array([173.34487058,   0.83266645,  -4.08772852]),\n",
       " array([174.25050354,   2.15215201,  -4.80663199]),\n",
       " array([172.95521963,   1.46124407,  -3.77947901]),\n",
       " array([ 1.71910368e+02, -7.85424800e-02, -3.78533790e+00]),\n",
       " array([172.96611857,   1.62071133,  -3.13023024]),\n",
       " array([172.12091311,   0.29581311,  -2.08434541]),\n",
       " array([172.03667255,  -1.37005005,  -4.36304691]),\n",
       " array([173.09356108,  -0.7763975 ,  -4.67766687]),\n",
       " array([171.92994025,  -0.92643918,  -4.34496337]),\n",
       " array([174.05839462,   0.77296318,  -3.99155617]),\n",
       " array([173.96657505,  -0.18425997,  -5.03943346]),\n",
       " array([172.19228626,   0.33393047,  -5.87915411]),\n",
       " array([172.28167664,   1.35332139,  -3.09114391]),\n",
       " array([ 1.73435869e+02, -1.50343554e-01, -4.14373098e+00]),\n",
       " array([172.66227822,   0.51474138,  -4.35965645]),\n",
       " array([173.70700099,   0.22672099,  -5.10177294]),\n",
       " array([173.41598202,   1.58918393,  -3.29799489]),\n",
       " array([172.57089723,  -0.28969857,  -3.91473175]),\n",
       " array([172.40526627,   0.19345315,  -4.34111516]),\n",
       " array([170.22563449,   1.51049958,  -3.3541417 ]),\n",
       " array([173.30152933,   1.08906761,  -4.77210508]),\n",
       " array([173.07333012,   1.63939032,  -5.28257051]),\n",
       " array([172.12698639,   1.84557969,  -5.0930289 ]),\n",
       " array([172.54778572,   0.78199284,  -4.52468949]),\n",
       " array([171.00302857,   2.49914161,  -4.64956286]),\n",
       " array([173.79487001,   0.98529781,  -4.53772385]),\n",
       " array([173.38364981,  -1.20584199,  -3.4423723 ]),\n",
       " array([172.33375722,   1.44724463,  -3.3585008 ]),\n",
       " array([172.13641123,   0.55125318,  -4.57777263]),\n",
       " array([171.97550863,   0.34252083,  -5.64794954]),\n",
       " array([171.99964261,  -1.07457451,  -1.77273131]),\n",
       " array([172.69660882,   1.44660608,  -4.09846673]),\n",
       " array([172.84813513,   0.99021139,  -5.48131482])]"
      ]
     },
     "execution_count": 140,
     "metadata": {},
     "output_type": "execute_result"
    }
   ],
   "source": [
    "pos"
   ]
  },
  {
   "cell_type": "code",
   "execution_count": 136,
   "metadata": {},
   "outputs": [],
   "source": [
    "sampler = emcee.EnsembleSampler(nwalkers, ndim, lnprob , args=(z,mu,var))"
   ]
  },
  {
   "cell_type": "code",
   "execution_count": 137,
   "metadata": {},
   "outputs": [
    {
     "data": {
      "text/plain": [
       "(array([[ 1.72870791e+02,  1.26471682e+00, -5.30552777e+00],\n",
       "        [ 1.72858745e+02, -1.04710941e-01, -2.69969700e+00],\n",
       "        [ 1.71597145e+02,  4.09998106e-01, -5.60334977e+00],\n",
       "        [ 1.71675079e+02,  1.46914637e+00, -5.40833124e+00],\n",
       "        [ 1.71149208e+02, -3.42763250e-01, -4.85102180e+00],\n",
       "        [ 1.71991140e+02,  3.04905537e+00, -3.98840497e+00],\n",
       "        [ 1.73600316e+02, -1.37751256e+00, -3.62142640e+00],\n",
       "        [ 1.72420775e+02,  8.83784042e-01, -4.40499885e+00],\n",
       "        [ 1.72578309e+02,  2.51616287e+00, -3.54063161e+00],\n",
       "        [ 1.72401535e+02, -3.83598152e-01, -5.03424276e+00],\n",
       "        [ 1.70801111e+02,  3.46133667e-01, -5.29019017e+00],\n",
       "        [ 1.72898275e+02,  5.57198847e-01, -3.32506785e+00],\n",
       "        [ 1.73222148e+02,  1.05085681e-01, -3.09222296e+00],\n",
       "        [ 1.72244019e+02,  1.67535437e-01, -2.98229860e+00],\n",
       "        [ 1.72389294e+02,  1.16733599e-01, -4.26939439e+00],\n",
       "        [ 1.72495683e+02,  3.32445630e-01, -4.49621022e+00],\n",
       "        [ 1.71893645e+02, -7.81294942e-01, -6.41030563e+00],\n",
       "        [ 1.72048874e+02, -3.37315977e-01, -5.17782518e+00],\n",
       "        [ 1.72643922e+02, -1.95023859e+00, -3.15862342e+00],\n",
       "        [ 1.72348543e+02,  7.45230321e-01, -3.77044464e+00],\n",
       "        [ 1.72268183e+02,  1.63197067e+00, -5.35829069e+00],\n",
       "        [ 1.71087175e+02,  4.81246973e-01, -4.62721814e+00],\n",
       "        [ 1.72726803e+02,  1.84272902e-01, -4.67663128e+00],\n",
       "        [ 1.73945731e+02,  3.49307421e-01, -5.37038835e+00],\n",
       "        [ 1.73531558e+02,  1.37274451e+00, -2.80027911e+00],\n",
       "        [ 1.71555621e+02,  4.64791165e-01, -3.56818148e+00],\n",
       "        [ 1.73401776e+02, -1.27666935e-03, -3.57115672e+00],\n",
       "        [ 1.72246255e+02,  1.24150291e+00, -2.57700659e+00],\n",
       "        [ 1.71670984e+02, -3.03499091e-01, -4.30736202e+00],\n",
       "        [ 1.74736993e+02,  6.41506895e-01, -4.29141705e+00],\n",
       "        [ 1.70459762e+02,  1.22269721e-02, -3.86120454e+00],\n",
       "        [ 1.72015772e+02, -9.18412614e-01, -3.79804573e+00],\n",
       "        [ 1.71499403e+02,  1.91630629e+00, -3.21831362e+00],\n",
       "        [ 1.73090776e+02, -1.10012487e+00, -5.12746481e+00],\n",
       "        [ 1.72048955e+02, -1.34461059e+00, -1.74857600e+00],\n",
       "        [ 1.72816556e+02,  1.20382053e+00, -5.71817945e+00],\n",
       "        [ 1.70576348e+02, -5.95412106e-01, -3.88772539e+00],\n",
       "        [ 1.71058795e+02, -6.16547572e-01, -3.55658559e+00],\n",
       "        [ 1.72384313e+02, -7.51060872e-01, -6.11665199e+00],\n",
       "        [ 1.72786505e+02,  1.68522606e+00, -3.93667451e+00],\n",
       "        [ 1.72089103e+02,  1.08591209e-01, -3.11886365e+00],\n",
       "        [ 1.72028877e+02,  1.18176331e+00, -3.01682558e+00],\n",
       "        [ 1.72560293e+02,  4.98019859e-01, -4.17411341e+00],\n",
       "        [ 1.72155924e+02,  7.15323431e-01, -3.75027895e+00],\n",
       "        [ 1.73842366e+02,  5.01711730e-01, -4.46778877e+00],\n",
       "        [ 1.70765745e+02, -9.02226076e-01, -4.92359307e+00],\n",
       "        [ 1.73018266e+02, -3.82774219e-01, -3.93967056e+00],\n",
       "        [ 1.71605136e+02,  1.25613739e+00, -3.34534065e+00],\n",
       "        [ 1.72377186e+02, -8.88631070e-02, -3.19999285e+00],\n",
       "        [ 1.74186214e+02,  1.71684342e+00, -3.99059817e+00],\n",
       "        [ 1.70938121e+02,  1.24084202e+00, -4.63435477e+00],\n",
       "        [ 1.73260526e+02, -1.26112366e+00, -3.04692300e+00],\n",
       "        [ 1.72122348e+02, -1.22816864e-01, -3.38732135e+00],\n",
       "        [ 1.71818270e+02,  1.58365054e+00, -3.37051958e+00],\n",
       "        [ 1.71605875e+02,  1.22838886e+00, -3.84062008e+00],\n",
       "        [ 1.72401534e+02,  5.88647926e-01, -4.83258125e+00],\n",
       "        [ 1.71413076e+02,  8.64770452e-01, -1.78749421e+00],\n",
       "        [ 1.73388144e+02,  9.86715810e-01, -4.14723628e+00],\n",
       "        [ 1.72570632e+02,  1.13368590e+00, -3.64657210e+00],\n",
       "        [ 1.73184562e+02, -9.79222112e-01, -3.52419699e+00],\n",
       "        [ 1.72023839e+02, -1.55042592e-01, -3.24914470e+00],\n",
       "        [ 1.71743764e+02,  8.70069871e-01, -3.91907525e+00],\n",
       "        [ 1.73936997e+02,  2.20557540e+00, -2.23890011e+00],\n",
       "        [ 1.74508808e+02, -8.17773480e-01, -5.57614914e+00],\n",
       "        [ 1.71788994e+02,  9.29340074e-01, -4.05623605e+00],\n",
       "        [ 1.73172705e+02,  1.40070646e-01, -6.51265902e+00],\n",
       "        [ 1.73450412e+02, -3.45480599e-01, -5.47185175e+00],\n",
       "        [ 1.73344871e+02,  8.32666448e-01, -4.08772852e+00],\n",
       "        [ 1.74250504e+02,  2.15215201e+00, -4.80663199e+00],\n",
       "        [ 1.72955220e+02,  1.46124407e+00, -3.77947901e+00],\n",
       "        [ 1.71910368e+02, -7.85424800e-02, -3.78533790e+00],\n",
       "        [ 1.72966119e+02,  1.62071133e+00, -3.13023024e+00],\n",
       "        [ 1.72120913e+02,  2.95813107e-01, -2.08434541e+00],\n",
       "        [ 1.72036673e+02, -1.37005005e+00, -4.36304691e+00],\n",
       "        [ 1.73093561e+02, -7.76397497e-01, -4.67766687e+00],\n",
       "        [ 1.71929940e+02, -9.26439180e-01, -4.34496337e+00],\n",
       "        [ 1.74058395e+02,  7.72963180e-01, -3.99155617e+00],\n",
       "        [ 1.73966575e+02, -1.84259973e-01, -5.03943346e+00],\n",
       "        [ 1.72192286e+02,  3.33930468e-01, -5.87915411e+00],\n",
       "        [ 1.72281677e+02,  1.35332139e+00, -3.09114391e+00],\n",
       "        [ 1.73435869e+02, -1.50343554e-01, -4.14373098e+00],\n",
       "        [ 1.72662278e+02,  5.14741379e-01, -4.35965645e+00],\n",
       "        [ 1.73707001e+02,  2.26720988e-01, -5.10177294e+00],\n",
       "        [ 1.73415982e+02,  1.58918393e+00, -3.29799489e+00],\n",
       "        [ 1.72570897e+02, -2.89698574e-01, -3.91473175e+00],\n",
       "        [ 1.72405266e+02,  1.93453151e-01, -4.34111516e+00],\n",
       "        [ 1.70225634e+02,  1.51049958e+00, -3.35414170e+00],\n",
       "        [ 1.73301529e+02,  1.08906761e+00, -4.77210508e+00],\n",
       "        [ 1.73073330e+02,  1.63939032e+00, -5.28257051e+00],\n",
       "        [ 1.72126986e+02,  1.84557969e+00, -5.09302890e+00],\n",
       "        [ 1.72547786e+02,  7.81992841e-01, -4.52468949e+00],\n",
       "        [ 1.71003029e+02,  2.49914161e+00, -4.64956286e+00],\n",
       "        [ 1.73794870e+02,  9.85297810e-01, -4.53772385e+00],\n",
       "        [ 1.73383650e+02, -1.20584199e+00, -3.44237230e+00],\n",
       "        [ 1.72333757e+02,  1.44724463e+00, -3.35850080e+00],\n",
       "        [ 1.72136411e+02,  5.51253178e-01, -4.57777263e+00],\n",
       "        [ 1.71975509e+02,  3.42520833e-01, -5.64794954e+00],\n",
       "        [ 1.71999643e+02, -1.07457451e+00, -1.77273131e+00],\n",
       "        [ 1.72696609e+02,  1.44660608e+00, -4.09846673e+00],\n",
       "        [ 1.72848135e+02,  9.90211392e-01, -5.48131482e+00]]),\n",
       " array([-inf, -inf, -inf, -inf, -inf, -inf, -inf, -inf, -inf, -inf, -inf,\n",
       "        -inf, -inf, -inf, -inf, -inf, -inf, -inf, -inf, -inf, -inf, -inf,\n",
       "        -inf, -inf, -inf, -inf, -inf, -inf, -inf, -inf, -inf, -inf, -inf,\n",
       "        -inf, -inf, -inf, -inf, -inf, -inf, -inf, -inf, -inf, -inf, -inf,\n",
       "        -inf, -inf, -inf, -inf, -inf, -inf, -inf, -inf, -inf, -inf, -inf,\n",
       "        -inf, -inf, -inf, -inf, -inf, -inf, -inf, -inf, -inf, -inf, -inf,\n",
       "        -inf, -inf, -inf, -inf, -inf, -inf, -inf, -inf, -inf, -inf, -inf,\n",
       "        -inf, -inf, -inf, -inf, -inf, -inf, -inf, -inf, -inf, -inf, -inf,\n",
       "        -inf, -inf, -inf, -inf, -inf, -inf, -inf, -inf, -inf, -inf, -inf,\n",
       "        -inf]),\n",
       " ('MT19937', array([1467740922, 2959830650, 1123053515, 2469685165, 1504609113,\n",
       "         2221711969, 3046036335, 1205859695, 2342079928,  214526700,\n",
       "         3559243303,  245051789, 4118002543, 1868012837, 2094265000,\n",
       "          828947911, 2356532544, 2519230787, 2345612733, 1455811942,\n",
       "         2460573000, 4233654588, 3689286420, 1064315841,  125897214,\n",
       "         1543636522, 2885442116, 2482554829,  876041083, 3763209341,\n",
       "         2555078079, 1000247738,  906919174, 1207307976, 3402263324,\n",
       "         3498708262, 2686784851, 2048540547, 3332153685,  675141397,\n",
       "         3576431058, 2935342322,  826586261, 1949518313, 2120244845,\n",
       "         3021153723, 4099159209, 4067517700, 3002855086, 2080899853,\n",
       "         2962199525,   26937430, 3034120135, 2476161795, 1871107351,\n",
       "         3489848387,  178698996, 1385946258, 3425837589, 3912842461,\n",
       "          967424033,  183327538,  290125876, 1580796467, 2128863292,\n",
       "         2024930915,   56695324, 1700552935, 2003970618, 2295476828,\n",
       "         2831276434, 1726893921,    9114221, 2887035891, 4011015734,\n",
       "         1686588667, 3444241228,  684393353, 1716349510, 1008688662,\n",
       "         1162897829,   73428580, 1645316895, 1105641107,  458029812,\n",
       "         1830540961, 3981256196, 2759255303,  666031406,  841027378,\n",
       "         1432301424, 4011919132,  388830734,   73145572, 3022233267,\n",
       "         3073001990,   63072597, 2119765240, 3795824816, 4249579742,\n",
       "         1993608386,  311207423, 3676415627,  399277608, 1215744106,\n",
       "         2481841138, 4276458051, 2662948539,  974990731, 3338394391,\n",
       "         2727624309, 3975067644,  877523807,  392638081, 1870204596,\n",
       "          595804634, 2130836616, 4150507294, 2627655198, 1057308208,\n",
       "          799658074, 3854134998, 3851445639,  839173647, 2426709769,\n",
       "         4144385270, 1502770013, 3082829513, 2553226845,  158017816,\n",
       "          718293374, 2169489788,  635720678, 1571224948, 3123046741,\n",
       "          523492774, 4061337370, 1582760484, 1033660519, 4168813067,\n",
       "          311419514, 2588797557, 2178895849, 4137456216, 3520712952,\n",
       "          475368367, 1223348736, 4187836001, 3783653113, 3332461553,\n",
       "         2335668995, 3489437844, 2061505088,  314466609,  591242712,\n",
       "         3401740470, 2860116619, 3447938717,  154128882, 1370291946,\n",
       "         1855092460, 1704365106,  576991207, 1608056471, 3345954567,\n",
       "         2661869781,   25402456, 4047835115,  629013785, 1126934536,\n",
       "         3063478090, 4191368511, 2405726853,  678543448, 1543943815,\n",
       "         4112647069, 3495678762, 3589687145, 3480523777,  416691980,\n",
       "         2683553034, 2056033242,  828625071, 1775040713, 3199072373,\n",
       "         3698939111,  523239208, 3680578845, 1056063494, 3234823334,\n",
       "         1773064315,  671727479,  686519088, 1662865548, 1098303184,\n",
       "         1264915004, 2635128967, 1991636250, 1185806445, 2797662907,\n",
       "         3216647187, 3176064716,  530782921, 2572454640, 1471397639,\n",
       "         3048226441,  498928536,  903225239, 3767425471, 2341093337,\n",
       "          831617991, 1696811271,  128272914, 3884426469, 1579967286,\n",
       "         1567191597, 1992677397, 1805898054, 4107330637, 3394147654,\n",
       "         1785143435, 2835078715, 3257414050,  253617173, 3914789748,\n",
       "         3146171712,  534796347, 3449276736, 3489831694,  600633230,\n",
       "         4154813227, 3083631432,  195867231, 3623751227, 2378050872,\n",
       "         1077595063, 2587703697, 3822676371, 1342364401, 3298185287,\n",
       "         2736515441, 2858084689,  301689998,  841455988, 1343437392,\n",
       "          476472913, 2116487279, 2176243726, 1278689020, 1969571666,\n",
       "         4134444133, 2261447210, 3110566408,  769508355,  461105226,\n",
       "         3857498946, 3436687537, 1844718062, 3037800386,  135576974,\n",
       "         1697031839, 2126181463,  382393534, 1810176510, 3338203602,\n",
       "         1409790640, 2935292179, 3042449928, 1403772961,  335022993,\n",
       "          272983685, 2224370766,  882022966, 3628673190,  328877139,\n",
       "         1975634472, 1877938859, 4089430656, 3950067400, 1673625000,\n",
       "          361174760, 1430417627, 1378324004,  342145190, 2408001642,\n",
       "          139489278, 1100035505, 3175158386, 4196460750, 2506388326,\n",
       "         3387728776, 2394676591, 3773597468, 3380649055,  275973267,\n",
       "         2658274602, 1854506561, 1393763486, 3370507242,  422962475,\n",
       "         2230566311, 3934875610, 2036319894, 2887679669, 3125431570,\n",
       "         3862534618, 2437212074, 2913480335, 3810562294, 2854169327,\n",
       "         2302250448,  953008985, 2974076424, 1038484611,  466201913,\n",
       "          643633192, 4114429138, 1451559812,  392038191, 1115988707,\n",
       "         2776799997, 4096802206, 1500015571, 2467476160, 1450474885,\n",
       "         3523889982, 2465444342,   71428060,  755584557, 3925589345,\n",
       "          418072922, 2678225028,   72449561, 1098685555, 1854650478,\n",
       "         1846293481, 2493609479, 2229215536, 3223153639, 3131201195,\n",
       "            9357428, 4285283366, 1708267246, 3037984617, 2422634588,\n",
       "          158497879, 2340932679, 4272003449,  727243774, 3028772085,\n",
       "          355078577, 3616714765, 1164610543, 1502164850, 2714677023,\n",
       "         2902522310, 3314066500, 3128161662,  547980477,  111126287,\n",
       "          117130695, 4194381152, 1453257456,  157646751, 3109887483,\n",
       "         1554139511,  700476591, 3223985530,  787855651, 3820721368,\n",
       "         2245639127,  205081300, 1214128175, 2532844298, 2725140173,\n",
       "         1514752998, 1223024392, 3134081076, 3030178502, 2644466670,\n",
       "         2578917019, 3728730832,  396810464, 2166083274, 3022733825,\n",
       "         3110858661, 1035222739, 1916773160, 3596449412,  236918162,\n",
       "          973906658,  418019696,  741386762, 1963034168, 1820499226,\n",
       "         2697920645, 1092101861, 3294706211, 3734539111, 1212680008,\n",
       "         1771338053, 4249012235, 2278699862, 3397173348, 1505909030,\n",
       "         3116974771, 2777308410, 4221019854, 2788905519, 1078721896,\n",
       "         2823532014, 3044229142, 2393691924,  310681371,  965955734,\n",
       "         4089704775, 1827030197,  945991122,  382913685, 2865491625,\n",
       "         3772869514, 1794909015, 3743087840, 2721777102, 2167062840,\n",
       "          729905133, 2455783431, 4237226445,  616219738,  599905871,\n",
       "         3570328026,   67151930, 2704607747,  300871188, 3467609452,\n",
       "          657598154, 3321739507, 1886674509, 3074319700, 1300116874,\n",
       "         1345953252, 3395954347,  304161719,  577730369, 2146397783,\n",
       "         2403937972, 4053846555, 2272476401, 3453751394, 1955702177,\n",
       "         1036562795, 2878555506, 1851957921, 3274264665, 1725074775,\n",
       "         3503720126, 1294550359, 2892613729,  823417275, 2902609847,\n",
       "         2035685289, 3987993892, 2976127514, 2097773923, 3376215425,\n",
       "         1274332633, 1177530113, 2864855323, 3977497240,  372989977,\n",
       "           97949888, 1822070102, 1176960578, 2712444358, 1485357379,\n",
       "         3939628977, 2207140453, 3158500603, 3553714739, 2209973115,\n",
       "          676482255, 1321729810, 3350219326, 2484125749, 3240022093,\n",
       "         2605633967, 3875457833, 2508474118, 1202267882, 4206678956,\n",
       "         1654300791, 3120558459, 4288936043,  994213988, 2842708167,\n",
       "         1217755329, 1833008819,  513616050,  655763965,  831834850,\n",
       "          812777141, 3509800618, 2375371742, 1299425586, 3459409804,\n",
       "         3376818304,  731260661, 4235094545, 1008164850, 3238990477,\n",
       "         3136225276,  923879477, 4079215079,  690491730, 3769167628,\n",
       "         2446943799,  997764791,  649076320, 1036384432, 2284945348,\n",
       "         2448526590, 2401072909, 1637722483, 2764497474, 3718095475,\n",
       "         1646255884, 1890683651,  923729353, 1216180342, 4145408298,\n",
       "         1657681285, 1868441927, 1610247420, 2270882974, 3828671819,\n",
       "         2240584474, 1459851578, 1411701504, 4286558583,  897811155,\n",
       "          267830344, 2670457874, 2070492878, 3163500577, 3603811070,\n",
       "         3682938609, 3111841316, 2568847349, 2366092978, 1231602812,\n",
       "          429054767, 1046786876, 3601272364, 2759074181, 3991894640,\n",
       "         2547569534, 2922244618,  974784744, 2817263195, 1686180342,\n",
       "         1746544806,  980895060, 4183987817, 1238713981, 1829188788,\n",
       "         2093194931, 2447611633,   29634620, 3238519733, 1659131168,\n",
       "         2760550237, 2211912189, 2368448885, 2797875543, 1650776803,\n",
       "         2760086406, 1688486023, 2584853736, 3677267702,   77513494,\n",
       "         2314976757, 4166943688,  447025534, 1180096132, 1223621633,\n",
       "         2603332906,  344655722, 1824363029, 1105362258, 1883127460,\n",
       "         1471853705, 3973145886, 1903537437, 1260415958,  192184261,\n",
       "         3244519390, 4284548167,  294898389,  652106889, 3264481970,\n",
       "         2177131228, 2424023033,  148336462, 1114274190, 1964600715,\n",
       "         3251883405,   67886498, 3233072638, 1003660320,  497182919,\n",
       "         4294163880,  382221956, 1529170107,  503494230,  794280263,\n",
       "         1945449324, 3931239968, 1570136515,  310615665, 2702150018,\n",
       "         3634323587, 1654776411, 1312276024,  715513752], dtype=uint32), 449, 0, 0.0))"
      ]
     },
     "execution_count": 137,
     "metadata": {},
     "output_type": "execute_result"
    }
   ],
   "source": [
    "sampler.run_mcmc(pos,500)"
   ]
  },
  {
   "cell_type": "code",
   "execution_count": 138,
   "metadata": {},
   "outputs": [
    {
     "data": {
      "image/png": "[encoded data removed]",
      "text/plain": [
       "<Figure size 1080x720 with 2 Axes>"
      ]
     },
     "metadata": {
      "needs_background": "light"
     },
     "output_type": "display_data"
    }
   ],
   "source": [
    "x_g = np.linspace(0.0, 500, 500)\n",
    "y_H = 70*np.ones(500)\n",
    "y_omg = 0.5*np.ones(500)\n",
    "plt.figure(figsize=(15,10))\n",
    "for i in range(nwalkers):\n",
    "    plt.subplot(2, 1, 1)\n",
    "    plt.plot(x_g, sampler.chain[i,:,0], '-')\n",
    "    plt.plot(x_g, y_H, '-')\n",
    "    plt.ylabel('$H$',fontsize = 18)\n",
    "\n",
    "    plt.subplot(2, 1, 2)\n",
    "    plt.plot(x_g, sampler.chain[i,:,1], '-')\n",
    "    plt.plot(x_g, y_omg, '-')\n",
    "    plt.ylabel('$\\Omega_m$',fontsize = 18)\n",
    "    plt.xlabel('$stepnumber$',fontsize = 18)\n",
    "plt.show()\n"
   ]
  },
  {
   "cell_type": "code",
   "execution_count": null,
   "metadata": {},
   "outputs": [],
   "source": []
  },
  {
   "cell_type": "code",
   "execution_count": null,
   "metadata": {},
   "outputs": [],
   "source": []
  }
 ],
 "metadata": {
  "kernelspec": {
   "display_name": "Python 2",
   "language": "python",
   "name": "python2"
  },
  "language_info": {
   "codemirror_mode": {
    "name": "ipython",
    "version": 2
   },
   "file_extension": ".py",
   "mimetype": "text/x-python",
   "name": "python",
   "nbconvert_exporter": "python",
   "pygments_lexer": "ipython2",
   "version": "2.7.15"
  }
 },
 "nbformat": 4,
 "nbformat_minor": 2
}
