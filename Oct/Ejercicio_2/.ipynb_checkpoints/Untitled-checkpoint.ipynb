{
 "cells": [
  {
   "cell_type": "markdown",
   "metadata": {},
   "source": [
    "# transformada de Fourier\n",
    "\n",
    "## 1) Código personal que calcule transformada de Fourier de una función f(x)"
   ]
  },
  {
   "cell_type": "code",
   "execution_count": 2,
   "metadata": {},
   "outputs": [],
   "source": [
    "import matplotlib. pyplot as plt\n",
    "import numpy as np\n",
    "import math\n",
    "from scipy.integrate import odeint"
   ]
  },
  {
   "cell_type": "code",
   "execution_count": 68,
   "metadata": {},
   "outputs": [],
   "source": [
    "def integral(fun,x):\n",
    "    arg = []\n",
    "    for i in range(len(x)):\n",
    "        if i < len(x)-1:\n",
    "            arg.append(fun[i+1]*(x[i+1]-x[i]))\n",
    "    return np.sum(arg)"
   ]
  },
  {
   "cell_type": "code",
   "execution_count": 3,
   "metadata": {},
   "outputs": [],
   "source": [
    "def gaus (x,a,m):\n",
    "    return np.exp(-a*np.power((x-m),2))"
   ]
  },
  {
   "cell_type": "code",
   "execution_count": 37,
   "metadata": {},
   "outputs": [],
   "source": [
    "def coef_n (fun,k_n,l):\n",
    "    arg = []\n",
    "    epsi = np.linspace(-l,l,10000)\n",
    "    for i in range(len(epsi)):\n",
    "        if i < len(epsi)-1:\n",
    "            ex = np.exp(-complex(0,1)*k_n*epsi[i])\n",
    "            arg.append(ex*fun[i+1]*(epsi[i+1]-epsi[i])/pow(2*math.pi,2))\n",
    "    return np.sum(arg)"
   ]
  },
  {
   "cell_type": "code",
   "execution_count": 44,
   "metadata": {},
   "outputs": [],
   "source": [
    "def trans_fourire(fun,x0):\n",
    "    arg = []\n",
    "    k_n = np.linspace(-10,10,100)*math.pi\n",
    "    l = math.pi*len (k_n)\n",
    "    for i in range(len(k_n)):\n",
    "        if i < len(k_n)-1:\n",
    "            delta = (k_n[i+1]-k_n[i])\n",
    "            ex = np.exp(complex(0,1)*k_n[i]*x0) / pow(2*math.pi,2)\n",
    "            arg.append(coef_n(fun,k_n[i],l)*ex*delta)\n",
    "    return np.sum(arg)"
   ]
  },
  {
   "cell_type": "code",
   "execution_count": 48,
   "metadata": {},
   "outputs": [
    {
     "data": {
      "text/plain": [
       "(0.006232270575605502-1.994411580330535e-14j)"
      ]
     },
     "execution_count": 48,
     "metadata": {},
     "output_type": "execute_result"
    }
   ],
   "source": [
    "x = np.linspace(-100,100,10000)\n",
    "y = gaus(x,1,0)\n",
    "trans_fourire(y,3)"
   ]
  },
  {
   "cell_type": "code",
   "execution_count": 30,
   "metadata": {},
   "outputs": [
    {
     "data": {
      "text/plain": [
       "1j"
      ]
     },
     "execution_count": 30,
     "metadata": {},
     "output_type": "execute_result"
    }
   ],
   "source": [
    "complex(0,1)"
   ]
  },
  {
   "cell_type": "code",
   "execution_count": null,
   "metadata": {},
   "outputs": [],
   "source": []
  }
 ],
 "metadata": {
  "kernelspec": {
   "display_name": "Python 3",
   "language": "python",
   "name": "python3"
  },
  "language_info": {
   "codemirror_mode": {
    "name": "ipython",
    "version": 3
   },
   "file_extension": ".py",
   "mimetype": "text/x-python",
   "name": "python",
   "nbconvert_exporter": "python",
   "pygments_lexer": "ipython3",
   "version": "3.6.6"
  }
 },
 "nbformat": 4,
 "nbformat_minor": 2
}
