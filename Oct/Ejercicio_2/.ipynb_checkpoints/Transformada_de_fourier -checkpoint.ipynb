{
 "cells": [
  {
   "cell_type": "markdown",
   "metadata": {},
   "source": [
    "# transformada de Fourier\n",
    "\n",
    "## 1) Código personal que calcule transformada de Fourier de una función f(x)"
   ]
  },
  {
   "cell_type": "code",
   "execution_count": 1,
   "metadata": {},
   "outputs": [],
   "source": [
    "import matplotlib. pyplot as plt\n",
    "import numpy as np\n",
    "import math\n",
    "from scipy.integrate import odeint"
   ]
  },
  {
   "cell_type": "markdown",
   "metadata": {},
   "source": [
    "### Construcción de la transformada de Fourier\n",
    "\n",
    "Tenemos una función $f(x)$ periódica de periodo $2l$ y de cuadrado integrable sobre $[-l,l]$. La función tiene una serie de Fourier convergente:  \n",
    "\n",
    "\\begin{equation}\n",
    "f(x) = \\sum _{n =-\\infty}^{\\infty} C_n \\omega_n(x)\n",
    "\\end{equation}\n",
    "\n",
    "\n",
    "donde:\n",
    "\\begin{equation}\n",
    "       C_n =  \\int_{-l}^{l} \\frac{e^{-in\\pi\\epsilon/l}}{\\sqrt{2l}} f(\\epsilon) d\\epsilon \\quad y \\quad \\omega_n(x) = \\frac{e^{in\\pi x/l}}{\\sqrt{2l}} \\quad \\forall n \\in Z\n",
    "\\end{equation}\n",
    "\n",
    "\n",
    "\\begin{equation}\n",
    "\\Rightarrow  f(x) = \\sum _{n =-\\infty}^{\\infty} \\left( \\int_{-l}^{l} \\frac{e^{-in\\pi\\epsilon/l}}{\\sqrt{2l}} f(\\epsilon) d\\epsilon \\right) \\frac{e^{in\\pi x/l}}{\\sqrt{2l}}\n",
    "\\end{equation}\n",
    "\n",
    "\n",
    "Ahora, definamos $k_n = n\\pi/l$, el parametro $k$ va a cambiar de $- \\infty$ hasta $\\infty$ por un salto de longitud $\\Delta k_n = k_{n+1} - k_n = \\pi/l$ y entonces $1/l = \\Delta k_n/\\pi$\n",
    "\n",
    "Cuando $l \\rightarrow \\infty$ tenemos que:\n",
    "\n",
    "i) la intgral $\\int_{-l}^{l}$ va a devenir $\\int_{-\\infty}^{\\infty}$\n",
    "\n",
    "ii) $k_n$ va a tender a una variable continua $k$\n",
    "\n",
    "iii) $f(x)$ va a devenir:\n",
    "\n",
    "\\begin{equation}\n",
    "\\Rightarrow  f(x) = \\sum _{n =-\\infty}^{\\infty} \\left( \\int_{-l}^{l} \\frac{e^{-i k_n \\epsilon}}{\\sqrt{2\\pi}} f(\\epsilon) d\\epsilon \\right) \\frac{e^{i k_n x}}{\\sqrt{2\\pi}} \\Delta k_n\n",
    "\\end{equation}\n",
    "\\begin{equation}\n",
    "f(x) = \\sum _{n =-\\infty}^{\\infty} \\hat{f}(k_n)  \\frac{e^{i k_n x}}{\\sqrt{2\\pi}} \\Delta k_n\n",
    "\\end{equation}\n",
    "\\begin{equation}\n",
    "f(x) \\rightarrow  \\int _{-\\infty}^{\\infty} \\hat{f}(k)  \\frac{e^{i k x}}{\\sqrt{2\\pi}} dk\n",
    "\\end{equation}"
   ]
  },
  {
   "cell_type": "markdown",
   "metadata": {},
   "source": [
    "Usamos:\n",
    "\\begin{equation}\n",
    "f(x) = \\sum _{n =-\\infty}^{\\infty} \\hat{f}(k_n)  \\frac{e^{i k_n x}}{\\sqrt{2\\pi}} \\Delta k_n\n",
    "\\end{equation}"
   ]
  },
  {
   "cell_type": "markdown",
   "metadata": {},
   "source": [
    "def trans_fourire(fun,k_n):\n",
    "    \n",
    "    #coeficiente\n",
    "    norm = np.divide(1,np.power(2*np.pi,0.5))\n",
    "    x = k_n\n",
    "    \n",
    "    f_x = []\n",
    "    for j in range(len(k)):\n",
    "        arg_2 = []\n",
    "        if j<len(k)-1:\n",
    "            ex = np.exp(complex(0,1)*k_n[j]*x[j])\n",
    "            arg_2.append(fun[j]*ex*norm*(k_n[j+1]-k_n[j]))\n",
    "\n",
    "        f_x.append(np.sum(arg_2))\n",
    "    return np.array(f_x)*len(x)"
   ]
  },
  {
   "cell_type": "code",
   "execution_count": 351,
   "metadata": {},
   "outputs": [],
   "source": [
    "def trans_fourire(fun,eps):\n",
    "    \n",
    "    #coeficiente\n",
    "    l = np.amax(eps)\n",
    "    n = np.linspace(-np.amin(eps),np.amax(eps),len(eps))\n",
    "    k_n = n*np.pi/l \n",
    "    norm = np.divide(1,np.power(2*np.pi,0.5))\n",
    "    \n",
    "    f_k_n = []\n",
    "    for i in range(len(k)):\n",
    "        arg = []\n",
    "        if i < len(k)-1:\n",
    "            ex_1 = np.exp(-complex(0,1)*k_n[i]*eps[i])\n",
    "            arg.append(fun[i+1]*ex_1*(eps[i+1]-eps[i])*norm)\n",
    "        f_k_n.append(np.sum(arg))\n",
    "    \n",
    "    #transformada\n",
    "    f_x = []\n",
    "    for j in range(len(k)):\n",
    "        arg_2 = []\n",
    "        if j < len(k)-1:\n",
    "            ex_2 = np.exp(complex(0,1)*k_n[j+1]*eps[j])\n",
    "            arg_2.append(f_k_n[j+1]*ex_2*(np.pi/l)*norm)\n",
    "        f_x.append(np.sum(arg_2))\n",
    "    return np.array(f_x)*len(eps)"
   ]
  },
  {
   "cell_type": "markdown",
   "metadata": {},
   "source": [
    "Definimos la función que queremos transformar:\n",
    "\n",
    "\\begin{equation}\n",
    "\\hat{f}(k) = e^{-a^2(k-m)^2/2 }\n",
    "\\end{equation}"
   ]
  },
  {
   "cell_type": "code",
   "execution_count": 352,
   "metadata": {},
   "outputs": [],
   "source": [
    "def gaus (x,a,m):\n",
    "    return np.exp(-np.power((x-m),2)/(2*a**2))/a"
   ]
  },
  {
   "cell_type": "code",
   "execution_count": 355,
   "metadata": {},
   "outputs": [],
   "source": [
    "k = np.linspace(-5,5,1000)\n",
    "f_k = gaus(k,1,0)\n",
    "f_x = trans_fourire(f_k,k)"
   ]
  },
  {
   "cell_type": "code",
   "execution_count": 356,
   "metadata": {},
   "outputs": [
    {
     "name": "stderr",
     "output_type": "stream",
     "text": [
      "/home/echeveste/.local/lib/python3.6/site-packages/numpy/core/numeric.py:492: ComplexWarning: Casting complex values to real discards the imaginary part\n",
      "  return array(a, dtype, copy=False, order=order)\n"
     ]
    },
    {
     "data": {
      "text/plain": [
       "[<matplotlib.lines.Line2D at 0x7f4d6b34a160>]"
      ]
     },
     "execution_count": 356,
     "metadata": {},
     "output_type": "execute_result"
    },
    {
     "data": {
      "image/png": "[encoded data removed]",
      "text/plain": [
       "<Figure size 432x288 with 1 Axes>"
      ]
     },
     "metadata": {},
     "output_type": "display_data"
    }
   ],
   "source": [
    "plt.plot(k[:],f_k)\n",
    "plt.plot(k[:],f_x)"
   ]
  },
  {
   "cell_type": "code",
   "execution_count": 328,
   "metadata": {},
   "outputs": [
    {
     "data": {
      "text/plain": [
       "3.0"
      ]
     },
     "execution_count": 328,
     "metadata": {},
     "output_type": "execute_result"
    }
   ],
   "source": [
    "n=complex(3,6)\n",
    "n.real"
   ]
  },
  {
   "cell_type": "code",
   "execution_count": null,
   "metadata": {},
   "outputs": [],
   "source": []
  }
 ],
 "metadata": {
  "kernelspec": {
   "display_name": "Python 3",
   "language": "python",
   "name": "python3"
  },
  "language_info": {
   "codemirror_mode": {
    "name": "ipython",
    "version": 3
   },
   "file_extension": ".py",
   "mimetype": "text/x-python",
   "name": "python",
   "nbconvert_exporter": "python",
   "pygments_lexer": "ipython3",
   "version": "3.6.6"
  }
 },
 "nbformat": 4,
 "nbformat_minor": 2
}
