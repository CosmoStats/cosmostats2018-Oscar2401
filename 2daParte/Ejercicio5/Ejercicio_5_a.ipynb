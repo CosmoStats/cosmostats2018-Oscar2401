{
 "cells": [
  {
   "cell_type": "markdown",
   "metadata": {},
   "source": [
    "# 1) Pesos en la función de correlación (estimador de Landy-Salay)"
   ]
  },
  {
   "cell_type": "markdown",
   "metadata": {},
   "source": [
    "a) Construye dos anillos concéntricos de radios distintos y ancho fijo, pero que el radio mayor del anillo más pequeño sea igual al radio menor del anillo más grande (ie ambos anillos deben de verse como un solo anillo del doble de ancho). La densidad de ambos anillos debe de ser igual. Grafica la distribución poniendo color rojo a los puntos del anillo pequeño y azul a los del grande."
   ]
  },
  {
   "cell_type": "code",
   "execution_count": 1,
   "metadata": {},
   "outputs": [],
   "source": [
    "from mpl_toolkits.mplot3d import Axes3D         # Cargo Axes3D de mpl_toolkits.mplot3d\n",
    "import matplotlib. pyplot as plt\n",
    "import numpy as np\n",
    "import random\n",
    "import math\n",
    "import scipy.spatial.distance as dist\n",
    "from scipy.fftpack import fft, fftfreq\n",
    "%matplotlib inline"
   ]
  },
  {
   "cell_type": "code",
   "execution_count": 2,
   "metadata": {},
   "outputs": [],
   "source": [
    "def anillo_random(rad_ex,rad_in,puntos,centro):  #Depende del radio esterior y interior, ademas de la cantidad de puntos dentro de él.\n",
    "    D = []\n",
    "    D = open('Tabla_Datos_Aro.dat',\"w\")  #abrimos un scrip para manejar los datos.\n",
    "    \n",
    "    for i in range(puntos):\n",
    "        r = pow(random.randrange(rad_in**2,rad_ex**2,1),0.5) #puntos aleatorios en un radio interior y uno exterior\n",
    "        th = random.random()*2*math.pi\n",
    "        x = r*math.cos(th) + centro \n",
    "        y = r*math.sin(th) + centro \n",
    "        D.write(\"%f  \\t%f \\n\" % (x,y))\n",
    "    D.close()\n",
    "    \n",
    "    return np.loadtxt('Tabla_Datos_Aro.dat') # u = RR_1[:,0] y v = RR_1[:,1]"
   ]
  },
  {
   "cell_type": "code",
   "execution_count": 103,
   "metadata": {},
   "outputs": [],
   "source": [
    "anillos_ran = []\n",
    "radio_ex_1 = 18\n",
    "radio_in_1 = 17\n",
    "\n",
    "radio_ex_2 = 17\n",
    "radio_in_2 = 16\n",
    "\n",
    "puntos_g = 1200\n",
    "puntos_ch = int((puntos_g)*((radio_in_1**2)-(radio_in_2**2))/((radio_ex_1**2)-(radio_in_1**2)))\n",
    "\n",
    "centro = 50 \n",
    "\n",
    "#Datos de los dos anillos por separado\n",
    "anillos_ran_g = anillo_random(radio_ex_1,radio_in_1,puntos_g, centro)\n",
    "anillos_ran_ch = anillo_random(radio_ex_2,radio_in_2,puntos_ch, centro )\n",
    "\n",
    "#Datos de los dos anillos juntos \n",
    "anillos_ran = np.append(anillos_ran,anillos_ran_g)\n",
    "anillos_ran = np.append(anillos_ran,anillos_ran_ch)\n",
    "anillos_ran = np.reshape(anillos_ran,(int(len(anillos_ran)/2),2))"
   ]
  },
  {
   "cell_type": "code",
   "execution_count": 104,
   "metadata": {},
   "outputs": [
    {
     "data": {
      "text/plain": [
       "(0, 100)"
      ]
     },
     "execution_count": 104,
     "metadata": {},
     "output_type": "execute_result"
    },
    {
     "data": {
      "image/png": "[encoded data removed]",
      "text/plain": [
       "<Figure size 720x720 with 1 Axes>"
      ]
     },
     "metadata": {},
     "output_type": "display_data"
    }
   ],
   "source": [
    "#graficamos los puntos\n",
    "plt.figure(figsize=(10,10))\n",
    "plt.title('Distribución de Anillos',fontsize = 18)\n",
    "plt.plot(anillos_ran_g[:,0],anillos_ran_g[:,1], 'b.')\n",
    "plt.plot(anillos_ran_ch[:,0],anillos_ran_ch[:,1], 'r.')\n",
    "plt.xlim(0,100)\n",
    "plt.ylim(0,100)"
   ]
  },
  {
   "cell_type": "markdown",
   "metadata": {},
   "source": [
    "b) Mide la función de correlación asignando los siguientes pesos a cada punto: para puntos en el anillo pequeño (rojos) usa un peso de $2$, mientras que para puntos en el anillo grande (azules) usa $\\frac{1}{2}$. Sobrepon en una gráfica la función de correlación sin pesos con la de pesos, y describe las diferencias en palabras."
   ]
  },
  {
   "cell_type": "code",
   "execution_count": 105,
   "metadata": {},
   "outputs": [],
   "source": [
    "#función para calcular el estimador Landy-slay:\n",
    "def Lan_Sza(DD,RR,DR,Nd,Nr):\n",
    "    n_1 = (Nr*(Nr-1))/(Nd*(Nd-1))\n",
    "    n_2 = (Nr-1)/(Nd)\n",
    "    return  1 + ((np.divide(DD,RR))*n_1) - 2*((np.divide(DR,RR))*n_2)"
   ]
  },
  {
   "cell_type": "code",
   "execution_count": 106,
   "metadata": {},
   "outputs": [],
   "source": [
    "#fución para cacular distancia entre cada punto de un arreglo:\n",
    "def dis_NN(m): \n",
    "    a = []\n",
    "    b = []\n",
    "    dis = []\n",
    "    for i in range(len(m)):\n",
    "        a.append(m[:,0]-m[:,0][i]) #guardamos las difrerencias en x\n",
    "        b.append(m[:,1]-m[:,1][i]) #guardamos las difrerencias en y\n",
    "    dis = np.sqrt(np.power(a,2)+np.power(b,2)) #sacamos la distancias con pitagoras\n",
    "    return dis.reshape(-1) #regresa un arreglo unidimencional."
   ]
  },
  {
   "cell_type": "code",
   "execution_count": 107,
   "metadata": {},
   "outputs": [],
   "source": [
    "#funcion para calcular distacnia entre puntos de dos arreglos distintos:\n",
    "def dis_MN(m,n):\n",
    "    a = []\n",
    "    b = []\n",
    "    dis = []\n",
    "    for i in range(len(n)):\n",
    "        a.append(m[:,0]-n[:,0][i]) #guardamos las difrerencias en x\n",
    "        b.append(m[:,1]-n[:,1][i]) #guardamos las difrerencias en y\n",
    "    dis = np.sqrt(np.power(a,2)+np.power(b,2)) #sacamos la distancias con pitagoras\n",
    "    return dis.reshape(-1) #regresa un arreglo unidimencional."
   ]
  },
  {
   "cell_type": "code",
   "execution_count": 108,
   "metadata": {},
   "outputs": [],
   "source": [
    "#funcion para hacer histograma:\n",
    "def Histo_dist (Dist,bins_0):\n",
    "    frec, b = np.histogram(Dist, bins = bins_0)\n",
    "    return frec, b"
   ]
  },
  {
   "cell_type": "code",
   "execution_count": 109,
   "metadata": {},
   "outputs": [],
   "source": [
    "#función para hacer caja randooms:\n",
    "def caja_Rand(dim,puntos): \n",
    "    R = open('Tabla_Aleatorios.dat',\"w\") #abrimos un scrip para manejar los datos.\n",
    "    for i in range(puntos):\n",
    "        a, b = 0, 0 #iniciamos las variables\n",
    "        a = random.random()*dim #random.random sólo da valores entre 0 y 1 por lo que lo multiplico por la dimención de la caja\n",
    "        b = random.random()*dim\n",
    "        R.write(\"%f  \\t%f \\n\" % (a,b)) #escribimos los valores en el scip.\n",
    "    R.close()\n",
    "    return np.loadtxt('Tabla_Aleatorios.dat') # x = RR[:,0] | y = RR[:,1]"
   ]
  },
  {
   "cell_type": "code",
   "execution_count": 110,
   "metadata": {},
   "outputs": [],
   "source": [
    "#Distancia entre cada punto del arrglo:\n",
    "dis_anillo_ch = dis_NN(anillos_ran_ch)\n",
    "dis_anillo_g = dis_NN(anillos_ran_g)\n",
    "#sin peso\n",
    "dis_anillo = []\n",
    "dis_anillo = np.append(dis_anillo,dis_anillo_ch) \n",
    "dis_anillo = np.append(dis_anillo,dis_anillo_g)"
   ]
  },
  {
   "cell_type": "code",
   "execution_count": 111,
   "metadata": {},
   "outputs": [],
   "source": [
    "dimencion = 200\n",
    "puntos = len(anillos_ran)*2\n",
    "R_anillo = caja_Rand(dimencion,puntos) #hacemos la caja"
   ]
  },
  {
   "cell_type": "code",
   "execution_count": 112,
   "metadata": {},
   "outputs": [],
   "source": [
    "dis_R_anillo = dis_NN(R_anillo)"
   ]
  },
  {
   "cell_type": "code",
   "execution_count": 113,
   "metadata": {},
   "outputs": [],
   "source": [
    "dis_DR_anillo_ch = dis_MN(anillos_ran_ch,R_anillo)\n",
    "dis_DR_anillo_g = dis_MN(anillos_ran_g,R_anillo)\n",
    "#sin peso \n",
    "dis_DR_anillo = []\n",
    "dis_DR_anillo = np.append(dis_DR_anillo,dis_DR_anillo_ch)\n",
    "dis_DR_anillo = np.append(dis_DR_anillo,dis_DR_anillo_g)\n",
    "#con peso \n",
    "#dis_DR_anillo_w = []\n",
    "#dis_DR_anillo_w = np.append(dis_DR_anillo_w,w_ch*dis_DR_anillo_ch)\n",
    "#dis_DR_anillo_w = np.append(dis_DR_anillo_w,w_g*dis_DR_anillo_g)"
   ]
  },
  {
   "cell_type": "markdown",
   "metadata": {},
   "source": [
    "#### Histogramas"
   ]
  },
  {
   "cell_type": "code",
   "execution_count": 114,
   "metadata": {},
   "outputs": [],
   "source": [
    "binn = 100\n",
    "DD_anillo_ch, bins_D_anillo_ch = Histo_dist(dis_anillo_ch,binn)\n",
    "DD_anillo_g, bins_D_anillo_g = Histo_dist(dis_anillo_g,binn)\n",
    "DD_anillo, bins_D_anillo = Histo_dist(dis_anillo,binn)"
   ]
  },
  {
   "cell_type": "code",
   "execution_count": 115,
   "metadata": {},
   "outputs": [
    {
     "data": {
      "image/png": "[encoded data removed]",
      "text/plain": [
       "<Figure size 432x288 with 1 Axes>"
      ]
     },
     "metadata": {},
     "output_type": "display_data"
    }
   ],
   "source": [
    "plt.figure()\n",
    "plt.hist(dis_anillo, bins=binn, alpha = 0.5, label=\"Anillo\")\n",
    "plt.hist(dis_anillo_g, bins=binn, alpha = 0.5, label=\"Anillo grande\")\n",
    "plt.hist(dis_anillo_ch, bins=binn, alpha = 0.5, label=\"Anillo chico\")\n",
    "plt.title(\"Histograma de distancias\",fontsize=18)\n",
    "plt.ylabel(\"Frecuencia\",fontsize=18) \n",
    "plt.xlabel(\"Distancia\",fontsize=18)\n",
    "plt.legend(fontsize = 10);\n",
    "plt.show()"
   ]
  },
  {
   "cell_type": "code",
   "execution_count": 116,
   "metadata": {},
   "outputs": [],
   "source": [
    "#DD_anillo_w, bins_D_anillo_w = Histo_dist(dis_anillo_w,binn)"
   ]
  },
  {
   "cell_type": "markdown",
   "metadata": {},
   "source": [
    "plt.figure()\n",
    "plt.hist(dis_anillo_w, bins=binn, alpha = 0.5, label=\"Anillo\")\n",
    "plt.hist(dis_anillo_g, bins=binn, alpha = 0.5, label=\"Anillo grande\")\n",
    "plt.hist(dis_anillo_ch, bins=binn, alpha = 0.5, label=\"Anillo chico\")\n",
    "plt.title(\"Histograma de distancias\",fontsize=18)\n",
    "plt.ylabel(\"Frecuencia\",fontsize=18) \n",
    "plt.xlabel(\"Distancia\",fontsize=18)\n",
    "plt.legend(fontsize = 10);\n",
    "plt.show()"
   ]
  },
  {
   "cell_type": "code",
   "execution_count": 117,
   "metadata": {},
   "outputs": [],
   "source": [
    "RR_anillo, bins_R_anillo = Histo_dist(dis_R_anillo,binn)"
   ]
  },
  {
   "cell_type": "code",
   "execution_count": 118,
   "metadata": {},
   "outputs": [],
   "source": [
    "DR_anillo_ch, bins_DR_anillo_ch = Histo_dist(dis_DR_anillo_ch,binn)\n",
    "DR_anillo_g, bins_DR_anillo_g = Histo_dist(dis_DR_anillo_g,binn)\n",
    "DR_anillo, bins_DR_anillo = Histo_dist(dis_DR_anillo,binn)\n",
    "#DR_anillo_w, bins_DR_anillo_w = Histo_dist(dis_DR_anillo_w,binn)\n"
   ]
  },
  {
   "cell_type": "code",
   "execution_count": 119,
   "metadata": {},
   "outputs": [],
   "source": [
    "LS_anillo = Lan_Sza(DD_anillo,RR_anillo,DR_anillo,len(anillos_ran),len(R_anillo))\n",
    "#LS_anillo_w = Lan_Sza(DD_anillo_w,RR_anillo,DR_anillo_w,len(anillos_ran),len(R_anillo))"
   ]
  },
  {
   "cell_type": "code",
   "execution_count": 128,
   "metadata": {},
   "outputs": [
    {
     "name": "stderr",
     "output_type": "stream",
     "text": [
      "No handles with labels found to put in legend.\n"
     ]
    },
    {
     "data": {
      "text/plain": [
       "<matplotlib.legend.Legend at 0x7f68cc65a5c0>"
      ]
     },
     "execution_count": 128,
     "metadata": {},
     "output_type": "execute_result"
    },
    {
     "data": {
      "image/png": "[encoded data removed]",
      "text/plain": [
       "<Figure size 1080x396 with 1 Axes>"
      ]
     },
     "metadata": {},
     "output_type": "display_data"
    }
   ],
   "source": [
    "l_0 = 5\n",
    "l_1 = 15\n",
    "plt.figure(figsize=(15,5.5))\n",
    "plt.plot(bins_D_anillo[l_0:-(l_1+1)],LS_anillo[l_0:-l_1],'r.-')\n",
    "#plt.plot(bins_D_anillo[l_0:-(l_1+1)],LS_anillo_w[l_0:-l_1],'g.-')\n",
    "plt.legend(shadow=True, fontsize='x-large')"
   ]
  },
  {
   "cell_type": "code",
   "execution_count": 121,
   "metadata": {},
   "outputs": [],
   "source": [
    "#Función para calcular transformada de fourier:\n",
    "def fourire(x_n, L ,dim):\n",
    "    j = complex(0,1)\n",
    "    N = len(x_n) \n",
    "    k_n = x_n\n",
    "    P_k = []\n",
    "    for i in range(N): \n",
    "         P_k.append( (L**dim)*pow(abs(np.sum(np.exp(-j*(k_n[i]*x_n)))/N),2) - (L**dim/N))\n",
    "    return P_k"
   ]
  },
  {
   "cell_type": "code",
   "execution_count": 122,
   "metadata": {},
   "outputs": [],
   "source": [
    "P_anillo = fourire(LS_anillo[l_0:-l_1],100,1)\n",
    "#P_anillo_w = fourire(LS_anillo_w[l_0:-l_1],100,1)"
   ]
  },
  {
   "cell_type": "code",
   "execution_count": 123,
   "metadata": {},
   "outputs": [
    {
     "data": {
      "text/plain": [
       "[<matplotlib.lines.Line2D at 0x7f68cc8134a8>]"
      ]
     },
     "execution_count": 123,
     "metadata": {},
     "output_type": "execute_result"
    },
    {
     "data": {
      "image/png": "[encoded data removed]",
      "text/plain": [
       "<Figure size 720x360 with 1 Axes>"
      ]
     },
     "metadata": {},
     "output_type": "display_data"
    }
   ],
   "source": [
    "plt.figure(figsize=(10,5))\n",
    "plt.plot(bins_D_anillo[l_0:-(l_1+1)],P_anillo,'r-')\n",
    "#plt.plot(bins_D_anillo[l_0:-(l_1+1)],P_anillo_w,'g-')\n",
    "#plt.ylim(-3,20)\n",
    "#plt.xlim(20,40)"
   ]
  },
  {
   "cell_type": "code",
   "execution_count": 124,
   "metadata": {},
   "outputs": [],
   "source": [
    "#Función para calcular transformada de fourier:\n",
    "def fourire_w(x_n, L ,dim, w):\n",
    "    \n",
    "    w_ch, w_g = w\n",
    "    \n",
    "    w_b = []\n",
    "    w_b = np.append(w_b,w_ch)\n",
    "    w_b = np.append(w_b,w_g)\n",
    "    \n",
    "    #pesos\n",
    "    w_1 = L**dim * w_ch[0]\n",
    "    w_2 = L**dim * w_g[0]\n",
    "    \n",
    "    s_w = pow(np.sum(w_ch) + np.sum(w_g),2) \n",
    "    \n",
    "    \n",
    "    j = complex(0,1)\n",
    "    N = len(x_n)\n",
    "    k_n = x_n\n",
    "    P_k = []\n",
    "    s_exp = []\n",
    "    for i in range(N): \n",
    "         s_exp = np.append(s_exp,np.sum(w_b[i]*np.exp(-j*(k_n[i]*x_n)))/N)\n",
    "    P_k = np.append(P_k,((L**dim/s_w)*np.power(np.abs((((w_ch[0] + w_g[0])*L**dim/(N*L**dim))*s_exp)-w_b),2))-((w_ch[0] + w_g[0])*L**dim)/N)\n",
    "    return P_k"
   ]
  },
  {
   "cell_type": "code",
   "execution_count": 125,
   "metadata": {},
   "outputs": [],
   "source": [
    "#Pesos para cada punto de cada anillos \n",
    "w_ch = np.ones(int(len(LS_anillo[l_0:-l_1])/2))*2\n",
    "w_g = np.ones(int(len(LS_anillo[l_0:-l_1])/2))*(1/2)\n",
    "w = w_ch, w_g"
   ]
  },
  {
   "cell_type": "code",
   "execution_count": 126,
   "metadata": {},
   "outputs": [],
   "source": [
    "P_anillo_w = fourire_w(LS_anillo[l_0:-l_1], 100 ,1, w)"
   ]
  },
  {
   "cell_type": "code",
   "execution_count": 127,
   "metadata": {},
   "outputs": [
    {
     "data": {
      "text/plain": [
       "[<matplotlib.lines.Line2D at 0x7f68cc632780>]"
      ]
     },
     "execution_count": 127,
     "metadata": {},
     "output_type": "execute_result"
    },
    {
     "data": {
      "image/png": "[encoded data removed]",
      "text/plain": [
       "<Figure size 720x360 with 1 Axes>"
      ]
     },
     "metadata": {},
     "output_type": "display_data"
    }
   ],
   "source": [
    "plt.figure(figsize=(10,5))\n",
    "plt.plot(bins_D_anillo[l_0:-(l_1+1)],P_anillo_w,'k.')\n",
    "#plt.ylim(-1.533,-1.534)\n",
    "#plt.xlim(20,40)"
   ]
  },
  {
   "cell_type": "code",
   "execution_count": null,
   "metadata": {},
   "outputs": [],
   "source": []
  }
 ],
 "metadata": {
  "kernelspec": {
   "display_name": "Python 3",
   "language": "python",
   "name": "python3"
  },
  "language_info": {
   "codemirror_mode": {
    "name": "ipython",
    "version": 3
   },
   "file_extension": ".py",
   "mimetype": "text/x-python",
   "name": "python",
   "nbconvert_exporter": "python",
   "pygments_lexer": "ipython3",
   "version": "3.6.6"
  }
 },
 "nbformat": 4,
 "nbformat_minor": 2
}
