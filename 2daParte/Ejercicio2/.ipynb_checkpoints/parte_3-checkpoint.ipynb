{
 "cells": [
  {
   "cell_type": "code",
   "execution_count": 81,
   "metadata": {},
   "outputs": [],
   "source": [
    "from mpl_toolkits.mplot3d import Axes3D         # Cargo Axes3D de mpl_toolkits.mplot3d\n",
    "import matplotlib. pyplot as plt\n",
    "import numpy as np\n",
    "import random\n",
    "import math\n",
    "%matplotlib inline"
   ]
  },
  {
   "cell_type": "markdown",
   "metadata": {},
   "source": [
    "#### 3) Calcula la función de correlación para cada una de las cajas de datos del inciso anterior, usando los estimadores de\n",
    "\n",
    "    a) Peebles-Hauser\n",
    "\n",
    "    b) Davis-Peebles\n",
    "\n",
    "    c) Hamilton\n",
    "\n",
    "    d) Landy-Szalay\n",
    "\n",
    "y recuerda escoger un bin adecuado para ver las señales. Utiliza 10 veces el número de puntos en las muestras aleatorias que con los datos."
   ]
  },
  {
   "cell_type": "code",
   "execution_count": 82,
   "metadata": {},
   "outputs": [],
   "source": [
    "def dis(x,y,z):\n",
    "    return pow(pow(x,2)+pow(y,2)+pow(z,2),0.5) #teorema de pitagoras"
   ]
  },
  {
   "cell_type": "code",
   "execution_count": 83,
   "metadata": {},
   "outputs": [],
   "source": [
    "def dis_NN(m):\n",
    "    dis_2d = open('Distancias.dat',\"w\")\n",
    "    dis_2d.close()\n",
    "    dis_2d = open('Distancias.dat',\"w\")\n",
    "    N = len(m[:,0])\n",
    "    for i in range(N):\n",
    "        for j in range(N):\n",
    "            if i != j: # No consideramos distancias entre un mismo punto.\n",
    "                if i > j: #No consideramos las mismas distancias repetidas entre puntos repetidos.\n",
    "                    dis_2d.write(\"%f\\n\" % dis( m[:,0][i]-m[:,0][j], m[:,1][i]-m[:,1][j], 0 ))\n",
    "                    \n",
    "    dis_2d.close()\n",
    "    distancias = np.loadtxt('Distancias.dat')\n",
    "    return distancias"
   ]
  },
  {
   "cell_type": "code",
   "execution_count": 84,
   "metadata": {},
   "outputs": [],
   "source": [
    "def graf_histo (Dist,bins_0):\n",
    "    plt.figure()\n",
    "    histo_2d = np.array(Dist) \n",
    "    plt.figure()\n",
    "    plt.hist(histo_2d, bins=bins_0)\n",
    "    plt.title(\"Histograma de distancias\",fontsize=18)\n",
    "    plt.ylabel(\"Frecuencia\",fontsize=18) \n",
    "    plt.xlabel(\"Distancia\",fontsize=18)\n",
    "    plt.show()"
   ]
  },
  {
   "cell_type": "code",
   "execution_count": 85,
   "metadata": {},
   "outputs": [],
   "source": [
    "def graf_histo (Dist,B):\n",
    "    plt.figure()\n",
    "    histo_2d = np.array(Dist) \n",
    "    plt.figure()\n",
    "    plt.hist(histo_2d, bins=B)\n",
    "    plt.title(\"Histograma de distancias\",fontsize=18)\n",
    "    plt.ylabel(\"Frecuencia\",fontsize=18) \n",
    "    plt.xlabel(\"Distancia\",fontsize=18)\n",
    "    plt.show()"
   ]
  },
  {
   "cell_type": "markdown",
   "metadata": {},
   "source": [
    "#### Peebles-Hauser"
   ]
  },
  {
   "cell_type": "code",
   "execution_count": 86,
   "metadata": {},
   "outputs": [],
   "source": [
    "def Pee_Hau(DD,RR,Nd,Nr):\n",
    "    n = pow((Nr*(Nr-1))/(Nd*(Nd-1)),0.5)\n",
    "    return ((np.divide(DD,RR))/pow(n,2))-1"
   ]
  },
  {
   "cell_type": "markdown",
   "metadata": {},
   "source": [
    "#### Davis-Peebles"
   ]
  },
  {
   "cell_type": "code",
   "execution_count": 87,
   "metadata": {},
   "outputs": [],
   "source": [
    "def Dav_Pee(DD,RR,Nd,Nr):\n",
    "    n = pow((Nr*(Nr-1))/(Nd*(Nd-1)),1/2)\n",
    "    return ((np.divide(DD,RR))/(n**2))-1"
   ]
  },
  {
   "cell_type": "markdown",
   "metadata": {},
   "source": [
    "#### Hamilton"
   ]
  },
  {
   "cell_type": "markdown",
   "metadata": {},
   "source": [
    "#### Landy-Szalay"
   ]
  },
  {
   "cell_type": "markdown",
   "metadata": {},
   "source": [
    "#### MALLA"
   ]
  },
  {
   "cell_type": "code",
   "execution_count": 88,
   "metadata": {},
   "outputs": [],
   "source": [
    "def malla_cuad (tamaño,ret): \n",
    "    DD = [] \n",
    "    DD = open('Tabla_Datos_malla.dat',\"w\")  #abrimos un scrip para manejar los datos.\n",
    "    c, d = 0, 0\n",
    "    for i in range(int(tamaño/ret)): \n",
    "        for j in range(int(tamaño/ret)):\n",
    "            c, d  = i*ret, j*ret #acomoda los puntos en y\n",
    "            DD.write(\"%f  \\t%f \\n\" % (c,d))\n",
    "    DD.close()\n",
    "    return np.loadtxt('Tabla_Datos_malla.dat') "
   ]
  },
  {
   "cell_type": "markdown",
   "metadata": {},
   "source": [
    "#### DISCO"
   ]
  },
  {
   "cell_type": "code",
   "execution_count": 89,
   "metadata": {},
   "outputs": [],
   "source": [
    "def disco_random (rad,puntos):\n",
    "    D = []\n",
    "    D = open('Tabla_Datos_disco.dat',\"w\")  #abrimos un scrip para manejar los datos.\n",
    "    for i in range(puntos):\n",
    "        r = pow(random.randrange(0,rad**2,1),0.5) #Radio aleatorio tomando en cuenta el jacobiano.\n",
    "        th = random.random()*2*math.pi #valor de theta aleatorio, \n",
    "        x = r*math.cos(th) # usando la ecuación parametrica del círculo \n",
    "        y = r*math.sin(th)\n",
    "        D.write(\"%f  \\t%f \\n\" % (x,y)) \n",
    "    D.close()\n",
    "    return np.loadtxt('Tabla_Datos_disco.dat')"
   ]
  },
  {
   "cell_type": "markdown",
   "metadata": {},
   "source": [
    "#### ANILLO"
   ]
  },
  {
   "cell_type": "code",
   "execution_count": 90,
   "metadata": {},
   "outputs": [],
   "source": [
    "def anillo_random(rad_ex,rad_in,puntos):\n",
    "    D = []\n",
    "    D = open('Tabla_Datos_Aro.dat',\"w\")  #abrimos un scrip para manejar los datos.\n",
    "    for i in range(puntos):\n",
    "        r = pow(random.randrange(rad_in**2,rad_ex**2,1),0.5) #puntos aleatorios en un radio interior y uno exterior\n",
    "        th = random.random()*2*math.pi\n",
    "        x = r*math.cos(th) \n",
    "        y = r*math.sin(th)\n",
    "        D.write(\"%f  \\t%f \\n\" % (x,y))\n",
    "    D.close()\n",
    "    return np.loadtxt('Tabla_Datos_Aro.dat') # u = RR_1[:,0] y v = RR_1[:,1]"
   ]
  },
  {
   "cell_type": "markdown",
   "metadata": {},
   "source": [
    "#### ANILLOS DISPERSOS"
   ]
  },
  {
   "cell_type": "code",
   "execution_count": 91,
   "metadata": {},
   "outputs": [],
   "source": [
    "def anillos_randoms_2(num_anillos, rad_in,rad_ext, puntos, tam_caja):\n",
    "     \n",
    "    D_5 = open('Tabla_Datos_anillos_aleatorios2.dat',\"w\")  #abrimos un scrip para manejar los datos.\n",
    "    \n",
    "    for i in range(num_anillos):\n",
    "        r_x0 = random.randrange(0,tam_caja,1) # coordenada x donde se ubicará el anillo\n",
    "        r_y0 = random.randrange(0,tam_caja,1) # coordenada y donde se ubicará el anillo\n",
    "        \n",
    "        for j in range(puntos):\n",
    "            r = pow(random.randrange(rad_in**2,rad_ext**2,1),0.5)\n",
    "            th = random.random()*2*math.pi\n",
    "            x = r*math.cos(th) + r_x0\n",
    "            y = r*math.sin(th) + r_y0\n",
    "            if 0<x<tam_caja and 0<y<tam_caja:\n",
    "                D_5.write(\"%f  \\t%f \\n\" % (x,y))\n",
    "    D_5.close()\n",
    "    \n",
    "    return np.loadtxt('Tabla_Datos_anillos_aleatorios2.dat')"
   ]
  },
  {
   "cell_type": "markdown",
   "metadata": {},
   "source": [
    "Creamos los datos:"
   ]
  },
  {
   "cell_type": "code",
   "execution_count": 149,
   "metadata": {},
   "outputs": [],
   "source": [
    "Dt_1 = malla_cuad(1000,25) #hacemos una malla de tamaño 1000x1000 (10x10 cada reticula)\n",
    "Dt_2 = disco_random(300,100) #Hacemos un disco de radio 300 con 1000 pntos\n",
    "Dt_3 = anillo_random(300,290,100) # Anillo de radio interno 290 y radio externo 300 con 1000 puntos\n",
    "Dt_4 = anillos_randoms_2(50,290,300,10,1000)"
   ]
  },
  {
   "cell_type": "markdown",
   "metadata": {},
   "source": [
    "Calcualamos sus distancias"
   ]
  },
  {
   "cell_type": "code",
   "execution_count": 136,
   "metadata": {},
   "outputs": [],
   "source": [
    "dis_D_1 = dis_NN(Dt_1)"
   ]
  },
  {
   "cell_type": "code",
   "execution_count": 137,
   "metadata": {},
   "outputs": [],
   "source": [
    "dis_D_2 = dis_NN(Dt_2)"
   ]
  },
  {
   "cell_type": "code",
   "execution_count": 138,
   "metadata": {},
   "outputs": [],
   "source": [
    "dis_D_3 = dis_NN(Dt_3)"
   ]
  },
  {
   "cell_type": "code",
   "execution_count": 150,
   "metadata": {},
   "outputs": [],
   "source": [
    "dis_D_4 = dis_NN(Dt_4)"
   ]
  },
  {
   "cell_type": "markdown",
   "metadata": {},
   "source": [
    "Creamos los Datos aleatorios R"
   ]
  },
  {
   "cell_type": "code",
   "execution_count": 128,
   "metadata": {},
   "outputs": [],
   "source": [
    "def caja_Rand(dim,puntos): \n",
    "    R = open('Tabla_Aleatorios.dat',\"w\") #abrimos un scrip para manejar los datos.\n",
    "    for i in range(puntos):\n",
    "        a, b = 0, 0 #iniciamos las variables\n",
    "        a = random.random()*dim #random.random sólo da valores entre 0 y 1 por lo que lo multiplico por la dimención de la caja\n",
    "        b = random.random()*dim\n",
    "        R.write(\"%f  \\t%f \\n\" % (a,b)) #escribimos los valores en el scip.\n",
    "    R.close()\n",
    "    return np.loadtxt('Tabla_Aleatorios.dat') # x = RR[:,0] | y = RR[:,1]"
   ]
  },
  {
   "cell_type": "code",
   "execution_count": 140,
   "metadata": {},
   "outputs": [],
   "source": [
    "dimencion = 1000\n",
    "puntos = len(Dt_1)*10\n",
    "Rt_1 = caja_Rand(dimencion,puntos) #hacemos la caja"
   ]
  },
  {
   "cell_type": "code",
   "execution_count": 141,
   "metadata": {},
   "outputs": [],
   "source": [
    "dis_R_1 = dis_NN(Rt_1) #arreglo de distancias de datos"
   ]
  },
  {
   "cell_type": "code",
   "execution_count": 142,
   "metadata": {},
   "outputs": [],
   "source": [
    "dimencion = 1000\n",
    "puntos = len(Dt_2)*10\n",
    "Rt_2 = caja_Rand(dimencion,puntos) #hacemos la caja"
   ]
  },
  {
   "cell_type": "code",
   "execution_count": 143,
   "metadata": {},
   "outputs": [],
   "source": [
    "dis_R_2 = dis_NN(Rt_2) #arreglo de distancias de datos"
   ]
  },
  {
   "cell_type": "code",
   "execution_count": 144,
   "metadata": {},
   "outputs": [],
   "source": [
    "dimencion = 1000\n",
    "puntos = len(Dt_3)*10\n",
    "Rt_3 = caja_Rand(dimencion,puntos) #hacemos la caja"
   ]
  },
  {
   "cell_type": "code",
   "execution_count": 145,
   "metadata": {},
   "outputs": [],
   "source": [
    "dis_R_3 = dis_NN(Rt_3) #arreglo de distancias de datos"
   ]
  },
  {
   "cell_type": "code",
   "execution_count": 151,
   "metadata": {},
   "outputs": [],
   "source": [
    "dimencion = 1000\n",
    "puntos = len(Dt_4)*10\n",
    "Rt_4 = caja_Rand(dimencion,puntos) #hacemos la caja"
   ]
  },
  {
   "cell_type": "code",
   "execution_count": 152,
   "metadata": {},
   "outputs": [],
   "source": [
    "dis_R_4 = dis_NN(Rt_4) #arreglo de distancias de datos"
   ]
  },
  {
   "cell_type": "markdown",
   "metadata": {},
   "source": [
    "#### a) Peebles-Hauser"
   ]
  },
  {
   "cell_type": "code",
   "execution_count": 162,
   "metadata": {},
   "outputs": [],
   "source": [
    "binn = 50\n",
    "frec_D_1, bins_D_1 = Histo_dist(dis_D_1,binn)"
   ]
  },
  {
   "cell_type": "code",
   "execution_count": 163,
   "metadata": {},
   "outputs": [
    {
     "data": {
      "text/plain": [
       "<Figure size 432x288 with 0 Axes>"
      ]
     },
     "metadata": {},
     "output_type": "display_data"
    },
    {
     "data": {
      "image/png": "[encoded data removed]",
      "text/plain": [
       "<Figure size 432x288 with 1 Axes>"
      ]
     },
     "metadata": {},
     "output_type": "display_data"
    }
   ],
   "source": [
    "graf_histo(dis_D_1,binn)"
   ]
  },
  {
   "cell_type": "code",
   "execution_count": 114,
   "metadata": {},
   "outputs": [],
   "source": [
    "frec_R_1, bins_R_1 = Histo_dist(dis_R_1,binn)"
   ]
  },
  {
   "cell_type": "code",
   "execution_count": 115,
   "metadata": {},
   "outputs": [],
   "source": [
    "PH_1 = Pee_Hau(frec_D_1,frec_R_1,len(Dt_al),len(Rt_1))"
   ]
  },
  {
   "cell_type": "code",
   "execution_count": 116,
   "metadata": {},
   "outputs": [
    {
     "data": {
      "text/plain": [
       "[<matplotlib.lines.Line2D at 0x7fc3afdb62b0>]"
      ]
     },
     "execution_count": 116,
     "metadata": {},
     "output_type": "execute_result"
    },
    {
     "data": {
      "image/png": "[encoded data removed]",
      "text/plain": [
       "<Figure size 1080x252 with 1 Axes>"
      ]
     },
     "metadata": {},
     "output_type": "display_data"
    }
   ],
   "source": [
    "plt.figure(figsize=(15,3.5))\n",
    "plt.plot(bins_R_1[:-1],PH_1)"
   ]
  },
  {
   "cell_type": "code",
   "execution_count": null,
   "metadata": {},
   "outputs": [],
   "source": []
  }
 ],
 "metadata": {
  "kernelspec": {
   "display_name": "Python 3",
   "language": "python",
   "name": "python3"
  },
  "language_info": {
   "codemirror_mode": {
    "name": "ipython",
    "version": 3
   },
   "file_extension": ".py",
   "mimetype": "text/x-python",
   "name": "python",
   "nbconvert_exporter": "python",
   "pygments_lexer": "ipython3",
   "version": "3.6.6"
  }
 },
 "nbformat": 4,
 "nbformat_minor": 2
}
