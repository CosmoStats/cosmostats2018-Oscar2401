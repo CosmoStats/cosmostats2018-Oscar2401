{
 "cells": [
  {
   "cell_type": "markdown",
   "metadata": {},
   "source": [
    "# Parte 5"
   ]
  },
  {
   "cell_type": "markdown",
   "metadata": {},
   "source": [
    "# 5) Integra la función de correlación sobre la distancia para cada estimaor del inciso 3 y considerando sólo los datos del inciso 1a, y 1d."
   ]
  },
  {
   "cell_type": "code",
   "execution_count": 1,
   "metadata": {},
   "outputs": [],
   "source": [
    "from mpl_toolkits.mplot3d import Axes3D         # Cargo Axes3D de mpl_toolkits.mplot3d\n",
    "import matplotlib. pyplot as plt\n",
    "import numpy as np\n",
    "import random\n",
    "import math\n",
    "import scipy.spatial.distance as dist\n",
    "%matplotlib inline"
   ]
  },
  {
   "cell_type": "markdown",
   "metadata": {},
   "source": [
    "#### DISTANCIA"
   ]
  },
  {
   "cell_type": "code",
   "execution_count": 2,
   "metadata": {},
   "outputs": [],
   "source": [
    "def dis_NN(m): \n",
    "    a = []\n",
    "    b = []\n",
    "    dis = []\n",
    "    for i in range(len(m)):\n",
    "        a.append(m[:,0]-m[:,0][i]) #guardamos las difrerencias en x\n",
    "        b.append(m[:,1]-m[:,1][i]) #guardamos las difrerencias en y\n",
    "    dis = np.sqrt(np.power(a,2)+np.power(b,2)) #sacamos la distancias con pitagoras\n",
    "    return dis.reshape(-1) #regresa un arreglo unidimencional."
   ]
  },
  {
   "cell_type": "code",
   "execution_count": 3,
   "metadata": {},
   "outputs": [],
   "source": [
    "def dis_MN(m,n):\n",
    "    a = []\n",
    "    b = []\n",
    "    dis = []\n",
    "    for i in range(len(m)):\n",
    "        a.append(n[:,0]-m[:,0][i]) #guardamos las difrerencias en x\n",
    "        b.append(n[:,1]-m[:,1][i]) #guardamos las difrerencias en y\n",
    "    dis = np.sqrt(np.power(a,2)+np.power(b,2)) #sacamos la distancias con pitagoras\n",
    "    return dis.reshape(-1) #regresa un arreglo unidimencional."
   ]
  },
  {
   "cell_type": "markdown",
   "metadata": {},
   "source": [
    "#### HITOGRAMA"
   ]
  },
  {
   "cell_type": "code",
   "execution_count": 4,
   "metadata": {},
   "outputs": [],
   "source": [
    "def Histo_dist (Dist,bins_0):\n",
    "\n",
    "    frec, b = np.histogram(Dist, bins = bins_0)\n",
    "\n",
    "    histo_2d = np.array(Dist) \n",
    "    plt.figure()\n",
    "    plt.hist(histo_2d, bins=bins_0)\n",
    "    plt.title(\"Histograma de distancias\",fontsize=18)\n",
    "    plt.ylabel(\"Frecuencia\",fontsize=18) \n",
    "    plt.xlabel(\"Distancia\",fontsize=18)\n",
    "    plt.show()\n",
    "    return frec, b"
   ]
  },
  {
   "cell_type": "markdown",
   "metadata": {},
   "source": [
    "#### FUNCIONES DE SORRELACIÓN"
   ]
  },
  {
   "cell_type": "code",
   "execution_count": 5,
   "metadata": {},
   "outputs": [],
   "source": [
    "def Pee_Hau(DD,RR,Nd,Nr):\n",
    "    n = pow((Nr*(Nr-1))/(Nd*(Nd-1)),0.5)\n",
    "    return ((np.divide(DD,RR))/pow(n,2)) -1"
   ]
  },
  {
   "cell_type": "code",
   "execution_count": 6,
   "metadata": {},
   "outputs": [],
   "source": [
    "def Dav_Pee(DD,DR,Nd,Nr):\n",
    "    n = pow((Nr*(Nr-1))/(Nd*(Nd-1)),0.5)\n",
    "    return ((np.divide(DD,DR))/(n)) -1"
   ]
  },
  {
   "cell_type": "code",
   "execution_count": 7,
   "metadata": {},
   "outputs": [],
   "source": [
    "def Hamilton(DD,RR,DR):\n",
    "    return np.divide(DD*RR,np.power(DR,2))-1"
   ]
  },
  {
   "cell_type": "code",
   "execution_count": 8,
   "metadata": {},
   "outputs": [],
   "source": [
    "def Lan_Sza(DD,RR,DR,Nd,Nr):\n",
    "    n = pow((Nr*(Nr-1))/(Nd*(Nd-1)),0.5)\n",
    "    return 1 + ((np.divide(DD,RR))/pow(n,2)) - 2*((np.divide(DR,RR))/n)"
   ]
  },
  {
   "cell_type": "markdown",
   "metadata": {},
   "source": [
    "### CREAMOS DATOS"
   ]
  },
  {
   "cell_type": "markdown",
   "metadata": {},
   "source": [
    "####  MALLA"
   ]
  },
  {
   "cell_type": "code",
   "execution_count": 9,
   "metadata": {},
   "outputs": [],
   "source": [
    "def malla_cuad (tamaño,ret): # Depende del tamaño de la caja y de la distancia entre los puntos. \n",
    "    \n",
    "    DD = [] \n",
    "    DD = open('Tabla_Datos_malla.dat',\"w\")  #abrimos un scrip para manejar los datos.\n",
    "    c, d = 0, 0\n",
    "    \n",
    "    for i in range(int(tamaño/ret)): \n",
    "        for j in range(int(tamaño/ret)):\n",
    "            c, d  = i*ret, j*ret \n",
    "            DD.write(\"%f  \\t%f \\n\" % (c,d))\n",
    "    DD.close()\n",
    "    \n",
    "    return np.loadtxt('Tabla_Datos_malla.dat') "
   ]
  },
  {
   "cell_type": "markdown",
   "metadata": {},
   "source": [
    "#### DISCOS RANDOOM"
   ]
  },
  {
   "cell_type": "code",
   "execution_count": 11,
   "metadata": {},
   "outputs": [],
   "source": [
    "# d) 50 anillos con 100 puntos aleatorios cada uno cuyos centros están distribuidos aleatoriamente sobre la caja\n",
    "def anillos_randoms_2(num_anillos, puntos, tam_caja):\n",
    "     \n",
    "    D_5 = []\n",
    "    D_5 = open('Tabla_Datos_anillos_aleatorios2.dat',\"w\")  #abrimos un scrip para manejar los datos.\n",
    "    \n",
    "    for i in range(num_anillos):\n",
    "        rad_in = random.randrange(0,tam_caja,1)\n",
    "        rad_ext = 10 + rad_in\n",
    "        r_x0 = random.randrange(0,tam_caja,1) # coordenada x donde se ubicará el anillo\n",
    "        r_y0 = random.randrange(0,tam_caja,1) # coordenada y donde se ubicará el anillo\n",
    "        \n",
    "        for j in range(puntos):\n",
    "            r = pow(random.randrange(rad_in**2,rad_ext**2,1),0.5)\n",
    "            th = random.random()*2*math.pi\n",
    "            x = r*math.cos(th) + r_x0\n",
    "            y = r*math.sin(th) + r_y0\n",
    "            if 0<x<tam_caja and 0<y<tam_caja:\n",
    "                D_5.write(\"%f  \\t%f \\n\" % (x,y))\n",
    "    D_5.close()\n",
    "    \n",
    "    return np.loadtxt('Tabla_Datos_anillos_aleatorios2.dat')"
   ]
  },
  {
   "cell_type": "markdown",
   "metadata": {},
   "source": [
    "#### CREAMOS LAS CAJAS"
   ]
  },
  {
   "cell_type": "code",
   "execution_count": 34,
   "metadata": {},
   "outputs": [],
   "source": [
    "malla = malla_cuad(1000,20) #hacemos una malla de tamaño 1000x1000 (10x10 cada reticula)\n",
    "anillos_r = anillos_randoms_2(20,50,100)"
   ]
  },
  {
   "cell_type": "markdown",
   "metadata": {},
   "source": [
    "#### DISTANCIA DE LOS DATOS"
   ]
  },
  {
   "cell_type": "code",
   "execution_count": 13,
   "metadata": {},
   "outputs": [],
   "source": [
    "dis_malla = dis_NN(malla)\n",
    "dis_anillos_r = dis_NN(anillos_r)"
   ]
  },
  {
   "cell_type": "markdown",
   "metadata": {},
   "source": [
    "### CREAMOS DATOS RANDOOOM"
   ]
  },
  {
   "cell_type": "code",
   "execution_count": 15,
   "metadata": {},
   "outputs": [],
   "source": [
    "def caja_Rand(dim,puntos): \n",
    "    R = open('Tabla_Aleatorios.dat',\"w\") #abrimos un scrip para manejar los datos.\n",
    "    for i in range(puntos):\n",
    "        a, b = 0, 0 #iniciamos las variables\n",
    "        a = random.random()*dim #random.random sólo da valores entre 0 y 1 por lo que lo multiplico por la dimención de la caja\n",
    "        b = random.random()*dim\n",
    "        R.write(\"%f  \\t%f \\n\" % (a,b)) #escribimos los valores en el scip.\n",
    "    R.close()\n",
    "    return np.loadtxt('Tabla_Aleatorios.dat') # x = RR[:,0] | y = RR[:,1]"
   ]
  },
  {
   "cell_type": "markdown",
   "metadata": {},
   "source": [
    "PARA LA MALLA"
   ]
  },
  {
   "cell_type": "code",
   "execution_count": 29,
   "metadata": {},
   "outputs": [],
   "source": [
    "dimencion = 1000\n",
    "puntos = len(malla)*10\n",
    "R_malla = caja_Rand(dimencion,puntos) #hacemos la caja"
   ]
  },
  {
   "cell_type": "markdown",
   "metadata": {},
   "source": [
    "PARA LOS ANILLOS"
   ]
  },
  {
   "cell_type": "code",
   "execution_count": 33,
   "metadata": {},
   "outputs": [],
   "source": [
    "dimencion = 100\n",
    "puntos = len(anillos_r)*10\n",
    "R_anillos_r = caja_Rand(dimencion,puntos) #hacemos la caja"
   ]
  },
  {
   "cell_type": "code",
   "execution_count": null,
   "metadata": {},
   "outputs": [],
   "source": []
  }
 ],
 "metadata": {
  "kernelspec": {
   "display_name": "Python 3",
   "language": "python",
   "name": "python3"
  },
  "language_info": {
   "codemirror_mode": {
    "name": "ipython",
    "version": 3
   },
   "file_extension": ".py",
   "mimetype": "text/x-python",
   "name": "python",
   "nbconvert_exporter": "python",
   "pygments_lexer": "ipython3",
   "version": "3.6.6"
  }
 },
 "nbformat": 4,
 "nbformat_minor": 2
}
