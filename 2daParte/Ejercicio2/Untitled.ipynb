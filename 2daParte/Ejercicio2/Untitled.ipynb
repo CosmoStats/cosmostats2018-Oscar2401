{
 "cells": [
  {
   "cell_type": "code",
   "execution_count": 1,
   "metadata": {},
   "outputs": [],
   "source": [
    "from mpl_toolkits.mplot3d import Axes3D         # Cargo Axes3D de mpl_toolkits.mplot3d\n",
    "import matplotlib. pyplot as plt\n",
    "import numpy as np\n",
    "import random\n",
    "import math\n",
    "%matplotlib inline"
   ]
  },
  {
   "cell_type": "code",
   "execution_count": 2,
   "metadata": {},
   "outputs": [],
   "source": [
    "def dis(x,y,z):\n",
    "    return pow(pow(x,2)+pow(y,2)+pow(z,2),0.5) #teorema de pitagoras"
   ]
  },
  {
   "cell_type": "code",
   "execution_count": null,
   "metadata": {},
   "outputs": [],
   "source": [
    "def dis_NN(m):\n",
    "    dis_2d = []\n",
    "    N = len(m[:,0])\n",
    "    for i in range(N):\n",
    "        for j in range(N):\n",
    "            if i != j: # No consideramos distancias entre un mismo punto.\n",
    "                if i > j: #No consideramos las mismas distancias repetidas entre puntos repetidos.\n",
    "                    dis_2d.append(dis( m[:,0][i]-m[:,0][j], m[:,1][i]-m[:,1][j], 0 ))\n",
    "    return dis_2d"
   ]
  },
  {
   "cell_type": "code",
   "execution_count": null,
   "metadata": {},
   "outputs": [],
   "source": [
    "def Histo_dist (Dist,bins_0):\n",
    "    \n",
    "    dis_2d = []\n",
    "    N = len(m[:,0])\n",
    "    for i in range(N):\n",
    "        for j in range(N):\n",
    "            if i != j: # No consideramos distancias entre un mismo punto.\n",
    "                if i > j: #No consideramos las mismas distancias repetidas entre puntos repetidos.\n",
    "                    dis_2d.append(dis( m[:,0][i]-m[:,0][j], m[:,1][i]-m[:,1][j], 0 ))\n",
    "    \n",
    "    frec, b = np.histogram(Dist, bins = bins_0)\n",
    "    plt.figure()\n",
    "    histo_2d = np.array(Dist) \n",
    "    plt.figure()\n",
    "    plt.hist(histo_2d, bins=bins_0)\n",
    "    plt.title(\"Histograma de distancias\",fontsize=18)\n",
    "    plt.ylabel(\"Frecuencia\",fontsize=18) \n",
    "    plt.xlabel(\"Distancia\",fontsize=18)\n",
    "    plt.show()\n",
    "    return frec, b"
   ]
  }
 ],
 "metadata": {
  "kernelspec": {
   "display_name": "Python 3",
   "language": "python",
   "name": "python3"
  },
  "language_info": {
   "codemirror_mode": {
    "name": "ipython",
    "version": 3
   },
   "file_extension": ".py",
   "mimetype": "text/x-python",
   "name": "python",
   "nbconvert_exporter": "python",
   "pygments_lexer": "ipython3",
   "version": "3.6.6"
  }
 },
 "nbformat": 4,
 "nbformat_minor": 2
}
