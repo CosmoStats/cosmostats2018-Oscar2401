{
 "cells": [
  {
   "cell_type": "code",
   "execution_count": 2,
   "metadata": {},
   "outputs": [],
   "source": [
    "from mpl_toolkits.mplot3d import Axes3D         # Cargo Axes3D de mpl_toolkits.mplot3d\n",
    "import matplotlib. pyplot as plt\n",
    "import numpy as np\n",
    "import random\n",
    "import math\n",
    "%matplotlib inline"
   ]
  },
  {
   "cell_type": "code",
   "execution_count": 2,
   "metadata": {},
   "outputs": [],
   "source": [
    "def dis(x,y,z):\n",
    "    return pow(pow(x,2)+pow(y,2)+pow(z,2),0.5) #teorema de pitagoras"
   ]
  },
  {
   "cell_type": "code",
   "execution_count": null,
   "metadata": {},
   "outputs": [],
   "source": [
    "def dis_NN(m):\n",
    "    dis_2d = []\n",
    "    N = len(m[:,0])\n",
    "    for i in range(N):\n",
    "        for j in range(N):\n",
    "            if i != j: # No consideramos distancias entre un mismo punto.\n",
    "                if i > j: #No consideramos las mismas distancias repetidas entre puntos repetidos.\n",
    "                    dis_2d.append(dis( m[:,0][i]-m[:,0][j], m[:,1][i]-m[:,1][j], 0 ))\n",
    "    return dis_2d"
   ]
  },
  {
   "cell_type": "code",
   "execution_count": null,
   "metadata": {},
   "outputs": [],
   "source": [
    "def Histo_dist (Dist,bins_0):\n",
    "    dis_2d = []\n",
    "\n",
    "    \n",
    "    N = len(m[:,0])\n",
    "    for i in range(N):\n",
    "        for j in range(N):\n",
    "            if i != j: # No consideramos distancias entre un mismo punto.\n",
    "                if i > j: #No consideramos las mismas distancias repetidas entre puntos repetidos.\n",
    "                    dis_2d.append(dis( m[:,0][i]-m[:,0][j], m[:,1][i]-m[:,1][j], 0 ))\n",
    "    frec, b = np.histogram(Dist, bins = bins_0)\n",
    "    plt.figure()\n",
    "    histo_2d = np.array(Dist) \n",
    "    plt.figure()\n",
    "    plt.hist(histo_2d, bins=bins_0)\n",
    "    plt.title(\"Histograma de distancias\",fontsize=18)\n",
    "    plt.ylabel(\"Frecuencia\",fontsize=18) \n",
    "    plt.xlabel(\"Distancia\",fontsize=18)\n",
    "    plt.show()\n",
    "    return frec, b"
   ]
  },
  {
   "cell_type": "code",
   "execution_count": 3,
   "metadata": {},
   "outputs": [],
   "source": [
    "def malla_cuad (tamaño,ret): \n",
    "    DD = [] \n",
    "    DD = open('Tabla_Datos_malla.dat',\"w\")  #abrimos un scrip para manejar los datos.\n",
    "    c, d = 0, 0\n",
    "    for i in range(int(tamaño/ret)): \n",
    "        for j in range(int(tamaño/ret)):\n",
    "            c, d  = i*ret, j*ret #acomoda los puntos en y\n",
    "            DD.write(\"%f  \\t%f \\n\" % (c,d))\n",
    "    DD.close()\n",
    "    return np.loadtxt('Tabla_Datos_malla.dat') "
   ]
  },
  {
   "cell_type": "code",
   "execution_count": 41,
   "metadata": {},
   "outputs": [],
   "source": [
    "def caja_Rand(dim,puntos): \n",
    "    R = open('Tabla_Aleatorios.dat',\"w\") #abrimos un scrip para manejar los datos.\n",
    "    for i in range(puntos):\n",
    "        a, b = 0, 0 #iniciamos las variables\n",
    "        a = random.random()*dim #random.random sólo da valores entre 0 y 1 por lo que lo multiplico por la dimención de la caja\n",
    "        b = random.random()*dim\n",
    "        R.write(\"%f  \\t%f \\n\" % (a,b)) #escribimos los valores en el scip.\n",
    "    R.close()\n",
    "    return np.loadtxt('Tabla_Aleatorios.dat') # x = RR[:,0] | y = RR[:,1]"
   ]
  },
  {
   "cell_type": "code",
   "execution_count": 53,
   "metadata": {},
   "outputs": [],
   "source": [
    "dimencion = 1000\n",
    "puntos = 1000\n",
    "Dt_al = caja_Rand(dimencion,puntos) #hacemos la caja\n",
    "malla = malla_cuad(1000,25)"
   ]
  },
  {
   "cell_type": "code",
   "execution_count": 10,
   "metadata": {},
   "outputs": [],
   "source": [
    "import numpy, scipy.spatial.distance as dist"
   ]
  },
  {
   "cell_type": "code",
   "execution_count": 64,
   "metadata": {},
   "outputs": [
    {
     "data": {
      "text/plain": [
       "array([7.69199492e+02, 7.46196750e+02, 8.43568720e+02, 9.45598860e+02,\n",
       "       4.48212610e+01, 9.04809112e+02, 9.95291220e+01, 4.34281793e+02,\n",
       "       9.09989900e+01, 6.41502450e+02, 7.85453909e+02, 1.37357352e+02,\n",
       "       9.48373700e+02, 3.53596150e+01, 6.85201054e+02, 7.31703724e+02,\n",
       "       7.90049125e+02, 4.82103893e+02, 7.48486820e+01, 5.15848070e+02,\n",
       "       5.20745023e+02, 7.22211789e+02, 4.63807920e+02, 1.79100023e+02,\n",
       "       7.53521903e+02, 4.55604391e+02, 9.09754769e+02, 7.07496155e+02,\n",
       "       8.16653149e+02, 5.10447813e+02, 3.89787791e+02, 3.70282541e+02,\n",
       "       9.23189300e+01, 6.13598726e+02, 6.25982414e+02, 7.84568560e+01,\n",
       "       5.60708557e+02, 3.55990248e+02, 3.67421607e+02, 2.29064004e+02,\n",
       "       7.94931810e+02, 7.50908864e+02, 5.17080582e+02, 1.51384680e+01,\n",
       "       3.51438456e+02, 9.69155392e+02, 3.55066746e+02, 3.33450599e+02,\n",
       "       2.03969473e+02, 6.39950939e+02, 1.51171248e+02, 3.99259400e+01,\n",
       "       7.13825807e+02, 1.85547842e+02, 7.79172676e+02, 3.41401324e+02,\n",
       "       7.05914606e+02, 3.45820200e+00, 3.39091346e+02, 7.34356717e+02,\n",
       "       3.36886521e+02, 5.70416246e+02, 7.01192593e+02, 5.87943007e+02,\n",
       "       6.94948333e+02, 1.89750109e+02, 6.29958519e+02, 4.07958218e+02,\n",
       "       8.29164912e+02, 4.80384920e+02, 1.87316508e+02, 4.89854296e+02,\n",
       "       4.29924521e+02, 2.76732726e+02, 9.87242474e+02, 9.60947499e+02,\n",
       "       7.45411920e+01, 5.12134771e+02, 8.33619500e+02, 1.14543585e+02,\n",
       "       7.14559155e+02, 8.84000713e+02, 5.42436916e+02, 5.87286199e+02,\n",
       "       2.79179741e+02, 7.93779792e+02, 6.04956220e+02, 4.15529266e+02,\n",
       "       9.36082850e+02, 9.33922519e+02, 4.59137337e+02, 7.44978866e+02,\n",
       "       6.42876784e+02, 3.73324692e+02, 1.70943700e+01, 1.69155393e+02,\n",
       "       2.20544790e+02, 1.37746198e+02, 6.70429209e+02, 4.47534943e+02,\n",
       "       3.84789261e+02, 3.02541700e+01, 2.36755555e+02, 7.18931488e+02,\n",
       "       4.68274463e+02, 1.50107055e+02, 4.79149119e+02, 6.78930995e+02,\n",
       "       1.69960130e+01, 9.36655500e+02, 6.70785202e+02, 2.01267169e+02,\n",
       "       8.03013414e+02, 2.98091301e+02, 2.43481350e+02, 9.23433850e+02,\n",
       "       2.86364610e+02, 3.78569971e+02, 4.39889261e+02, 5.32150372e+02,\n",
       "       4.22966532e+02, 9.19086361e+02, 1.68615110e+01, 6.16443539e+02,\n",
       "       5.78254460e+02, 1.03311392e+02, 9.49058039e+02, 3.06248358e+02,\n",
       "       3.61149974e+02, 1.98799761e+02, 2.27345560e+01, 3.90305333e+02,\n",
       "       8.84554136e+02, 8.63723029e+02, 7.44925185e+02, 2.56967803e+02,\n",
       "       3.37533585e+02, 5.48572405e+02, 3.93187727e+02, 4.96768284e+02,\n",
       "       4.42726904e+02, 1.97503431e+02, 6.95139740e+01, 2.22497461e+02,\n",
       "       5.68339510e+02, 9.32261956e+02, 5.59044703e+02, 2.89493712e+02,\n",
       "       6.27166767e+02, 3.74269549e+02, 2.20143316e+02, 3.23643070e+02,\n",
       "       2.94180439e+02, 1.09901422e+02, 4.32525151e+02, 7.82290418e+02,\n",
       "       2.47747640e+02, 2.54501862e+02, 9.24869761e+02, 8.89157698e+02,\n",
       "       5.31223750e+01, 7.22276630e+02, 4.48886346e+02, 4.25448939e+02,\n",
       "       3.30814867e+02, 4.12420774e+02, 8.23877193e+02, 3.93789584e+02,\n",
       "       4.99800850e+01, 3.52873283e+02, 5.04169409e+02, 4.58905140e+01,\n",
       "       4.25316227e+02, 9.34594030e+01, 6.31353838e+02, 7.35702830e+01,\n",
       "       2.33100930e+01, 8.69088546e+02, 7.95119249e+02, 9.94299537e+02,\n",
       "       7.47898021e+02, 9.02461532e+02, 7.01075320e+01, 2.12231114e+02,\n",
       "       6.31526551e+02, 6.31422069e+02, 5.36847817e+02, 9.16670030e+01,\n",
       "       6.68801228e+02, 6.92350194e+02, 6.09971232e+02, 9.86431021e+02,\n",
       "       1.20943438e+02, 9.22979803e+02, 5.76066374e+02, 9.08554949e+02,\n",
       "       5.94985260e+02, 7.89725579e+02, 2.85939918e+02, 7.80114936e+02,\n",
       "       4.23955720e+01, 1.60828346e+02, 7.77969975e+02, 1.56986096e+02,\n",
       "       8.18683172e+02, 8.10267146e+02, 3.73723550e+02, 9.01350735e+02,\n",
       "       4.90472040e+02, 4.86790630e+02, 8.64177224e+02, 8.65532927e+02,\n",
       "       1.85799650e+01, 1.04558178e+02, 7.81217010e+02, 1.80411835e+02,\n",
       "       8.76983116e+02, 6.91952089e+02, 1.75663040e+01, 6.43818448e+02,\n",
       "       3.03685924e+02, 3.89171750e+02, 9.96657591e+02, 5.73564780e+02,\n",
       "       2.61329873e+02, 3.90653590e+02, 6.32732527e+02, 6.70641182e+02,\n",
       "       3.66608184e+02, 4.08653772e+02, 1.99826702e+02, 4.41449412e+02,\n",
       "       6.87118229e+02, 1.06776952e+02, 7.02528703e+02, 6.89026151e+02,\n",
       "       5.90405460e+02, 8.51865220e+01, 8.17123616e+02, 8.57965938e+02,\n",
       "       3.29311395e+02, 9.77246389e+02, 7.55859662e+02, 6.12058709e+02,\n",
       "       9.66196954e+02, 1.77995453e+02, 9.73202690e+02, 3.11361921e+02,\n",
       "       8.74815827e+02, 3.07663461e+02, 7.30148741e+02, 8.98243677e+02,\n",
       "       6.35594465e+02, 7.83446216e+02, 6.29625770e+02, 7.38139575e+02,\n",
       "       7.20511043e+02, 3.96881473e+02, 8.76756061e+02, 8.18477700e+01,\n",
       "       6.07873760e+01, 7.69440466e+02, 2.45803741e+02, 5.04894955e+02,\n",
       "       8.14845518e+02, 4.00791254e+02, 2.96404195e+02, 2.15053332e+02,\n",
       "       2.77809671e+02, 4.25361580e+01, 6.30497751e+02, 1.43060746e+02,\n",
       "       8.92200579e+02, 8.89569770e+01, 3.08812256e+02, 9.90360445e+02,\n",
       "       8.49463421e+02, 4.58416249e+02, 7.85255025e+02, 4.56541924e+02,\n",
       "       7.57214666e+02, 6.08520060e+01, 6.98338671e+02, 4.04215436e+02,\n",
       "       5.16884090e+01, 3.65918685e+02, 8.11401487e+02, 6.20077412e+02,\n",
       "       5.37153213e+02, 1.50314429e+02, 9.63603595e+02, 8.75537175e+02,\n",
       "       1.27435552e+02, 7.18822314e+02, 7.43949080e+01, 7.96432574e+02,\n",
       "       7.48123655e+02, 5.12220787e+02, 9.24259308e+02, 3.31517330e+01,\n",
       "       2.17314496e+02, 2.85338239e+02, 6.10126558e+02, 3.04666500e+01,\n",
       "       3.24792612e+02, 2.81734200e+02, 2.35933508e+02, 5.65726266e+02,\n",
       "       9.96513637e+02, 7.41181056e+02, 8.13225756e+02, 7.66811572e+02,\n",
       "       6.99346230e+02, 3.85261643e+02, 4.34793532e+02, 2.87654272e+02,\n",
       "       3.65840025e+02, 3.01614878e+02, 2.29232234e+02, 7.32138375e+02,\n",
       "       3.22428536e+02, 3.33999016e+02, 8.60851039e+02, 4.46459318e+02,\n",
       "       2.42911700e+02, 5.92474868e+02, 1.06602409e+02, 9.78168817e+02,\n",
       "       8.79629757e+02, 5.86086075e+02, 5.28460035e+02, 2.19180238e+02,\n",
       "       2.64905757e+02, 7.42598600e+01, 8.94039796e+02, 4.40377683e+02,\n",
       "       3.82590260e+01, 7.11009218e+02, 5.09745300e+00, 7.00330265e+02,\n",
       "       3.53008095e+02, 1.71556118e+02, 9.69407510e+01, 8.23503350e+01,\n",
       "       2.56954000e+01, 1.30428557e+02, 4.58874497e+02, 7.85578373e+02,\n",
       "       4.25155169e+02, 9.14142200e+01, 5.23581400e+02, 1.44677767e+02,\n",
       "       6.85812499e+02, 9.81086265e+02, 9.31797123e+02, 3.84047501e+02,\n",
       "       2.24343285e+02, 7.90509554e+02, 9.19410480e+01, 1.17201680e+01,\n",
       "       7.78719461e+02, 7.95581774e+02, 2.57165388e+02, 6.25824619e+02,\n",
       "       1.57606769e+02, 1.84494416e+02, 1.32283066e+02, 5.67959405e+02,\n",
       "       1.06253630e+02, 5.25953012e+02, 6.57162719e+02, 6.85153965e+02,\n",
       "       3.27411937e+02, 9.71647627e+02, 8.27695525e+02, 9.88021622e+02,\n",
       "       2.00419000e+02, 2.49224049e+02, 6.49735780e+02, 4.90901501e+02,\n",
       "       9.54345615e+02, 5.21429476e+02, 3.39396804e+02, 9.82271931e+02,\n",
       "       3.67355781e+02, 8.26694405e+02, 3.57337472e+02, 8.82508039e+02,\n",
       "       6.12304969e+02, 5.56699302e+02, 6.14081710e+02, 6.56881070e+01,\n",
       "       5.75008053e+02, 8.02540620e+01, 2.11588377e+02, 1.02521702e+02,\n",
       "       6.61044672e+02, 5.48817930e+01, 7.21538540e+02, 4.34880240e+01,\n",
       "       5.87860768e+02, 1.02411309e+02, 6.90284481e+02, 3.68985402e+02,\n",
       "       9.83778000e-01, 4.67486401e+02, 2.15945610e+02, 3.94471710e+01,\n",
       "       1.52459703e+02, 8.59527900e+01, 1.93283748e+02, 7.38132417e+02,\n",
       "       4.26668406e+02, 9.15210988e+02, 6.51416200e+00, 6.78462071e+02,\n",
       "       4.80933457e+02, 8.43883102e+02, 4.36737577e+02, 4.90489642e+02,\n",
       "       3.87417458e+02, 1.14505220e+02, 8.50732715e+02, 5.30820569e+02,\n",
       "       6.13849927e+02, 4.67151643e+02, 9.15787190e+02, 1.82085952e+02,\n",
       "       6.32514503e+02, 5.08103765e+02, 8.43341119e+02, 2.41191008e+02,\n",
       "       8.40087069e+02, 1.23550127e+02, 1.46800800e+02, 1.32404460e+02,\n",
       "       3.97788137e+02, 1.59731715e+02, 9.56794000e-01, 4.77089893e+02,\n",
       "       3.32304272e+02, 2.26675672e+02, 2.93169615e+02, 5.59750963e+02,\n",
       "       5.64683553e+02, 1.97166161e+02, 7.23228101e+02, 6.17766330e+02,\n",
       "       6.01884930e+02, 9.31860365e+02, 1.12268944e+02, 1.31572313e+02,\n",
       "       5.25055968e+02, 8.70570654e+02, 3.20599154e+02, 7.20787411e+02,\n",
       "       3.52695770e+02, 7.64745354e+02, 6.27792890e+01, 3.60171952e+02,\n",
       "       7.71362093e+02, 6.26004448e+02, 6.91129858e+02, 9.79868242e+02,\n",
       "       8.21795439e+02, 1.20428866e+02, 3.34037395e+02, 4.57035636e+02,\n",
       "       8.54306401e+02, 6.53119588e+02, 4.39434420e+02, 1.06520373e+02,\n",
       "       1.24679319e+02, 1.95871345e+02, 5.37552361e+02, 2.61272303e+02,\n",
       "       2.74692290e+01, 2.96079530e+01, 3.39008622e+02, 7.50965557e+02,\n",
       "       2.17191187e+02, 5.32620685e+02, 4.10048800e+00, 5.17608000e+02,\n",
       "       1.90712589e+02, 1.88513423e+02, 2.29857016e+02, 9.80724448e+02,\n",
       "       2.30098669e+02, 7.67434120e+02, 8.93542415e+02, 4.23428058e+02,\n",
       "       7.77210187e+02, 3.52344000e+02, 8.91559712e+02, 6.18924888e+02,\n",
       "       6.78743610e+01, 6.92596303e+02, 7.95139263e+02, 4.28474115e+02,\n",
       "       1.19313597e+02, 1.18575872e+02, 7.44951159e+02, 1.50973170e+02,\n",
       "       1.97325163e+02, 5.21761844e+02, 3.54448069e+02, 8.35912724e+02,\n",
       "       1.19337645e+02, 1.47974073e+02, 8.45213652e+02, 2.45824866e+02,\n",
       "       6.11302696e+02, 8.71138404e+02, 8.38958299e+02, 3.46372368e+02,\n",
       "       4.83583434e+02, 9.34656527e+02, 5.27672560e+02, 1.57957225e+02,\n",
       "       3.36891748e+02, 9.96262269e+02, 3.21681170e+02, 1.99763197e+02,\n",
       "       9.35137096e+02, 3.96030149e+02, 9.51121321e+02, 9.39015935e+02,\n",
       "       7.82002783e+02, 4.97977821e+02, 1.69260768e+02, 2.11035037e+02,\n",
       "       3.70671578e+02, 2.83964284e+02, 2.81513982e+02, 8.29561662e+02,\n",
       "       6.09346173e+02, 2.05341804e+02, 2.59862418e+02, 6.20824540e+02,\n",
       "       7.22155199e+02, 3.93442495e+02, 5.91659444e+02, 2.04633724e+02,\n",
       "       6.28524839e+02, 1.55992100e+00, 4.76597707e+02, 9.38068725e+02,\n",
       "       3.59687731e+02, 5.86770485e+02, 2.09132299e+02, 6.50249278e+02,\n",
       "       3.98038583e+02, 3.81327461e+02, 7.16350242e+02, 4.42811381e+02,\n",
       "       9.26677713e+02, 8.22473217e+02, 8.07657462e+02, 7.50971210e+02,\n",
       "       5.19845624e+02, 8.80992453e+02, 4.84769099e+02, 8.57880788e+02,\n",
       "       3.79581912e+02, 5.81138185e+02, 7.19041997e+02, 7.06276002e+02,\n",
       "       2.00577483e+02, 1.41489229e+02, 2.07036872e+02, 2.10466736e+02,\n",
       "       7.29525952e+02, 5.26108189e+02, 7.95485840e+02, 1.75718091e+02,\n",
       "       7.86072120e+01, 6.88256103e+02, 4.77619686e+02, 9.58626794e+02,\n",
       "       1.95947266e+02, 8.03310134e+02, 3.39058674e+02, 6.26446212e+02,\n",
       "       3.45548550e+02, 4.24025900e+02, 1.67291559e+02, 8.14685503e+02,\n",
       "       4.08096724e+02, 4.72486440e+02, 7.61901825e+02, 5.88161949e+02,\n",
       "       2.67635979e+02, 9.67964326e+02, 1.50159340e+02, 3.70231732e+02,\n",
       "       8.44399438e+02, 6.07474133e+02, 7.68481996e+02, 6.50212155e+02,\n",
       "       6.61337827e+02, 9.61898463e+02, 1.27879065e+02, 9.52673700e+00,\n",
       "       5.50904400e+00, 5.55583419e+02, 1.40687333e+02, 1.62338284e+02,\n",
       "       4.93479322e+02, 2.25262290e+01, 6.05020700e+00, 7.85851985e+02,\n",
       "       6.58602319e+02, 5.44251043e+02, 5.88344709e+02, 7.28956236e+02,\n",
       "       3.85375337e+02, 3.51582700e+00, 8.65436637e+02, 2.72134408e+02,\n",
       "       5.81237720e+01, 7.27627567e+02, 3.16519803e+02, 3.97290828e+02,\n",
       "       3.96909543e+02, 7.14079470e+01, 2.72783936e+02, 7.48005433e+02,\n",
       "       4.00663501e+02, 2.96993334e+02, 2.26061894e+02, 5.43615990e+01,\n",
       "       6.94868964e+02, 7.26348168e+02, 7.39965340e+02, 4.55064162e+02,\n",
       "       5.10826675e+02, 8.61460593e+02, 6.27482620e+01, 3.11380860e+01,\n",
       "       5.10011392e+02, 4.71927208e+02, 7.51339350e+01, 3.63173466e+02,\n",
       "       4.04416790e+02, 4.82528379e+02, 2.00266666e+02, 3.42178375e+02,\n",
       "       8.50842217e+02, 6.48474829e+02, 1.10013847e+02, 6.47119256e+02,\n",
       "       4.12517873e+02, 3.38637289e+02, 1.17319650e+02, 8.15134401e+02,\n",
       "       8.01641606e+02, 6.65321417e+02, 4.96008730e+02, 3.38150290e+02,\n",
       "       8.93649209e+02, 4.03810148e+02, 3.67542817e+02, 2.34671161e+02,\n",
       "       5.53684217e+02, 5.31058200e+02, 3.03311480e+02, 4.00521468e+02,\n",
       "       4.72770138e+02, 2.91085615e+02, 9.64902793e+02, 9.09754451e+02,\n",
       "       2.63100487e+02, 6.78756174e+02, 5.86774132e+02, 9.93657935e+02,\n",
       "       8.54396803e+02, 8.58891733e+02, 4.72643606e+02, 8.92458314e+02,\n",
       "       2.66664837e+02, 3.46328454e+02, 2.35540587e+02, 9.65544561e+02,\n",
       "       7.55521927e+02, 6.91586672e+02, 2.80992548e+02, 7.25486384e+02,\n",
       "       4.44546730e+02, 3.49267916e+02, 2.43363320e+02, 6.09617285e+02,\n",
       "       5.61787846e+02, 3.20226868e+02, 1.19477469e+02, 3.54130745e+02,\n",
       "       8.47599168e+02, 4.97186192e+02, 5.74212168e+02, 9.24622499e+02,\n",
       "       6.41725000e+01, 5.01648845e+02, 2.74681144e+02, 3.55624758e+02,\n",
       "       5.41340513e+02, 7.50567307e+02, 7.88423790e+01, 3.76387800e+00,\n",
       "       8.23425336e+02, 5.29745625e+02, 8.02002911e+02, 6.10923637e+02,\n",
       "       6.37327507e+02, 5.53052870e+02, 8.91994699e+02, 3.14028292e+02,\n",
       "       7.36082262e+02, 5.89261550e+02, 8.36021120e+01, 3.31716583e+02,\n",
       "       6.59113872e+02, 8.96614074e+02, 6.10075573e+02, 6.29640690e+01,\n",
       "       7.60629500e+00, 8.95057073e+02, 9.88935104e+02, 3.21112088e+02,\n",
       "       2.77516072e+02, 2.86859598e+02, 3.41872250e+01, 3.57729897e+02,\n",
       "       2.11721336e+02, 6.14842147e+02, 5.87090514e+02, 1.88488065e+02,\n",
       "       5.76322510e+02, 4.50979537e+02, 4.51393629e+02, 2.97766842e+02,\n",
       "       6.86444897e+02, 2.79552524e+02, 7.47396228e+02, 5.36540530e+02,\n",
       "       5.29329238e+02, 9.41667178e+02, 4.16269919e+02, 6.68036041e+02,\n",
       "       7.34849538e+02, 1.13834360e+02, 8.27838040e+01, 7.61736515e+02,\n",
       "       4.78480193e+02, 9.28210528e+02, 9.08748041e+02, 4.27703416e+02,\n",
       "       2.07487588e+02, 2.47547168e+02, 3.77317562e+02, 3.92188328e+02,\n",
       "       7.55451129e+02, 6.17484300e+02, 4.74000801e+02, 5.35803712e+02,\n",
       "       5.19961571e+02, 5.29822244e+02, 5.52704378e+02, 3.81190538e+02,\n",
       "       4.37823759e+02, 6.54383532e+02, 8.52855190e+02, 6.61909633e+02,\n",
       "       7.65438486e+02, 5.61261742e+02, 2.51889609e+02, 9.15043104e+02,\n",
       "       9.10864660e+01, 1.18838290e+02, 5.04337395e+02, 3.07861691e+02,\n",
       "       8.33549647e+02, 5.95725040e+02, 4.35761480e+02, 5.10266410e+02,\n",
       "       5.41846582e+02, 9.42240995e+02, 7.22624268e+02, 6.70967096e+02,\n",
       "       9.46306440e+02, 7.65979790e+01, 7.73036214e+02, 5.90924796e+02,\n",
       "       9.02418670e+02, 7.47851310e+01, 8.01815930e+01, 7.45315490e+01,\n",
       "       2.45760921e+02, 3.56166959e+02, 1.48556690e+02, 3.23606169e+02,\n",
       "       5.00400316e+02, 8.03776393e+02, 8.80752092e+02, 6.44280980e+01,\n",
       "       8.08982537e+02, 8.56347384e+02, 9.88800100e+02, 5.23523881e+02,\n",
       "       5.39716622e+02, 8.53239438e+02, 5.63046723e+02, 3.74272385e+02,\n",
       "       3.16942344e+02, 9.74889656e+02, 1.83223289e+02, 2.86754527e+02,\n",
       "       2.32388177e+02, 5.81299735e+02, 7.31564839e+02, 5.92399760e+01,\n",
       "       3.79141309e+02, 2.75811496e+02, 7.87508385e+02, 8.58796040e+01,\n",
       "       6.80786250e+02, 4.65070755e+02, 8.91739650e+01, 9.78813570e+02,\n",
       "       5.18790196e+02, 6.16727572e+02, 2.64132409e+02, 1.01150670e+02,\n",
       "       5.69126287e+02, 5.50806649e+02, 6.54020126e+02, 4.04189040e+02,\n",
       "       2.11999385e+02, 5.19261899e+02, 1.78272170e+01, 1.82372144e+02,\n",
       "       1.76322423e+02, 1.36169431e+02, 2.00190292e+02, 6.23827283e+02,\n",
       "       4.16376175e+02, 8.46397650e+01, 9.18789700e+00, 5.43678627e+02,\n",
       "       7.54707684e+02, 5.16328019e+02, 6.22209788e+02, 6.08719629e+02,\n",
       "       7.41737355e+02, 1.93288323e+02, 8.63410208e+02, 7.92040071e+02,\n",
       "       9.47020710e+02, 4.45323114e+02, 4.83036961e+02, 4.31995670e+01,\n",
       "       7.89696916e+02, 7.61477034e+02, 6.54880200e+00, 5.50117610e+02,\n",
       "       6.38807201e+02, 6.64663202e+02, 3.64283276e+02, 6.53750399e+02,\n",
       "       6.17063283e+02, 2.41463041e+02, 6.19328695e+02, 2.87912952e+02,\n",
       "       4.17846630e+01, 9.32916854e+02, 7.41654734e+02, 8.98646420e+02,\n",
       "       8.81331810e+01, 4.71586606e+02, 6.27307047e+02, 7.06869283e+02,\n",
       "       1.85788293e+02, 5.19238448e+02, 3.53645279e+02, 6.04943397e+02,\n",
       "       4.45045710e+01, 4.08239233e+02, 4.39065880e+02, 8.46031299e+02,\n",
       "       4.61553108e+02, 9.85601634e+02, 8.66687058e+02, 1.87421534e+02,\n",
       "       7.64732755e+02, 7.24882103e+02, 7.87968703e+02, 3.81065537e+02,\n",
       "       6.37490167e+02, 4.81626429e+02, 8.46379041e+02, 7.34754331e+02,\n",
       "       7.01184252e+02, 8.34138997e+02, 1.21685722e+02, 7.50518060e+01,\n",
       "       9.66250856e+02, 6.24482250e+02, 3.26374685e+02, 1.61023085e+02,\n",
       "       9.88023604e+02, 1.85544037e+02, 2.09064040e+02, 8.67764103e+02,\n",
       "       7.61298570e+01, 5.29500600e+00, 1.58265135e+02, 5.48931623e+02,\n",
       "       7.73824008e+02, 4.57881338e+02, 4.71412175e+02, 1.23442853e+02,\n",
       "       9.57238846e+02, 4.56463304e+02, 1.38192615e+02, 4.31215880e+01,\n",
       "       3.74559228e+02, 4.80678743e+02, 4.12065024e+02, 2.93675342e+02,\n",
       "       5.50835056e+02, 6.21885190e+01, 6.32526697e+02, 6.41708745e+02,\n",
       "       3.53855216e+02, 2.81670784e+02, 7.63422103e+02, 7.84732292e+02,\n",
       "       5.21866581e+02, 2.10226990e+01, 9.51522513e+02, 6.83979955e+02,\n",
       "       6.71109884e+02, 4.33631070e+02, 5.97316634e+02, 5.58653701e+02,\n",
       "       6.83405559e+02, 1.24942872e+02, 7.30814650e+02, 8.11115102e+02,\n",
       "       3.59582329e+02, 9.49333952e+02, 9.32872050e+02, 1.52327168e+02,\n",
       "       3.04774296e+02, 8.56116310e+02, 6.30998426e+02, 2.95327163e+02,\n",
       "       9.69720689e+02, 9.45914642e+02, 6.42181515e+02, 2.05642460e+01,\n",
       "       6.05693379e+02, 2.55637964e+02, 9.69312081e+02, 3.71328280e+02,\n",
       "       7.27185030e+02, 9.22194096e+02, 3.03367435e+02, 4.15056938e+02,\n",
       "       7.01136936e+02, 2.14967120e+01, 4.06661709e+02, 3.92111340e+01,\n",
       "       4.86143279e+02, 8.48924577e+02, 8.00050320e+02, 9.81397540e+02,\n",
       "       5.75449535e+02, 5.89272493e+02, 1.24552328e+02, 1.03894610e+02,\n",
       "       4.66925697e+02, 7.47008822e+02, 4.98348738e+02, 5.46056742e+02,\n",
       "       1.34051715e+02, 7.88175803e+02, 1.93038984e+02, 7.91041030e+01,\n",
       "       3.34106606e+02, 6.05240506e+02, 9.55194537e+02, 8.20092986e+02,\n",
       "       4.11595367e+02, 4.67012299e+02, 9.84014383e+02, 2.99795510e+01,\n",
       "       6.68143500e+01, 2.15122221e+02, 6.81070867e+02, 8.37397226e+02])"
      ]
     },
     "execution_count": 64,
     "metadata": {},
     "output_type": "execute_result"
    }
   ],
   "source": [
    "Dt_al[:,0]"
   ]
  },
  {
   "cell_type": "code",
   "execution_count": 72,
   "metadata": {},
   "outputs": [
    {
     "data": {
      "text/plain": [
       "array([  0.,  25.,  50., ..., 925., 950., 975.])"
      ]
     },
     "execution_count": 72,
     "metadata": {},
     "output_type": "execute_result"
    }
   ],
   "source": [
    "malla[:,1]"
   ]
  },
  {
   "cell_type": "code",
   "execution_count": 20,
   "metadata": {},
   "outputs": [],
   "source": [
    "Dis = dist.squareform(dist.pdist(malla, \"euclidean\"))"
   ]
  },
  {
   "cell_type": "code",
   "execution_count": 47,
   "metadata": {},
   "outputs": [],
   "source": [
    "Dt_al = Dt_al.reshape(-1)\n",
    "malla = malla.reshape(-1)\n"
   ]
  },
  {
   "cell_type": "code",
   "execution_count": 65,
   "metadata": {},
   "outputs": [],
   "source": [
    "a = []\n",
    "b = []\n",
    "for i in range(len(malla)):\n",
    "    a.append(Dt_al[:,0]-malla[:,0][i])\n",
    "    b.append(Dt_al[:,1]-malla[:,1][i])\n",
    "dis_DR = np.sqrt(np.power(a,2)+np.power(b,2)) "
   ]
  },
  {
   "cell_type": "code",
   "execution_count": 68,
   "metadata": {},
   "outputs": [],
   "source": [
    "dis_DR = dis_DR.reshape(-1)"
   ]
  },
  {
   "cell_type": "code",
   "execution_count": 69,
   "metadata": {},
   "outputs": [
    {
     "data": {
      "text/plain": [
       "<Figure size 432x288 with 0 Axes>"
      ]
     },
     "metadata": {},
     "output_type": "display_data"
    },
    {
     "data": {
      "image/png": "[encoded data removed]",
      "text/plain": [
       "<Figure size 432x288 with 1 Axes>"
      ]
     },
     "metadata": {},
     "output_type": "display_data"
    }
   ],
   "source": [
    "plt.figure()\n",
    "histo_2d = np.array(dis_DR) \n",
    "plt.figure()\n",
    "plt.hist(histo_2d, bins=30)\n",
    "plt.title(\"Histograma de distancias\",fontsize=18)\n",
    "plt.ylabel(\"Frecuencia\",fontsize=18) \n",
    "plt.xlabel(\"Distancia\",fontsize=18)\n",
    "plt.show()"
   ]
  },
  {
   "cell_type": "code",
   "execution_count": null,
   "metadata": {},
   "outputs": [],
   "source": []
  }
 ],
 "metadata": {
  "kernelspec": {
   "display_name": "Python 3",
   "language": "python",
   "name": "python3"
  },
  "language_info": {
   "codemirror_mode": {
    "name": "ipython",
    "version": 3
   },
   "file_extension": ".py",
   "mimetype": "text/x-python",
   "name": "python",
   "nbconvert_exporter": "python",
   "pygments_lexer": "ipython3",
   "version": "3.6.6"
  }
 },
 "nbformat": 4,
 "nbformat_minor": 2
}
