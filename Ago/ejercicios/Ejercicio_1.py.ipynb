{
 "cells": [
  {
   "cell_type": "markdown",
   "metadata": {},
   "source": [
    "# Ejercicios de Python"
   ]
  },
  {
   "cell_type": "code",
   "execution_count": 7,
   "metadata": {},
   "outputs": [],
   "source": [
    "import matplotlib. pyplot as plt\n",
    "import numpy as np\n",
    "%matplotlib inline"
   ]
  },
  {
   "cell_type": "markdown",
   "metadata": {},
   "source": [
    "## MATRICES:"
   ]
  },
  {
   "cell_type": "code",
   "execution_count": 18,
   "metadata": {},
   "outputs": [],
   "source": [
    "#Creando función para llenado de matrices.\n",
    "def fullmx(n,m,A):\n",
    "    for i in range(n):\n",
    "        a=[] #Crea una lista por cada fila de la mariz.\n",
    "        for j in range(m):\n",
    "            print(i+1,j+1, end=' = ')\n",
    "            a.append(float(input())) #El usuario insertará los datos.\n",
    "        A.append(a) "
   ]
  },
  {
   "cell_type": "code",
   "execution_count": 19,
   "metadata": {},
   "outputs": [],
   "source": [
    "#Creando función para imprimir matriz.\n",
    "def prmx(A):\n",
    "    for i in range(len(A)):\n",
    "        print(A[i])"
   ]
  },
  {
   "cell_type": "markdown",
   "metadata": {},
   "source": [
    "### Multiplicacion de matrices:"
   ]
  },
  {
   "cell_type": "code",
   "execution_count": 20,
   "metadata": {},
   "outputs": [],
   "source": [
    "#Creando función que multiplica matices.\n",
    "def mxm(n,m,v,A,B,C):\n",
    "    for i in range(n):\n",
    "        a=[]\n",
    "        for j in range(v):\n",
    "            sum=float(0)\n",
    "            for k in range(m):\n",
    "                sum=(A[i][k]*B[k][j])+sum\n",
    "            a.append(sum)\n",
    "        C.append(a)"
   ]
  },
  {
   "cell_type": "code",
   "execution_count": 26,
   "metadata": {},
   "outputs": [
    {
     "name": "stdout",
     "output_type": "stream",
     "text": [
      "Matriz 1 de nxm: \n",
      "Num. de filas n: 2\n",
      "Numero de columnas m: 2\n",
      "1 1 = 2\n",
      "1 2 = 3\n",
      "2 1 = 4\n",
      "2 2 = 5\n",
      "Matriz 2 mxp: \n",
      "Num. de filas m: 6\n",
      "Num. de Columnasp: 5\n",
      "La multiplicacion no se puede realizar.\n"
     ]
    }
   ],
   "source": [
    "#Cuerpo del programa.\n",
    "\n",
    "M1=[]\n",
    "M2=[]\n",
    "M3=[] \n",
    "\n",
    "n,m=int(input('Matriz 1 de nxm: \\nNum. de filas n: ')), int(input('Numero de columnas m: '))\n",
    "fullmx(n,m,M1)\n",
    "u,v=int(input('Matriz 2 mxp: \\nNum. de filas m: ')), int(input('Num. de Columnasp: '))\n",
    "if m!=u:\n",
    "        print('La multiplicación no se puede realizar.\\n')\n",
    "        print('El número de columnas de la matriz 1 debe ser igual al número de filas de la Matriz 2.\\n')\n",
    "else:\n",
    "        fullmx(u,v,M2)\n",
    "        mxm(n,m,v,M1,M2,M3)\n",
    "        print('\\nMatriz Resultante=\\n')\n",
    "        prmx(M3)"
   ]
  },
  {
   "cell_type": "markdown",
   "metadata": {},
   "source": [
    "##### m=int(input())\n",
    "n=int(input())\n"
   ]
  },
  {
   "cell_type": "markdown",
   "metadata": {},
   "source": [
    "## GRAFICAS"
   ]
  },
  {
   "cell_type": "code",
   "execution_count": null,
   "metadata": {},
   "outputs": [],
   "source": []
  }
 ],
 "metadata": {
  "kernelspec": {
   "display_name": "Python 3",
   "language": "python",
   "name": "python3"
  },
  "language_info": {
   "codemirror_mode": {
    "name": "ipython",
    "version": 3
   },
   "file_extension": ".py",
   "mimetype": "text/x-python",
   "name": "python",
   "nbconvert_exporter": "python",
   "pygments_lexer": "ipython3",
   "version": "3.6.5"
  }
 },
 "nbformat": 4,
 "nbformat_minor": 2
}
