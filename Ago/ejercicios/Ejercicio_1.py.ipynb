{
 "cells": [
  {
   "cell_type": "markdown",
   "metadata": {},
   "source": [
    "# Ejercicio 1 en Python"
   ]
  },
  {
   "cell_type": "code",
   "execution_count": 1,
   "metadata": {},
   "outputs": [],
   "source": [
    "import matplotlib. pyplot as plt\n",
    "import numpy as np\n",
    "import random\n",
    "%matplotlib inline"
   ]
  },
  {
   "cell_type": "markdown",
   "metadata": {},
   "source": [
    "## MATRICES:"
   ]
  },
  {
   "cell_type": "markdown",
   "metadata": {},
   "source": [
    "### funciones utiles:"
   ]
  },
  {
   "cell_type": "code",
   "execution_count": 2,
   "metadata": {},
   "outputs": [],
   "source": [
    "#Creando función para llenado de matrices.\n",
    "def fillmx(n,m,A):\n",
    "    for i in range(n):\n",
    "        a=[] #se creea una lista que corresponde a cada fila de la matriz.\n",
    "        for j in range(m):\n",
    "            print(i+1,j+1, end=' = ')\n",
    "            a.append(float(input())) #El usuario insertará los datos.\n",
    "        A.append(a) "
   ]
  },
  {
   "cell_type": "code",
   "execution_count": 3,
   "metadata": {},
   "outputs": [],
   "source": [
    "#Creando función para imprimir matriz.\n",
    "def prmx(A):\n",
    "    for i in range(len(A)):\n",
    "        print(A[i])"
   ]
  },
  {
   "cell_type": "markdown",
   "metadata": {},
   "source": [
    "### Multiplicacion de matrices:"
   ]
  },
  {
   "cell_type": "code",
   "execution_count": 4,
   "metadata": {},
   "outputs": [],
   "source": [
    "#Creando función que multiplica matices.\n",
    "\n",
    "def mxm(n,m,v,A,B):\n",
    "    C=[]\n",
    "    for i in range(n):\n",
    "        a=[]   #Crea una lista que corresponde a cada fila de la matriz.\n",
    "        for j in range(v):\n",
    "            sum=float(0)   #Acomulador de las sumas de multiplicación de elementos de matriz. \n",
    "            for k in range(m):\n",
    "                sum=(A[i][k]*B[k][j])+sum\n",
    "            a.append(sum)\n",
    "        C.append(a)\n",
    "    return C"
   ]
  },
  {
   "cell_type": "code",
   "execution_count": 5,
   "metadata": {},
   "outputs": [
    {
     "name": "stdout",
     "output_type": "stream",
     "text": [
      "Matriz 1 de nxm: \n",
      "Num. de filas n: 3\n",
      "Numero de columnas m: 3\n",
      "1 1 = 1\n",
      "1 2 = 2\n",
      "1 3 = 3\n",
      "2 1 = 4\n",
      "2 2 = 5\n",
      "2 3 = 6\n",
      "3 1 = 7\n",
      "3 2 = 8\n",
      "3 3 = 9\n",
      "Matriz 2 mxp: \n",
      "Num. de filas m: 3\n",
      "Num. de Columnas p: 3\n",
      "1 1 = 1\n",
      "1 2 = 2\n",
      "1 3 = 3\n",
      "2 1 = 4\n",
      "2 2 = 5\n",
      "2 3 = 6\n",
      "3 1 = 7\n",
      "3 2 = 8\n",
      "3 3 = 9\n",
      "\n",
      "Matriz Resultante=\n",
      "\n",
      "[30.0, 36.0, 42.0]\n",
      "[66.0, 81.0, 96.0]\n",
      "[102.0, 126.0, 150.0]\n"
     ]
    }
   ],
   "source": [
    "#Cuerpo del programa Multiplicación de matrices.\n",
    "\n",
    "M1=[]\n",
    "M2=[]\n",
    "M3=[] \n",
    "\n",
    "n=int(input('Matriz 1 de nxm: \\nNum. de filas n: '))   #El usuario ingresa el tamaño de la matriz.\n",
    "m=int(input('Numero de columnas m: '))  \n",
    "fillmx(n,m,M1)   #El usuario llena la matriz. \n",
    "u=int(input('Matriz 2 mxp: \\nNum. de filas m: '))\n",
    "v=int(input('Num. de Columnas p: '))\n",
    "if m!=u:\n",
    "        print('La multiplicación no se puede realizar.\\n')\n",
    "        print('El número de columnas de la matriz 1 debe ser igual al número de filas de la Matriz 2.\\n')\n",
    "else:\n",
    "        fillmx(u,v,M2)   #El usuario llena la matriz.\n",
    "        M3=mxm(n,m,v,M1,M2)   #Se hace la multiplicación\n",
    "        print('\\nMatriz Resultante=\\n')\n",
    "        prmx(M3)   #Se imprime la matriz resultante."
   ]
  },
  {
   "cell_type": "markdown",
   "metadata": {},
   "source": [
    "### Determinante de una matriz:"
   ]
  },
  {
   "cell_type": "code",
   "execution_count": 6,
   "metadata": {},
   "outputs": [],
   "source": [
    "#Creando función determinante:\n",
    "\n",
    "def det(A):\n",
    "    i=0\n",
    "    j=0\n",
    "    k=0\n",
    "    sum=0   #acomulador de suma.\n",
    "    if len(A[0]) == 2:   #Determinante de una matriz 2x2.\n",
    "        sum=((A[0][0]*A[1][1])-(A[0][1]*A[1][0]))  \n",
    "        \n",
    "    if len(A[0])>2:   #Si la matriz A es nxn con n>2 el determinante es más complejo.\n",
    "        for k in range(len(A[0])):   #La cantidad de números (multiplicando el subdeterminate) que se suman es el número de columnas de la matriz.\n",
    "            B=[]   #Se crea una matriz de cofactores B de (n-1)x(n-1) para tambien obtener su deteminante.\n",
    "            for i in range(len(A[0])-1):   \n",
    "                a=[]\n",
    "                for j in range(len(A[0])-1):\n",
    "                    if k<=j:\n",
    "                        a.append(A[i+1][j+1])   \n",
    "                    if k>j:\n",
    "                        a.append(A[i+1][j])\n",
    "                B.append(a)\n",
    "            if k%2==0:   #Si k (el número de columna de A) es par incluyendo el cero entonces el signo es positivo\n",
    "                sum=sum+((A[0][k])*det(B))\n",
    "            if k%2!=0:   #Si k (el número de columna de A) es par incluyendo el cero entonces el signo es negativo\n",
    "                sum=sum-((A[0][k])*det(B))\n",
    "    return sum"
   ]
  },
  {
   "cell_type": "code",
   "execution_count": 7,
   "metadata": {},
   "outputs": [
    {
     "name": "stdout",
     "output_type": "stream",
     "text": [
      "Matriz cuadrada de nxn:\n",
      "n:  3\n",
      "1 1 = 1\n",
      "1 2 = 2\n",
      "1 3 = 3\n",
      "2 1 = 2\n",
      "2 2 = 3\n",
      "2 3 = 1\n",
      "3 1 = 3\n",
      "3 2 = 1\n",
      "3 3 = 2\n",
      "[1.0, 2.0, 3.0]\n",
      "[2.0, 3.0, 1.0]\n",
      "[3.0, 1.0, 2.0]\n",
      "\n",
      "El determinante de la matriz es:  -18.0\n"
     ]
    }
   ],
   "source": [
    "#Cuerpo del programa Determinante  \n",
    "M=[]\n",
    "n=int(input('Matriz cuadrada de nxn:\\nn:  '))\n",
    "fillmx(n,n,M)\n",
    "prmx(M)\n",
    "print('\\nEl determinante de la matriz es: ',det(M))"
   ]
  },
  {
   "cell_type": "markdown",
   "metadata": {},
   "source": [
    "### GRAFICAS:"
   ]
  },
  {
   "cell_type": "code",
   "execution_count": 8,
   "metadata": {},
   "outputs": [
    {
     "data": {
      "image/png": "[encoded data removed]",
      "text/plain": [
       "<Figure size 432x288 with 1 Axes>"
      ]
     },
     "metadata": {},
     "output_type": "display_data"
    }
   ],
   "source": [
    "#Graficar un círculo.\n",
    "t=np.arange(0,1.01,0.01) #arreglo de 0 a 1 incrementando 0.01 \n",
    "x=np.cos(2*np.pi*t) #parametrización del círculo\n",
    "y=np.sin(2*np.pi*t)\n",
    "plt.plot(x,y,'r')\n",
    "plt.fill_between(x,y,color='g') #Rellena el círculo de color g=green\n",
    "plt.show()"
   ]
  },
  {
   "cell_type": "code",
   "execution_count": 9,
   "metadata": {},
   "outputs": [
    {
     "data": {
      "image/png": "[encoded data removed]",
      "text/plain": [
       "<Figure size 432x288 with 1 Axes>"
      ]
     },
     "metadata": {},
     "output_type": "display_data"
    }
   ],
   "source": [
    "#Puntos Aleatorios.\n",
    "u=np.arange(0,1.01,0.01)   #llena un arreglo de 0 a 1.01 incrementando en 0.01\n",
    "v=np.arange(0,1.01,0.01)\n",
    "random.shuffle(u)  #Mueve aleatoriamente los datos en el arreglo u\n",
    "random.shuffle(v)\n",
    "plt.text(0.03,0.8,'Puntos al aleatorios')\n",
    "plt.plot(u,v,'g*')\n",
    "plt.show()"
   ]
  },
  {
   "cell_type": "code",
   "execution_count": null,
   "metadata": {},
   "outputs": [],
   "source": []
  }
 ],
 "metadata": {
  "kernelspec": {
   "display_name": "Python 3",
   "language": "python",
   "name": "python3"
  },
  "language_info": {
   "codemirror_mode": {
    "name": "ipython",
    "version": 3
   },
   "file_extension": ".py",
   "mimetype": "text/x-python",
   "name": "python",
   "nbconvert_exporter": "python",
   "pygments_lexer": "ipython3",
   "version": "3.6.5"
  }
 },
 "nbformat": 4,
 "nbformat_minor": 2
}
