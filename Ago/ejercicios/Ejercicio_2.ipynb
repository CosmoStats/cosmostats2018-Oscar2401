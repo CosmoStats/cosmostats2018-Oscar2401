{
 "cells": [
  {
   "cell_type": "markdown",
   "metadata": {},
   "source": [
    "# Metodo de Minimos Cuadrados"
   ]
  },
  {
   "cell_type": "markdown",
   "metadata": {},
   "source": [
    " Se ralizo el codigo para hacel el metodo de minimos cuadrados. "
   ]
  },
  {
   "cell_type": "code",
   "execution_count": 4,
   "metadata": {},
   "outputs": [],
   "source": [
    "import matplotlib. pyplot as plt\n",
    "import numpy as np"
   ]
  },
  {
   "cell_type": "code",
   "execution_count": 5,
   "metadata": {},
   "outputs": [],
   "source": [
    "#Función para introducir los valores de los datos experimentales.\n",
    "def intval(n,A): \n",
    "    for i in range(n):\n",
    "        print(i+1, end=' = ')\n",
    "        A.append(float(input()))"
   ]
  },
  {
   "cell_type": "code",
   "execution_count": 6,
   "metadata": {},
   "outputs": [],
   "source": [
    "#Función para calcular promedio de los datos.\n",
    "def promedio(A):\n",
    "    ac=0\n",
    "    for i in range(len(A)):\n",
    "        ac=A[i]+ac\n",
    "    return ac/len(A)"
   ]
  },
  {
   "cell_type": "code",
   "execution_count": 7,
   "metadata": {},
   "outputs": [],
   "source": [
    "#Función para calcular m (pendiente) de la recta.\n",
    "def pendiente(A,B):\n",
    "    ac1=0\n",
    "    ac2=0\n",
    "    for i in range(len(A)):\n",
    "        ac1=A[i]*(B[i]-promedio(B))+ac1\n",
    "    for i in range(len(A)):\n",
    "        ac2=A[i]*(A[i]-promedio(A))+ac2\n",
    "    return ac1/ac2"
   ]
  },
  {
   "cell_type": "code",
   "execution_count": 15,
   "metadata": {},
   "outputs": [],
   "source": [
    "#Función para calcular b (interseccion con el eje y) de la recta.\n",
    "def numb(A,B):\n",
    "    return promedio(B)-(pendiente(A,B)*promedio(A))"
   ]
  },
  {
   "cell_type": "code",
   "execution_count": 16,
   "metadata": {},
   "outputs": [
    {
     "name": "stdout",
     "output_type": "stream",
     "text": [
      "Numero de datos que obtuviste:\n",
      "20\n",
      "Valores de X: \n",
      "1 = 1\n",
      "2 = 2\n",
      "3 = 3\n",
      "4 = 4\n",
      "5 = 5\n",
      "6 = 6\n",
      "7 = 7\n",
      "8 = 8\n",
      "9 = 9\n",
      "10 = 10\n",
      "11 = 11\n",
      "12 = 12\n",
      "13 = 13\n",
      "14 = 14\n",
      "15 = 15\n",
      "16 = 16\n",
      "17 = 17\n",
      "18 = 18\n",
      "19 = 19\n",
      "20 = 20\n",
      "Valores de Y: \n",
      "1 = -3\n",
      "2 = -2.5\n",
      "3 = -2.3\n",
      "4 = -1.1\n",
      "5 = -0.4\n",
      "6 = 0.5\n",
      "7 = 1.2\n",
      "8 = 2\n",
      "9 = 3.5\n",
      "10 = 3.9\n",
      "11 = 4.6\n",
      "12 = 5\n",
      "13 = 6\n",
      "14 = 6.8\n",
      "15 = 7.4\n",
      "16 = 8.9\n",
      "17 = 9\n",
      "18 = 10.8\n",
      "19 = 10.9\n",
      "20 = 11.3\n",
      "\n",
      " Ecuación: y 0.7940601503759398 x +  -4.212631578947368\n"
     ]
    }
   ],
   "source": [
    "#Cuerpo del programa.\n",
    "X=[]\n",
    "Y=[]\n",
    "ndat=0 \n",
    "print('Numero de datos que obtuviste:')\n",
    "ndat=int(input())\n",
    "print('Valores de X: ')\n",
    "intval(ndat,X)\n",
    "print('Valores de Y: ')\n",
    "intval(ndat,Y)\n",
    "m=pendiente(X,Y)\n",
    "b=numb(X,Y)\n",
    "print('\\n Ecuación: y =', m, 'x ', b)"
   ]
  },
  {
   "cell_type": "code",
   "execution_count": 17,
   "metadata": {},
   "outputs": [
    {
     "data": {
      "text/plain": [
       "[<matplotlib.lines.Line2D at 0x7f08b8f85470>,\n",
       " <matplotlib.lines.Line2D at 0x7f08b8f855f8>]"
      ]
     },
     "execution_count": 17,
     "metadata": {},
     "output_type": "execute_result"
    },
    {
     "data": {
      "image/png": "[encoded data removed]",
      "text/plain": [
       "<Figure size 432x288 with 1 Axes>"
      ]
     },
     "metadata": {},
     "output_type": "display_data"
    }
   ],
   "source": [
    "t = np.arange(X[0], len(X), 0.01)\n",
    "f=m*t+b\n",
    "plt.plot(X, Y, 'ro',t,f,lw=2)"
   ]
  }
 ],
 "metadata": {
  "kernelspec": {
   "display_name": "Python 3",
   "language": "python",
   "name": "python3"
  },
  "language_info": {
   "codemirror_mode": {
    "name": "ipython",
    "version": 3
   },
   "file_extension": ".py",
   "mimetype": "text/x-python",
   "name": "python",
   "nbconvert_exporter": "python",
   "pygments_lexer": "ipython3",
   "version": "3.6.5"
  }
 },
 "nbformat": 4,
 "nbformat_minor": 2
}
